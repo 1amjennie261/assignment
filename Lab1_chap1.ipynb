{
  "cells": [
    {
      "cell_type": "markdown",
      "metadata": {
        "id": "view-in-github",
        "colab_type": "text"
      },
      "source": [
        "<a href=\"https://colab.research.google.com/github/1amjennie261/assignment/blob/main/Lab1_chap1.ipynb\" target=\"_parent\"><img src=\"https://colab.research.google.com/assets/colab-badge.svg\" alt=\"Open In Colab\"/></a>"
      ]
    },
    {
      "cell_type": "markdown",
      "metadata": {
        "id": "lyIPh1SZjKww"
      },
      "source": [
        "### The following codes are from Natural Language Processing with Python, by Steven Bird, Ewan Klein, and Edward Loper. O'Reilly Media, 978-0-596-51649-9"
      ]
    },
    {
      "cell_type": "markdown",
      "metadata": {
        "id": "_vYS2AY6jKwx"
      },
      "source": [
        "### 1. Computing with Language: Texts and Words"
      ]
    },
    {
      "cell_type": "markdown",
      "metadata": {
        "id": "rBNDkOxajKwx"
      },
      "source": [
        "### 1.1 Getting Started with Python"
      ]
    },
    {
      "cell_type": "markdown",
      "metadata": {
        "id": "5rmIQvCcjKwx"
      },
      "source": [
        "#### Exercise 1:Enter two more expressions of your own. You can use asterisk (*) for multiplication and slash (/) for division, and parentheses for bracketing expressions"
      ]
    },
    {
      "cell_type": "code",
      "execution_count": 59,
      "metadata": {
        "colab": {
          "base_uri": "https://localhost:8080/"
        },
        "id": "ICbyGJAsjKwy",
        "outputId": "e7f1fc38-fff3-4e0f-a668-1bb40cf10a52"
      },
      "outputs": [
        {
          "output_type": "execute_result",
          "data": {
            "text/plain": [
              "0.01"
            ]
          },
          "metadata": {},
          "execution_count": 59
        }
      ],
      "source": [
        "1/100"
      ]
    },
    {
      "cell_type": "code",
      "execution_count": 60,
      "metadata": {
        "colab": {
          "base_uri": "https://localhost:8080/"
        },
        "id": "SSeP-ei3jKwy",
        "outputId": "030eeb13-5641-465c-96f0-0547d4aab942"
      },
      "outputs": [
        {
          "output_type": "execute_result",
          "data": {
            "text/plain": [
              "1499518674"
            ]
          },
          "metadata": {},
          "execution_count": 60
        }
      ],
      "source": [
        "3*499839558"
      ]
    },
    {
      "cell_type": "code",
      "execution_count": null,
      "metadata": {
        "id": "BebERTHAjKwy"
      },
      "outputs": [],
      "source": []
    },
    {
      "cell_type": "code",
      "execution_count": null,
      "metadata": {
        "id": "gedFlzfljKwy"
      },
      "outputs": [],
      "source": []
    },
    {
      "cell_type": "markdown",
      "metadata": {
        "id": "supzZ025jKwy"
      },
      "source": [
        "### 1.2 Getting Started with NLTK"
      ]
    },
    {
      "cell_type": "code",
      "execution_count": null,
      "metadata": {
        "id": "nfZIq-4XjKwz"
      },
      "outputs": [],
      "source": [
        "# You should install nltk first (slides)"
      ]
    },
    {
      "cell_type": "code",
      "execution_count": null,
      "metadata": {
        "id": "0c3pIMukjKwz"
      },
      "outputs": [],
      "source": [
        "# Have you installed nltk successfully? (Poll)"
      ]
    },
    {
      "cell_type": "code",
      "execution_count": 1,
      "metadata": {
        "id": "cwTNPfZyjKwz"
      },
      "outputs": [],
      "source": [
        "import nltk"
      ]
    },
    {
      "cell_type": "code",
      "execution_count": null,
      "metadata": {
        "scrolled": true,
        "id": "MKbj42_YjKw0"
      },
      "outputs": [],
      "source": [
        "# Downloading the NLTK Book Collection: browse the available packages using nltk.download()\n",
        "nltk.download()"
      ]
    },
    {
      "cell_type": "code",
      "execution_count": null,
      "metadata": {
        "id": "w4aY6oFmjKw0"
      },
      "outputs": [],
      "source": [
        "# Have you downloaded all the NLTK book collection?"
      ]
    },
    {
      "cell_type": "code",
      "source": [
        "nltk.download(\"all\")"
      ],
      "metadata": {
        "colab": {
          "base_uri": "https://localhost:8080/"
        },
        "id": "92ywO21VjVEX",
        "outputId": "ff50f671-5540-473f-9cb6-f7b51ace1646"
      },
      "execution_count": 2,
      "outputs": [
        {
          "output_type": "stream",
          "name": "stderr",
          "text": [
            "[nltk_data] Downloading collection 'all'\n",
            "[nltk_data]    | \n",
            "[nltk_data]    | Downloading package abc to /root/nltk_data...\n",
            "[nltk_data]    |   Unzipping corpora/abc.zip.\n",
            "[nltk_data]    | Downloading package alpino to /root/nltk_data...\n",
            "[nltk_data]    |   Unzipping corpora/alpino.zip.\n",
            "[nltk_data]    | Downloading package averaged_perceptron_tagger to\n",
            "[nltk_data]    |     /root/nltk_data...\n",
            "[nltk_data]    |   Unzipping taggers/averaged_perceptron_tagger.zip.\n",
            "[nltk_data]    | Downloading package averaged_perceptron_tagger_eng to\n",
            "[nltk_data]    |     /root/nltk_data...\n",
            "[nltk_data]    |   Unzipping\n",
            "[nltk_data]    |       taggers/averaged_perceptron_tagger_eng.zip.\n",
            "[nltk_data]    | Downloading package averaged_perceptron_tagger_ru to\n",
            "[nltk_data]    |     /root/nltk_data...\n",
            "[nltk_data]    |   Unzipping\n",
            "[nltk_data]    |       taggers/averaged_perceptron_tagger_ru.zip.\n",
            "[nltk_data]    | Downloading package averaged_perceptron_tagger_rus to\n",
            "[nltk_data]    |     /root/nltk_data...\n",
            "[nltk_data]    |   Unzipping\n",
            "[nltk_data]    |       taggers/averaged_perceptron_tagger_rus.zip.\n",
            "[nltk_data]    | Downloading package basque_grammars to\n",
            "[nltk_data]    |     /root/nltk_data...\n",
            "[nltk_data]    |   Unzipping grammars/basque_grammars.zip.\n",
            "[nltk_data]    | Downloading package bcp47 to /root/nltk_data...\n",
            "[nltk_data]    | Downloading package biocreative_ppi to\n",
            "[nltk_data]    |     /root/nltk_data...\n",
            "[nltk_data]    |   Unzipping corpora/biocreative_ppi.zip.\n",
            "[nltk_data]    | Downloading package bllip_wsj_no_aux to\n",
            "[nltk_data]    |     /root/nltk_data...\n",
            "[nltk_data]    |   Unzipping models/bllip_wsj_no_aux.zip.\n",
            "[nltk_data]    | Downloading package book_grammars to\n",
            "[nltk_data]    |     /root/nltk_data...\n",
            "[nltk_data]    |   Unzipping grammars/book_grammars.zip.\n",
            "[nltk_data]    | Downloading package brown to /root/nltk_data...\n",
            "[nltk_data]    |   Unzipping corpora/brown.zip.\n",
            "[nltk_data]    | Downloading package brown_tei to /root/nltk_data...\n",
            "[nltk_data]    |   Unzipping corpora/brown_tei.zip.\n",
            "[nltk_data]    | Downloading package cess_cat to /root/nltk_data...\n",
            "[nltk_data]    |   Unzipping corpora/cess_cat.zip.\n",
            "[nltk_data]    | Downloading package cess_esp to /root/nltk_data...\n",
            "[nltk_data]    |   Unzipping corpora/cess_esp.zip.\n",
            "[nltk_data]    | Downloading package chat80 to /root/nltk_data...\n",
            "[nltk_data]    |   Unzipping corpora/chat80.zip.\n",
            "[nltk_data]    | Downloading package city_database to\n",
            "[nltk_data]    |     /root/nltk_data...\n",
            "[nltk_data]    |   Unzipping corpora/city_database.zip.\n",
            "[nltk_data]    | Downloading package cmudict to /root/nltk_data...\n",
            "[nltk_data]    |   Unzipping corpora/cmudict.zip.\n",
            "[nltk_data]    | Downloading package comparative_sentences to\n",
            "[nltk_data]    |     /root/nltk_data...\n",
            "[nltk_data]    |   Unzipping corpora/comparative_sentences.zip.\n",
            "[nltk_data]    | Downloading package comtrans to /root/nltk_data...\n",
            "[nltk_data]    | Downloading package conll2000 to /root/nltk_data...\n",
            "[nltk_data]    |   Unzipping corpora/conll2000.zip.\n",
            "[nltk_data]    | Downloading package conll2002 to /root/nltk_data...\n",
            "[nltk_data]    |   Unzipping corpora/conll2002.zip.\n",
            "[nltk_data]    | Downloading package conll2007 to /root/nltk_data...\n",
            "[nltk_data]    | Downloading package crubadan to /root/nltk_data...\n",
            "[nltk_data]    |   Unzipping corpora/crubadan.zip.\n",
            "[nltk_data]    | Downloading package dependency_treebank to\n",
            "[nltk_data]    |     /root/nltk_data...\n",
            "[nltk_data]    |   Unzipping corpora/dependency_treebank.zip.\n",
            "[nltk_data]    | Downloading package dolch to /root/nltk_data...\n",
            "[nltk_data]    |   Unzipping corpora/dolch.zip.\n",
            "[nltk_data]    | Downloading package europarl_raw to\n",
            "[nltk_data]    |     /root/nltk_data...\n",
            "[nltk_data]    |   Unzipping corpora/europarl_raw.zip.\n",
            "[nltk_data]    | Downloading package extended_omw to\n",
            "[nltk_data]    |     /root/nltk_data...\n",
            "[nltk_data]    | Downloading package floresta to /root/nltk_data...\n",
            "[nltk_data]    |   Unzipping corpora/floresta.zip.\n",
            "[nltk_data]    | Downloading package framenet_v15 to\n",
            "[nltk_data]    |     /root/nltk_data...\n",
            "[nltk_data]    |   Unzipping corpora/framenet_v15.zip.\n",
            "[nltk_data]    | Downloading package framenet_v17 to\n",
            "[nltk_data]    |     /root/nltk_data...\n",
            "[nltk_data]    |   Unzipping corpora/framenet_v17.zip.\n",
            "[nltk_data]    | Downloading package gazetteers to /root/nltk_data...\n",
            "[nltk_data]    |   Unzipping corpora/gazetteers.zip.\n",
            "[nltk_data]    | Downloading package genesis to /root/nltk_data...\n",
            "[nltk_data]    |   Unzipping corpora/genesis.zip.\n",
            "[nltk_data]    | Downloading package gutenberg to /root/nltk_data...\n",
            "[nltk_data]    |   Unzipping corpora/gutenberg.zip.\n",
            "[nltk_data]    | Downloading package ieer to /root/nltk_data...\n",
            "[nltk_data]    |   Unzipping corpora/ieer.zip.\n",
            "[nltk_data]    | Downloading package inaugural to /root/nltk_data...\n",
            "[nltk_data]    |   Unzipping corpora/inaugural.zip.\n",
            "[nltk_data]    | Downloading package indian to /root/nltk_data...\n",
            "[nltk_data]    |   Unzipping corpora/indian.zip.\n",
            "[nltk_data]    | Downloading package jeita to /root/nltk_data...\n",
            "[nltk_data]    | Downloading package kimmo to /root/nltk_data...\n",
            "[nltk_data]    |   Unzipping corpora/kimmo.zip.\n",
            "[nltk_data]    | Downloading package knbc to /root/nltk_data...\n",
            "[nltk_data]    | Downloading package large_grammars to\n",
            "[nltk_data]    |     /root/nltk_data...\n",
            "[nltk_data]    |   Unzipping grammars/large_grammars.zip.\n",
            "[nltk_data]    | Downloading package lin_thesaurus to\n",
            "[nltk_data]    |     /root/nltk_data...\n",
            "[nltk_data]    |   Unzipping corpora/lin_thesaurus.zip.\n",
            "[nltk_data]    | Downloading package mac_morpho to /root/nltk_data...\n",
            "[nltk_data]    |   Unzipping corpora/mac_morpho.zip.\n",
            "[nltk_data]    | Downloading package machado to /root/nltk_data...\n",
            "[nltk_data]    | Downloading package masc_tagged to /root/nltk_data...\n",
            "[nltk_data]    | Downloading package maxent_ne_chunker to\n",
            "[nltk_data]    |     /root/nltk_data...\n",
            "[nltk_data]    |   Unzipping chunkers/maxent_ne_chunker.zip.\n",
            "[nltk_data]    | Downloading package maxent_ne_chunker_tab to\n",
            "[nltk_data]    |     /root/nltk_data...\n",
            "[nltk_data]    |   Unzipping chunkers/maxent_ne_chunker_tab.zip.\n",
            "[nltk_data]    | Downloading package maxent_treebank_pos_tagger to\n",
            "[nltk_data]    |     /root/nltk_data...\n",
            "[nltk_data]    |   Unzipping taggers/maxent_treebank_pos_tagger.zip.\n",
            "[nltk_data]    | Downloading package maxent_treebank_pos_tagger_tab to\n",
            "[nltk_data]    |     /root/nltk_data...\n",
            "[nltk_data]    |   Unzipping\n",
            "[nltk_data]    |       taggers/maxent_treebank_pos_tagger_tab.zip.\n",
            "[nltk_data]    | Downloading package moses_sample to\n",
            "[nltk_data]    |     /root/nltk_data...\n",
            "[nltk_data]    |   Unzipping models/moses_sample.zip.\n",
            "[nltk_data]    | Downloading package movie_reviews to\n",
            "[nltk_data]    |     /root/nltk_data...\n",
            "[nltk_data]    |   Unzipping corpora/movie_reviews.zip.\n",
            "[nltk_data]    | Downloading package mte_teip5 to /root/nltk_data...\n",
            "[nltk_data]    |   Unzipping corpora/mte_teip5.zip.\n",
            "[nltk_data]    | Downloading package mwa_ppdb to /root/nltk_data...\n",
            "[nltk_data]    |   Unzipping misc/mwa_ppdb.zip.\n",
            "[nltk_data]    | Downloading package names to /root/nltk_data...\n",
            "[nltk_data]    |   Unzipping corpora/names.zip.\n",
            "[nltk_data]    | Downloading package nombank.1.0 to /root/nltk_data...\n",
            "[nltk_data]    | Downloading package nonbreaking_prefixes to\n",
            "[nltk_data]    |     /root/nltk_data...\n",
            "[nltk_data]    |   Unzipping corpora/nonbreaking_prefixes.zip.\n",
            "[nltk_data]    | Downloading package nps_chat to /root/nltk_data...\n",
            "[nltk_data]    |   Unzipping corpora/nps_chat.zip.\n",
            "[nltk_data]    | Downloading package omw to /root/nltk_data...\n",
            "[nltk_data]    | Downloading package omw-1.4 to /root/nltk_data...\n",
            "[nltk_data]    | Downloading package opinion_lexicon to\n",
            "[nltk_data]    |     /root/nltk_data...\n",
            "[nltk_data]    |   Unzipping corpora/opinion_lexicon.zip.\n",
            "[nltk_data]    | Downloading package panlex_swadesh to\n",
            "[nltk_data]    |     /root/nltk_data...\n",
            "[nltk_data]    | Downloading package paradigms to /root/nltk_data...\n",
            "[nltk_data]    |   Unzipping corpora/paradigms.zip.\n",
            "[nltk_data]    | Downloading package pe08 to /root/nltk_data...\n",
            "[nltk_data]    |   Unzipping corpora/pe08.zip.\n",
            "[nltk_data]    | Downloading package perluniprops to\n",
            "[nltk_data]    |     /root/nltk_data...\n",
            "[nltk_data]    |   Unzipping misc/perluniprops.zip.\n",
            "[nltk_data]    | Downloading package pil to /root/nltk_data...\n",
            "[nltk_data]    |   Unzipping corpora/pil.zip.\n",
            "[nltk_data]    | Downloading package pl196x to /root/nltk_data...\n",
            "[nltk_data]    |   Unzipping corpora/pl196x.zip.\n",
            "[nltk_data]    | Downloading package porter_test to /root/nltk_data...\n",
            "[nltk_data]    |   Unzipping stemmers/porter_test.zip.\n",
            "[nltk_data]    | Downloading package ppattach to /root/nltk_data...\n",
            "[nltk_data]    |   Unzipping corpora/ppattach.zip.\n",
            "[nltk_data]    | Downloading package problem_reports to\n",
            "[nltk_data]    |     /root/nltk_data...\n",
            "[nltk_data]    |   Unzipping corpora/problem_reports.zip.\n",
            "[nltk_data]    | Downloading package product_reviews_1 to\n",
            "[nltk_data]    |     /root/nltk_data...\n",
            "[nltk_data]    |   Unzipping corpora/product_reviews_1.zip.\n",
            "[nltk_data]    | Downloading package product_reviews_2 to\n",
            "[nltk_data]    |     /root/nltk_data...\n",
            "[nltk_data]    |   Unzipping corpora/product_reviews_2.zip.\n",
            "[nltk_data]    | Downloading package propbank to /root/nltk_data...\n",
            "[nltk_data]    | Downloading package pros_cons to /root/nltk_data...\n",
            "[nltk_data]    |   Unzipping corpora/pros_cons.zip.\n",
            "[nltk_data]    | Downloading package ptb to /root/nltk_data...\n",
            "[nltk_data]    |   Unzipping corpora/ptb.zip.\n",
            "[nltk_data]    | Downloading package punkt to /root/nltk_data...\n",
            "[nltk_data]    |   Unzipping tokenizers/punkt.zip.\n",
            "[nltk_data]    | Downloading package punkt_tab to /root/nltk_data...\n",
            "[nltk_data]    |   Unzipping tokenizers/punkt_tab.zip.\n",
            "[nltk_data]    | Downloading package qc to /root/nltk_data...\n",
            "[nltk_data]    |   Unzipping corpora/qc.zip.\n",
            "[nltk_data]    | Downloading package reuters to /root/nltk_data...\n",
            "[nltk_data]    | Downloading package rslp to /root/nltk_data...\n",
            "[nltk_data]    |   Unzipping stemmers/rslp.zip.\n",
            "[nltk_data]    | Downloading package rte to /root/nltk_data...\n",
            "[nltk_data]    |   Unzipping corpora/rte.zip.\n",
            "[nltk_data]    | Downloading package sample_grammars to\n",
            "[nltk_data]    |     /root/nltk_data...\n",
            "[nltk_data]    |   Unzipping grammars/sample_grammars.zip.\n",
            "[nltk_data]    | Downloading package semcor to /root/nltk_data...\n",
            "[nltk_data]    | Downloading package senseval to /root/nltk_data...\n",
            "[nltk_data]    |   Unzipping corpora/senseval.zip.\n",
            "[nltk_data]    | Downloading package sentence_polarity to\n",
            "[nltk_data]    |     /root/nltk_data...\n",
            "[nltk_data]    |   Unzipping corpora/sentence_polarity.zip.\n",
            "[nltk_data]    | Downloading package sentiwordnet to\n",
            "[nltk_data]    |     /root/nltk_data...\n",
            "[nltk_data]    |   Unzipping corpora/sentiwordnet.zip.\n",
            "[nltk_data]    | Downloading package shakespeare to /root/nltk_data...\n",
            "[nltk_data]    |   Unzipping corpora/shakespeare.zip.\n",
            "[nltk_data]    | Downloading package sinica_treebank to\n",
            "[nltk_data]    |     /root/nltk_data...\n",
            "[nltk_data]    |   Unzipping corpora/sinica_treebank.zip.\n",
            "[nltk_data]    | Downloading package smultron to /root/nltk_data...\n",
            "[nltk_data]    |   Unzipping corpora/smultron.zip.\n",
            "[nltk_data]    | Downloading package snowball_data to\n",
            "[nltk_data]    |     /root/nltk_data...\n",
            "[nltk_data]    | Downloading package spanish_grammars to\n",
            "[nltk_data]    |     /root/nltk_data...\n",
            "[nltk_data]    |   Unzipping grammars/spanish_grammars.zip.\n",
            "[nltk_data]    | Downloading package state_union to /root/nltk_data...\n",
            "[nltk_data]    |   Unzipping corpora/state_union.zip.\n",
            "[nltk_data]    | Downloading package stopwords to /root/nltk_data...\n",
            "[nltk_data]    |   Unzipping corpora/stopwords.zip.\n",
            "[nltk_data]    | Downloading package subjectivity to\n",
            "[nltk_data]    |     /root/nltk_data...\n",
            "[nltk_data]    |   Unzipping corpora/subjectivity.zip.\n",
            "[nltk_data]    | Downloading package swadesh to /root/nltk_data...\n",
            "[nltk_data]    |   Unzipping corpora/swadesh.zip.\n",
            "[nltk_data]    | Downloading package switchboard to /root/nltk_data...\n",
            "[nltk_data]    |   Unzipping corpora/switchboard.zip.\n",
            "[nltk_data]    | Downloading package tagsets to /root/nltk_data...\n",
            "[nltk_data]    |   Unzipping help/tagsets.zip.\n",
            "[nltk_data]    | Downloading package tagsets_json to\n",
            "[nltk_data]    |     /root/nltk_data...\n",
            "[nltk_data]    |   Unzipping help/tagsets_json.zip.\n",
            "[nltk_data]    | Downloading package timit to /root/nltk_data...\n",
            "[nltk_data]    |   Unzipping corpora/timit.zip.\n",
            "[nltk_data]    | Downloading package toolbox to /root/nltk_data...\n",
            "[nltk_data]    |   Unzipping corpora/toolbox.zip.\n",
            "[nltk_data]    | Downloading package treebank to /root/nltk_data...\n",
            "[nltk_data]    |   Unzipping corpora/treebank.zip.\n",
            "[nltk_data]    | Downloading package twitter_samples to\n",
            "[nltk_data]    |     /root/nltk_data...\n",
            "[nltk_data]    |   Unzipping corpora/twitter_samples.zip.\n",
            "[nltk_data]    | Downloading package udhr to /root/nltk_data...\n",
            "[nltk_data]    |   Unzipping corpora/udhr.zip.\n",
            "[nltk_data]    | Downloading package udhr2 to /root/nltk_data...\n",
            "[nltk_data]    |   Unzipping corpora/udhr2.zip.\n",
            "[nltk_data]    | Downloading package unicode_samples to\n",
            "[nltk_data]    |     /root/nltk_data...\n",
            "[nltk_data]    |   Unzipping corpora/unicode_samples.zip.\n",
            "[nltk_data]    | Downloading package universal_tagset to\n",
            "[nltk_data]    |     /root/nltk_data...\n",
            "[nltk_data]    |   Unzipping taggers/universal_tagset.zip.\n",
            "[nltk_data]    | Downloading package universal_treebanks_v20 to\n",
            "[nltk_data]    |     /root/nltk_data...\n",
            "[nltk_data]    | Downloading package vader_lexicon to\n",
            "[nltk_data]    |     /root/nltk_data...\n",
            "[nltk_data]    | Downloading package verbnet to /root/nltk_data...\n",
            "[nltk_data]    |   Unzipping corpora/verbnet.zip.\n",
            "[nltk_data]    | Downloading package verbnet3 to /root/nltk_data...\n",
            "[nltk_data]    |   Unzipping corpora/verbnet3.zip.\n",
            "[nltk_data]    | Downloading package webtext to /root/nltk_data...\n",
            "[nltk_data]    |   Unzipping corpora/webtext.zip.\n",
            "[nltk_data]    | Downloading package wmt15_eval to /root/nltk_data...\n",
            "[nltk_data]    |   Unzipping models/wmt15_eval.zip.\n",
            "[nltk_data]    | Downloading package word2vec_sample to\n",
            "[nltk_data]    |     /root/nltk_data...\n",
            "[nltk_data]    |   Unzipping models/word2vec_sample.zip.\n",
            "[nltk_data]    | Downloading package wordnet to /root/nltk_data...\n",
            "[nltk_data]    | Downloading package wordnet2021 to /root/nltk_data...\n",
            "[nltk_data]    | Downloading package wordnet2022 to /root/nltk_data...\n",
            "[nltk_data]    |   Unzipping corpora/wordnet2022.zip.\n",
            "[nltk_data]    | Downloading package wordnet31 to /root/nltk_data...\n",
            "[nltk_data]    | Downloading package wordnet_ic to /root/nltk_data...\n",
            "[nltk_data]    |   Unzipping corpora/wordnet_ic.zip.\n",
            "[nltk_data]    | Downloading package words to /root/nltk_data...\n",
            "[nltk_data]    |   Unzipping corpora/words.zip.\n",
            "[nltk_data]    | Downloading package ycoe to /root/nltk_data...\n",
            "[nltk_data]    |   Unzipping corpora/ycoe.zip.\n",
            "[nltk_data]    | \n",
            "[nltk_data]  Done downloading collection all\n"
          ]
        },
        {
          "output_type": "execute_result",
          "data": {
            "text/plain": [
              "True"
            ]
          },
          "metadata": {},
          "execution_count": 2
        }
      ]
    },
    {
      "cell_type": "markdown",
      "metadata": {
        "id": "BGcWnGLwjKw1"
      },
      "source": [
        "#### Once the data is downloaded to your machine, you can load some of it using the Python interpreter."
      ]
    },
    {
      "cell_type": "markdown",
      "metadata": {
        "id": "nQoGJGDhjKw1"
      },
      "source": [
        "#### The first step is to type a special command at the Python prompt which tells the interpreter to load some texts for us to explore: from nltk.book import *."
      ]
    },
    {
      "cell_type": "markdown",
      "metadata": {
        "id": "Rt9If9ZgjKw1"
      },
      "source": [
        "#### The book module contains all the data you will need as you read this chapter."
      ]
    },
    {
      "cell_type": "code",
      "execution_count": 3,
      "metadata": {
        "scrolled": true,
        "colab": {
          "base_uri": "https://localhost:8080/"
        },
        "id": "pWcVzoVtjKw1",
        "outputId": "88eec79b-fcfb-4cd9-a300-c753f3d64078"
      },
      "outputs": [
        {
          "output_type": "stream",
          "name": "stdout",
          "text": [
            "*** Introductory Examples for the NLTK Book ***\n",
            "Loading text1, ..., text9 and sent1, ..., sent9\n",
            "Type the name of the text or sentence to view it.\n",
            "Type: 'texts()' or 'sents()' to list the materials.\n",
            "text1: Moby Dick by Herman Melville 1851\n",
            "text2: Sense and Sensibility by Jane Austen 1811\n",
            "text3: The Book of Genesis\n",
            "text4: Inaugural Address Corpus\n",
            "text5: Chat Corpus\n",
            "text6: Monty Python and the Holy Grail\n",
            "text7: Wall Street Journal\n",
            "text8: Personals Corpus\n",
            "text9: The Man Who Was Thursday by G . K . Chesterton 1908\n"
          ]
        }
      ],
      "source": [
        "from nltk.book import *"
      ]
    },
    {
      "cell_type": "markdown",
      "metadata": {
        "id": "40SQ5f8NjKw1"
      },
      "source": [
        "#### Any time we want to find out about these texts, we just have to enter their names at the Python prompt:"
      ]
    },
    {
      "cell_type": "code",
      "execution_count": 4,
      "metadata": {
        "scrolled": true,
        "colab": {
          "base_uri": "https://localhost:8080/"
        },
        "id": "PUAXQHXojKw2",
        "outputId": "355b1d35-797f-4b5a-dbb9-743a671803b9"
      },
      "outputs": [
        {
          "output_type": "execute_result",
          "data": {
            "text/plain": [
              "<Text: Moby Dick by Herman Melville 1851>"
            ]
          },
          "metadata": {},
          "execution_count": 4
        }
      ],
      "source": [
        "text1"
      ]
    },
    {
      "cell_type": "code",
      "execution_count": 5,
      "metadata": {
        "colab": {
          "base_uri": "https://localhost:8080/"
        },
        "id": "1rA7s5vbjKw2",
        "outputId": "2870cb70-5f13-4939-bf76-8c25e6dcb11f"
      },
      "outputs": [
        {
          "output_type": "execute_result",
          "data": {
            "text/plain": [
              "<Text: Inaugural Address Corpus>"
            ]
          },
          "metadata": {},
          "execution_count": 5
        }
      ],
      "source": [
        "text4"
      ]
    },
    {
      "cell_type": "code",
      "execution_count": null,
      "metadata": {
        "id": "NzRfzlJBjKw2"
      },
      "outputs": [],
      "source": [
        "# How to find raw text?\n",
        "#user/dengc/AppData/Roaming/nltk_data/corpora/Inaugural"
      ]
    },
    {
      "cell_type": "markdown",
      "metadata": {
        "id": "tkfTIBR8jKw3"
      },
      "source": [
        "### 1.3 Searching Text"
      ]
    },
    {
      "cell_type": "markdown",
      "metadata": {
        "id": "flVBNBlPjKw3"
      },
      "source": [
        "#### There are many ways to examine the context of a text apart from simply reading it. A concordance view shows us every occurrence of a given word, together with some context. Here we look up the word monstrous in Moby Dick by entering text1 followed by a period, then the term concordance, and then placing \"monstrous\" in parentheses"
      ]
    },
    {
      "cell_type": "code",
      "execution_count": 6,
      "metadata": {
        "scrolled": true,
        "colab": {
          "base_uri": "https://localhost:8080/"
        },
        "id": "G0_h0wqfjKw3",
        "outputId": "62356135-370e-46ea-dc8c-451b90a0403b"
      },
      "outputs": [
        {
          "output_type": "stream",
          "name": "stdout",
          "text": [
            "Displaying 11 of 11 matches:\n",
            "ong the former , one was of a most monstrous size . ... This came towards us , \n",
            "ON OF THE PSALMS . \" Touching that monstrous bulk of the whale or ork we have r\n",
            "ll over with a heathenish array of monstrous clubs and spears . Some were thick\n",
            "d as you gazed , and wondered what monstrous cannibal and savage could ever hav\n",
            "that has survived the flood ; most monstrous and most mountainous ! That Himmal\n",
            "they might scout at Moby Dick as a monstrous fable , or still worse and more de\n",
            "th of Radney .'\" CHAPTER 55 Of the Monstrous Pictures of Whales . I shall ere l\n",
            "ing Scenes . In connexion with the monstrous pictures of whales , I am strongly\n",
            "ere to enter upon those still more monstrous stories of them which are to be fo\n",
            "ght have been rummaged out of this monstrous cabinet there is no telling . But \n",
            "of Whale - Bones ; for Whales of a monstrous size are oftentimes cast up dead u\n"
          ]
        }
      ],
      "source": [
        "text1.concordance(\"monstrous\")"
      ]
    },
    {
      "cell_type": "code",
      "execution_count": 7,
      "metadata": {
        "colab": {
          "base_uri": "https://localhost:8080/"
        },
        "id": "OW-lr4ZnjKw3",
        "outputId": "e446fe52-df12-497a-a50e-5c71ebbbb5c7"
      },
      "outputs": [
        {
          "output_type": "stream",
          "name": "stdout",
          "text": [
            "Displaying 11 of 11 matches:\n",
            ". \" Now , Palmer , you shall see a monstrous pretty girl .\" He immediately went\n",
            "your sister is to marry him . I am monstrous glad of it , for then I shall have\n",
            "ou may tell your sister . She is a monstrous lucky girl to get him , upon my ho\n",
            "k how you will like them . Lucy is monstrous pretty , and so good humoured and \n",
            " Jennings , \" I am sure I shall be monstrous glad of Miss Marianne ' s company \n",
            " usual noisy cheerfulness , \" I am monstrous glad to see you -- sorry I could n\n",
            "t however , as it turns out , I am monstrous glad there was never any thing in \n",
            "so scornfully ! for they say he is monstrous fond of her , as well he may . I s\n",
            "possible that she should .\" \" I am monstrous glad of it . Good gracious ! I hav\n",
            "thing of the kind . So then he was monstrous happy , and talked on some time ab\n",
            "e very genteel people . He makes a monstrous deal of money , and they keep thei\n"
          ]
        }
      ],
      "source": [
        "text2.concordance(\"monstrous\")"
      ]
    },
    {
      "cell_type": "code",
      "execution_count": null,
      "metadata": {
        "id": "bHlUmeZgjKw3"
      },
      "outputs": [],
      "source": [
        "# google nltk text documentation"
      ]
    },
    {
      "cell_type": "markdown",
      "metadata": {
        "id": "6ecw1wcCjKw3"
      },
      "source": [
        "#### Exercise 2:\n",
        "#### 1) Search \"Sense and Sensibility\" for the word \"affection\" used in some context"
      ]
    },
    {
      "cell_type": "code",
      "execution_count": null,
      "metadata": {
        "id": "oTlK9DWGjKw3"
      },
      "outputs": [],
      "source": []
    },
    {
      "cell_type": "code",
      "execution_count": null,
      "metadata": {
        "id": "sxN3kH1cjKw3"
      },
      "outputs": [],
      "source": []
    },
    {
      "cell_type": "code",
      "execution_count": null,
      "metadata": {
        "id": "-AUCe0FpjKw3"
      },
      "outputs": [],
      "source": []
    },
    {
      "cell_type": "code",
      "execution_count": null,
      "metadata": {
        "id": "iDsNyFTVjKw4"
      },
      "outputs": [],
      "source": []
    },
    {
      "cell_type": "markdown",
      "metadata": {
        "id": "ORLu0eg5jKw4"
      },
      "source": [
        "#### Exercise 2:\n",
        "#### 2) Search \"The Book of Genesis\" to find out how long some people \"lived\""
      ]
    },
    {
      "cell_type": "code",
      "execution_count": null,
      "metadata": {
        "id": "KiYdV-2WjKw4"
      },
      "outputs": [],
      "source": []
    },
    {
      "cell_type": "code",
      "execution_count": null,
      "metadata": {
        "id": "kRTIkAjnjKw4"
      },
      "outputs": [],
      "source": []
    },
    {
      "cell_type": "code",
      "execution_count": null,
      "metadata": {
        "id": "R9jy4RxGjKw4"
      },
      "outputs": [],
      "source": []
    },
    {
      "cell_type": "code",
      "execution_count": null,
      "metadata": {
        "id": "rKM9Q8A1jKw4"
      },
      "outputs": [],
      "source": []
    },
    {
      "cell_type": "markdown",
      "metadata": {
        "id": "CPZbn7KIjKw4"
      },
      "source": [
        "#### A concordance permits us to see words in context. For example, we saw that monstrous occurred in contexts such as the ___ pictures and a ___ size . What other words appear in a similar range of contexts? We can find out by appending the term similar to the name of the text in question, then inserting the relevant word in parentheses:"
      ]
    },
    {
      "cell_type": "code",
      "execution_count": 8,
      "metadata": {
        "scrolled": true,
        "colab": {
          "base_uri": "https://localhost:8080/"
        },
        "id": "s7p_KOR3jKw4",
        "outputId": "7435032e-c751-4635-c660-3d76fad163a1"
      },
      "outputs": [
        {
          "output_type": "stream",
          "name": "stdout",
          "text": [
            "true contemptible christian abundant few part mean careful puzzled\n",
            "mystifying passing curious loving wise doleful gamesome singular\n",
            "delightfully perilous fearless\n"
          ]
        }
      ],
      "source": [
        "text1.similar(\"monstrous\")"
      ]
    },
    {
      "cell_type": "code",
      "execution_count": 9,
      "metadata": {
        "colab": {
          "base_uri": "https://localhost:8080/"
        },
        "id": "h8eB_AmmjKw4",
        "outputId": "26b7dec5-3f14-4393-dfe3-449c1edbc32e"
      },
      "outputs": [
        {
          "output_type": "stream",
          "name": "stdout",
          "text": [
            "very so exceedingly heartily a as good great extremely remarkably\n",
            "sweet vast amazingly\n"
          ]
        }
      ],
      "source": [
        "text2.similar(\"monstrous\")"
      ]
    },
    {
      "cell_type": "code",
      "execution_count": null,
      "metadata": {
        "id": "WCMfCuPqjKw5"
      },
      "outputs": [],
      "source": []
    },
    {
      "cell_type": "code",
      "execution_count": null,
      "metadata": {
        "id": "_ePJdF2OjKw5"
      },
      "outputs": [],
      "source": []
    },
    {
      "cell_type": "code",
      "execution_count": null,
      "metadata": {
        "id": "CrKbdGQvjKw5"
      },
      "outputs": [],
      "source": [
        "# How to change your own text into NLTK TEXT so that you can use all mentioned-above functions freely?"
      ]
    },
    {
      "cell_type": "code",
      "execution_count": 10,
      "metadata": {
        "id": "NT5WyE4xjKw5"
      },
      "outputs": [],
      "source": [
        "raw=\"The company also boosted its stock buyback authorization by $50 billion and initiated a quarterly dividend of $0.50 per share. In the current quarter, Meta said it anticipates revenue of between $34.6 billion and $37 billion, surpassing analysts' expectations for revenues to tally $33.6 billion.\""
      ]
    },
    {
      "cell_type": "code",
      "execution_count": 11,
      "metadata": {
        "id": "DvzdVQRgjKw5"
      },
      "outputs": [],
      "source": [
        "tokens = nltk.word_tokenize(raw)\n"
      ]
    },
    {
      "cell_type": "code",
      "execution_count": 12,
      "metadata": {
        "colab": {
          "base_uri": "https://localhost:8080/"
        },
        "id": "3zVwcYl0jKw5",
        "outputId": "58e9c04a-8432-443e-ae05-8a72d54afc66"
      },
      "outputs": [
        {
          "output_type": "execute_result",
          "data": {
            "text/plain": [
              "['The',\n",
              " 'company',\n",
              " 'also',\n",
              " 'boosted',\n",
              " 'its',\n",
              " 'stock',\n",
              " 'buyback',\n",
              " 'authorization',\n",
              " 'by',\n",
              " '$',\n",
              " '50',\n",
              " 'billion',\n",
              " 'and',\n",
              " 'initiated',\n",
              " 'a',\n",
              " 'quarterly',\n",
              " 'dividend',\n",
              " 'of',\n",
              " '$',\n",
              " '0.50',\n",
              " 'per',\n",
              " 'share',\n",
              " '.',\n",
              " 'In',\n",
              " 'the',\n",
              " 'current',\n",
              " 'quarter',\n",
              " ',',\n",
              " 'Meta',\n",
              " 'said',\n",
              " 'it',\n",
              " 'anticipates',\n",
              " 'revenue',\n",
              " 'of',\n",
              " 'between',\n",
              " '$',\n",
              " '34.6',\n",
              " 'billion',\n",
              " 'and',\n",
              " '$',\n",
              " '37',\n",
              " 'billion',\n",
              " ',',\n",
              " 'surpassing',\n",
              " 'analysts',\n",
              " \"'\",\n",
              " 'expectations',\n",
              " 'for',\n",
              " 'revenues',\n",
              " 'to',\n",
              " 'tally',\n",
              " '$',\n",
              " '33.6',\n",
              " 'billion',\n",
              " '.']"
            ]
          },
          "metadata": {},
          "execution_count": 12
        }
      ],
      "source": [
        "tokens"
      ]
    },
    {
      "cell_type": "code",
      "execution_count": 13,
      "metadata": {
        "id": "dCVoPjr1jKw5"
      },
      "outputs": [],
      "source": [
        "text = nltk.Text(tokens)"
      ]
    },
    {
      "cell_type": "code",
      "execution_count": 14,
      "metadata": {
        "colab": {
          "base_uri": "https://localhost:8080/"
        },
        "id": "NA0VVIHRjKw5",
        "outputId": "fcd23c3d-0fff-484a-ee40-b376940977ef"
      },
      "outputs": [
        {
          "output_type": "execute_result",
          "data": {
            "text/plain": [
              "<Text: The company also boosted its stock buyback authorization...>"
            ]
          },
          "metadata": {},
          "execution_count": 14
        }
      ],
      "source": [
        "text"
      ]
    },
    {
      "cell_type": "code",
      "execution_count": 15,
      "metadata": {
        "colab": {
          "base_uri": "https://localhost:8080/"
        },
        "id": "l35bAUaUjKw5",
        "outputId": "bdaefaf8-185a-4f8d-e93b-8e3c9e9c6810"
      },
      "outputs": [
        {
          "output_type": "stream",
          "name": "stdout",
          "text": [
            "Displaying 4 of 4 matches:\n",
            "stock buyback authorization by $ 50 billion and initiated a quarterly dividend \n",
            "ticipates revenue of between $ 34.6 billion and $ 37 billion , surpassing analy\n",
            " of between $ 34.6 billion and $ 37 billion , surpassing analysts ' expectation\n",
            "ations for revenues to tally $ 33.6 billion .\n"
          ]
        }
      ],
      "source": [
        "text.concordance(\"billion\")"
      ]
    },
    {
      "cell_type": "code",
      "execution_count": 16,
      "metadata": {
        "colab": {
          "base_uri": "https://localhost:8080/"
        },
        "id": "_Xd69xc1jKw5",
        "outputId": "d8113aa5-e1a6-43e9-bd77-474b87f6bcf5"
      },
      "outputs": [
        {
          "output_type": "execute_result",
          "data": {
            "text/plain": [
              "4"
            ]
          },
          "metadata": {},
          "execution_count": 16
        }
      ],
      "source": [
        "text.count(\"billion\")"
      ]
    },
    {
      "cell_type": "code",
      "execution_count": 17,
      "metadata": {
        "colab": {
          "base_uri": "https://localhost:8080/"
        },
        "id": "FIzQG7wwjKw5",
        "outputId": "26a25c8d-7310-47a0-b01f-7fa123dc3cc8"
      },
      "outputs": [
        {
          "output_type": "execute_result",
          "data": {
            "text/plain": [
              "55"
            ]
          },
          "metadata": {},
          "execution_count": 17
        }
      ],
      "source": [
        "len(text)"
      ]
    },
    {
      "cell_type": "markdown",
      "metadata": {
        "id": "LsvuQFE-jKw6"
      },
      "source": [
        "#### Observe that we get different results for different texts. Austen (the author for text2) uses this word quite differently from Melville (the author for text 1); for her, monstrous has positive connotations, and sometimes functions as an intensifier like the word \"very\".\n"
      ]
    },
    {
      "cell_type": "markdown",
      "metadata": {
        "id": "BFqF3cpLjKw6"
      },
      "source": [
        "#### we can also determine the location of a word in the text: how many words from the beginning it appears. This positional information can be displayed using a dispersion plot. Each stripe represents an instance of a word, and each row represents the entire text."
      ]
    },
    {
      "cell_type": "code",
      "execution_count": 18,
      "metadata": {
        "id": "9mRq_cvfjKw6"
      },
      "outputs": [],
      "source": [
        "from matplotlib import pyplot as plt"
      ]
    },
    {
      "cell_type": "code",
      "execution_count": 19,
      "metadata": {
        "colab": {
          "base_uri": "https://localhost:8080/"
        },
        "id": "CW7PvyVWjKw6",
        "outputId": "e0dde495-fc93-42a7-fd98-a4d066ace85d"
      },
      "outputs": [
        {
          "output_type": "execute_result",
          "data": {
            "text/plain": [
              "152901"
            ]
          },
          "metadata": {},
          "execution_count": 19
        }
      ],
      "source": [
        "len(text4)"
      ]
    },
    {
      "cell_type": "code",
      "execution_count": 20,
      "metadata": {
        "colab": {
          "base_uri": "https://localhost:8080/",
          "height": 472
        },
        "id": "sRKhtTyjjKw6",
        "outputId": "33f901c1-7e9e-4300-84ec-baabdc5eeecc"
      },
      "outputs": [
        {
          "output_type": "display_data",
          "data": {
            "text/plain": [
              "<Figure size 640x480 with 1 Axes>"
            ],
            "image/png": "[encoded data removed]"
          },
          "metadata": {}
        }
      ],
      "source": [
        "text4.dispersion_plot([\"citizens\", \"democracy\", \"freedom\", \"duties\", \"America\"])"
      ]
    },
    {
      "cell_type": "markdown",
      "metadata": {
        "id": "ZH7HRgwqjKw6"
      },
      "source": [
        "### 1.4 Counting Vocabulary"
      ]
    },
    {
      "cell_type": "markdown",
      "metadata": {
        "id": "F18aGPYgjKw6"
      },
      "source": [
        "#### Finding out the length of a text from start to finish, in terms of the words and punctuation symbols that appear. We use the term len to get the length of something, which we'll apply here to the book of Genesis"
      ]
    },
    {
      "cell_type": "code",
      "execution_count": 21,
      "metadata": {
        "scrolled": false,
        "colab": {
          "base_uri": "https://localhost:8080/"
        },
        "id": "35A4qO8yjKw6",
        "outputId": "00b3583e-7f7a-4c96-8c04-1ccdba501fb8"
      },
      "outputs": [
        {
          "output_type": "execute_result",
          "data": {
            "text/plain": [
              "44764"
            ]
          },
          "metadata": {},
          "execution_count": 21
        }
      ],
      "source": [
        "len(text3)"
      ]
    },
    {
      "cell_type": "markdown",
      "metadata": {
        "id": "bVxPLYurjKw6"
      },
      "source": [
        "#### So Genesis has 44,764 words and punctuation symbols, or \"tokens.\""
      ]
    },
    {
      "cell_type": "markdown",
      "metadata": {
        "id": "ynKAC1rijKw6"
      },
      "source": [
        "#### A token is the technical name for a sequence of characters — such as hairy, his, or :) — that we want to treat as a group."
      ]
    },
    {
      "cell_type": "markdown",
      "metadata": {
        "id": "A3neU6ndjKw6"
      },
      "source": [
        "#### How many distinct words does the book of Genesis contain? In Python, we can obtain the vocabulary items of text3 with the command: set (text3)"
      ]
    },
    {
      "cell_type": "markdown",
      "metadata": {
        "id": "9TA5BXaqjKw7"
      },
      "source": [
        "#### By wrapping sorted() around the Python expression set(text3) [1], we obtain a sorted list of vocabulary items, beginning with various punctuation symbols and continuing with words starting with A. All capitalized words precede lowercase words."
      ]
    },
    {
      "cell_type": "code",
      "execution_count": 22,
      "metadata": {
        "scrolled": true,
        "colab": {
          "base_uri": "https://localhost:8080/"
        },
        "id": "F-0NBMAVjKw7",
        "outputId": "7520ffd8-d337-489a-e271-ec3ee3e2c9c2"
      },
      "outputs": [
        {
          "output_type": "execute_result",
          "data": {
            "text/plain": [
              "2789"
            ]
          },
          "metadata": {},
          "execution_count": 22
        }
      ],
      "source": [
        "len(set(text3))"
      ]
    },
    {
      "cell_type": "code",
      "execution_count": 23,
      "metadata": {
        "colab": {
          "base_uri": "https://localhost:8080/"
        },
        "id": "nmEJLYjijKw7",
        "outputId": "592a21ff-9261-4027-b454-e137f1b8ca10"
      },
      "outputs": [
        {
          "output_type": "execute_result",
          "data": {
            "text/plain": [
              "['!',\n",
              " \"'\",\n",
              " '(',\n",
              " ')',\n",
              " ',',\n",
              " ',)',\n",
              " '.',\n",
              " '.)',\n",
              " ':',\n",
              " ';',\n",
              " ';)',\n",
              " '?',\n",
              " '?)',\n",
              " 'A',\n",
              " 'Abel',\n",
              " 'Abelmizraim',\n",
              " 'Abidah',\n",
              " 'Abide',\n",
              " 'Abimael',\n",
              " 'Abimelech',\n",
              " 'Abr',\n",
              " 'Abrah',\n",
              " 'Abraham',\n",
              " 'Abram',\n",
              " 'Accad',\n",
              " 'Achbor',\n",
              " 'Adah',\n",
              " 'Adam',\n",
              " 'Adbeel',\n",
              " 'Admah',\n",
              " 'Adullamite',\n",
              " 'After',\n",
              " 'Aholibamah',\n",
              " 'Ahuzzath',\n",
              " 'Ajah',\n",
              " 'Akan',\n",
              " 'All',\n",
              " 'Allonbachuth',\n",
              " 'Almighty',\n",
              " 'Almodad',\n",
              " 'Also',\n",
              " 'Alvah',\n",
              " 'Alvan',\n",
              " 'Am',\n",
              " 'Amal',\n",
              " 'Amalek',\n",
              " 'Amalekites',\n",
              " 'Ammon',\n",
              " 'Amorite',\n",
              " 'Amorites']"
            ]
          },
          "metadata": {},
          "execution_count": 23
        }
      ],
      "source": [
        "sorted(set(text3))[0:50]"
      ]
    },
    {
      "cell_type": "code",
      "execution_count": 24,
      "metadata": {
        "id": "iwRIPJHAjKw7"
      },
      "outputs": [],
      "source": [
        "text=[\"Alice\",\"is\",\"3\",\"years\",\"old\",\";)\",\"and\",\"David\",\"is\",\"4\",\"years\",\"old\"]"
      ]
    },
    {
      "cell_type": "code",
      "execution_count": 25,
      "metadata": {
        "colab": {
          "base_uri": "https://localhost:8080/"
        },
        "id": "GFle6pFojKw7",
        "outputId": "1127acac-7d7b-4242-bc64-b03a047d8f50"
      },
      "outputs": [
        {
          "output_type": "execute_result",
          "data": {
            "text/plain": [
              "12"
            ]
          },
          "metadata": {},
          "execution_count": 25
        }
      ],
      "source": [
        "len(text)"
      ]
    },
    {
      "cell_type": "code",
      "execution_count": 26,
      "metadata": {
        "colab": {
          "base_uri": "https://localhost:8080/"
        },
        "id": "RXTqa9PJjKw7",
        "outputId": "4f7ed6bc-5a3e-4ac5-b084-4f73a1092686"
      },
      "outputs": [
        {
          "output_type": "execute_result",
          "data": {
            "text/plain": [
              "{'3', '4', ';)', 'Alice', 'David', 'and', 'is', 'old', 'years'}"
            ]
          },
          "metadata": {},
          "execution_count": 26
        }
      ],
      "source": [
        "set(text)"
      ]
    },
    {
      "cell_type": "code",
      "execution_count": 27,
      "metadata": {
        "colab": {
          "base_uri": "https://localhost:8080/"
        },
        "id": "vJkF6c7MjKw7",
        "outputId": "328c8205-8e52-47e6-b18b-5fc69d8a2db7"
      },
      "outputs": [
        {
          "output_type": "execute_result",
          "data": {
            "text/plain": [
              "9"
            ]
          },
          "metadata": {},
          "execution_count": 27
        }
      ],
      "source": [
        "len(set(text))"
      ]
    },
    {
      "cell_type": "code",
      "execution_count": 28,
      "metadata": {
        "colab": {
          "base_uri": "https://localhost:8080/"
        },
        "id": "8vnjuwiVjKw7",
        "outputId": "0470c22e-a855-47d8-ad0e-b5d79af6d555"
      },
      "outputs": [
        {
          "output_type": "execute_result",
          "data": {
            "text/plain": [
              "['3', '4', ';)', 'Alice', 'David', 'and', 'is', 'old', 'years']"
            ]
          },
          "metadata": {},
          "execution_count": 28
        }
      ],
      "source": [
        "sorted(set(text))"
      ]
    },
    {
      "cell_type": "markdown",
      "metadata": {
        "id": "Mc63jcDLjKw7"
      },
      "source": [
        "#### We discover the size of the vocabulary indirectly, by asking for the number of items in the set, and again we can use len to obtain this number"
      ]
    },
    {
      "cell_type": "markdown",
      "metadata": {
        "id": "59qk1EQAjKw7"
      },
      "source": [
        "#### Although it has 44,764 tokens, this book has only 2,789 distinct words, or \"word types.\""
      ]
    },
    {
      "cell_type": "markdown",
      "metadata": {
        "id": "8WorMuiqjKw7"
      },
      "source": [
        "#### A word type is the form or spelling of the word independently of its specific occurrences in a text — that is, the word considered as a unique item of vocabulary."
      ]
    },
    {
      "cell_type": "markdown",
      "metadata": {
        "id": "iMJeIPdejKw8"
      },
      "source": [
        "#### Our count of 2,789 items will include punctuation symbols, so we will generally call these unique items types instead of word types.\n"
      ]
    },
    {
      "cell_type": "markdown",
      "metadata": {
        "id": "IN-VIki1jKw8"
      },
      "source": [
        "#### Lexical Richness"
      ]
    },
    {
      "cell_type": "markdown",
      "metadata": {
        "id": "3SCNrvb5jKw8"
      },
      "source": [
        "#### Now, let's calculate a measure of the lexical richness of the text."
      ]
    },
    {
      "cell_type": "markdown",
      "metadata": {
        "id": "M0mMPrzZjKw8"
      },
      "source": [
        "#### The next example shows us that the number of distinct words is just 6% of the total number of words, or equivalently that each word is used 16 times on average"
      ]
    },
    {
      "cell_type": "code",
      "execution_count": 29,
      "metadata": {
        "scrolled": true,
        "colab": {
          "base_uri": "https://localhost:8080/"
        },
        "id": "rdCtSD7qjKw8",
        "outputId": "9ef3d392-0eea-4dd4-f668-a28b3357075d"
      },
      "outputs": [
        {
          "output_type": "execute_result",
          "data": {
            "text/plain": [
              "0.06230453042623537"
            ]
          },
          "metadata": {},
          "execution_count": 29
        }
      ],
      "source": [
        "len(set(text3)) / len(text3)"
      ]
    },
    {
      "cell_type": "code",
      "execution_count": 30,
      "metadata": {
        "colab": {
          "base_uri": "https://localhost:8080/"
        },
        "id": "63cKn9xljKw8",
        "outputId": "fb0e01ca-23f9-4dc2-dde5-c1c50ca83779"
      },
      "outputs": [
        {
          "output_type": "execute_result",
          "data": {
            "text/plain": [
              "16.050197203298673"
            ]
          },
          "metadata": {},
          "execution_count": 30
        }
      ],
      "source": [
        "len(text3)/len(set(text3))"
      ]
    },
    {
      "cell_type": "markdown",
      "metadata": {
        "id": "DO88XzjLjKw8"
      },
      "source": [
        "#### count()"
      ]
    },
    {
      "cell_type": "markdown",
      "metadata": {
        "id": "hN-TrQ0vjKw8"
      },
      "source": [
        "#### Next, let's focus on particular words. We can count how often a word occurs in a text, and compute what percentage of the text is taken up by a specific word"
      ]
    },
    {
      "cell_type": "code",
      "execution_count": 32,
      "metadata": {
        "scrolled": false,
        "colab": {
          "base_uri": "https://localhost:8080/"
        },
        "id": "2VIGv3lNjKw8",
        "outputId": "29f09404-68f6-451d-9f4a-ac307ceff543"
      },
      "outputs": [
        {
          "output_type": "execute_result",
          "data": {
            "text/plain": [
              "2428"
            ]
          },
          "metadata": {},
          "execution_count": 32
        }
      ],
      "source": [
        "text3.count(\"and\")"
      ]
    },
    {
      "cell_type": "code",
      "execution_count": 33,
      "metadata": {
        "scrolled": true,
        "colab": {
          "base_uri": "https://localhost:8080/"
        },
        "id": "AXjhW5IXjKw8",
        "outputId": "9479780d-9224-4dba-ceac-caf0cfd0e37a"
      },
      "outputs": [
        {
          "output_type": "execute_result",
          "data": {
            "text/plain": [
              "2229"
            ]
          },
          "metadata": {},
          "execution_count": 33
        }
      ],
      "source": [
        "text4.count('a')"
      ]
    },
    {
      "cell_type": "code",
      "execution_count": 34,
      "metadata": {
        "colab": {
          "base_uri": "https://localhost:8080/"
        },
        "id": "kghCT4q2jKw8",
        "outputId": "eb1ce468-9757-4bfd-8353-64f304a3c9de"
      },
      "outputs": [
        {
          "output_type": "execute_result",
          "data": {
            "text/plain": [
              "1.457806031353621"
            ]
          },
          "metadata": {},
          "execution_count": 34
        }
      ],
      "source": [
        "100 * text4.count('a') / len(text4)"
      ]
    },
    {
      "cell_type": "markdown",
      "metadata": {
        "id": "TnvafnyPjKw8"
      },
      "source": [
        "#### Exercise 3: How many times does the word “lol” appear in text5? How much is this as a percentage of the total number of words in this text?"
      ]
    },
    {
      "cell_type": "code",
      "execution_count": 35,
      "metadata": {
        "colab": {
          "base_uri": "https://localhost:8080/"
        },
        "id": "7eu5JkgJjKw9",
        "outputId": "d9bee1d6-fac1-49c7-ef94-a851131758f4"
      },
      "outputs": [
        {
          "output_type": "execute_result",
          "data": {
            "text/plain": [
              "704"
            ]
          },
          "metadata": {},
          "execution_count": 35
        }
      ],
      "source": [
        "text5.count(\"lol\")"
      ]
    },
    {
      "cell_type": "code",
      "execution_count": 37,
      "metadata": {
        "colab": {
          "base_uri": "https://localhost:8080/"
        },
        "id": "Egz0WRZ3jKw9",
        "outputId": "716c2978-6cf5-4bc5-be10-b837283669a1"
      },
      "outputs": [
        {
          "output_type": "execute_result",
          "data": {
            "text/plain": [
              "0.015640968673628082"
            ]
          },
          "metadata": {},
          "execution_count": 37
        }
      ],
      "source": [
        "text5.count(\"lol\")/len(text5)"
      ]
    },
    {
      "cell_type": "code",
      "execution_count": null,
      "metadata": {
        "id": "kG3pwnRrjKw9"
      },
      "outputs": [],
      "source": []
    },
    {
      "cell_type": "markdown",
      "metadata": {
        "id": "ybSa6VRzjKw9"
      },
      "source": [
        "#### Function"
      ]
    },
    {
      "cell_type": "markdown",
      "metadata": {
        "id": "xmfyurJrjKw9"
      },
      "source": [
        "#### You may want to repeat such calculations on several texts, but it is tedious to keep retyping the formula.\n"
      ]
    },
    {
      "cell_type": "markdown",
      "metadata": {
        "id": "bS4l1rJijKw9"
      },
      "source": [
        "#### Instead, you can come up with your own name for a task, like \"lexical_diversity\" or \"percentage\", and associate it with a block of code.\n"
      ]
    },
    {
      "cell_type": "markdown",
      "metadata": {
        "id": "bKVS1LSHjKw9"
      },
      "source": [
        "#### define two new functions"
      ]
    },
    {
      "cell_type": "markdown",
      "metadata": {
        "id": "WazVrv_HjKw9"
      },
      "source": [
        "#### This parameter is a \"placeholder\" for the actual text whose lexical diversity we want to compute, and reoccurs in the block of code that will run when the function is used"
      ]
    },
    {
      "cell_type": "markdown",
      "metadata": {
        "id": "RmbkpzGCjKw9"
      },
      "source": [
        "#### Similarly, percentage( ) is defined to take two parameters, named count and total"
      ]
    },
    {
      "cell_type": "code",
      "execution_count": 38,
      "metadata": {
        "id": "lXeeXFr4jKw9"
      },
      "outputs": [],
      "source": [
        "def lexical_diversity(text):\n",
        "    return len(set(text)) / len(text)"
      ]
    },
    {
      "cell_type": "markdown",
      "metadata": {
        "id": "TD17P042jKw9"
      },
      "source": [
        "#### Once Python knows that lexical_diversity() and percentage() are the names for specific blocks of codes, we can go ahead and use these functions"
      ]
    },
    {
      "cell_type": "code",
      "execution_count": 39,
      "metadata": {
        "colab": {
          "base_uri": "https://localhost:8080/"
        },
        "id": "PZKmqakgjKw9",
        "outputId": "e0b2868e-c6f3-4909-84ee-28d0c5049b90"
      },
      "outputs": [
        {
          "output_type": "execute_result",
          "data": {
            "text/plain": [
              "0.06230453042623537"
            ]
          },
          "metadata": {},
          "execution_count": 39
        }
      ],
      "source": [
        "lexical_diversity(text3)"
      ]
    },
    {
      "cell_type": "code",
      "source": [
        "1/0.06230453042623537"
      ],
      "metadata": {
        "colab": {
          "base_uri": "https://localhost:8080/"
        },
        "id": "-rzgQytvpvz7",
        "outputId": "62792a72-8185-4244-93e8-776163934a96"
      },
      "execution_count": 41,
      "outputs": [
        {
          "output_type": "execute_result",
          "data": {
            "text/plain": [
              "16.050197203298673"
            ]
          },
          "metadata": {},
          "execution_count": 41
        }
      ]
    },
    {
      "cell_type": "code",
      "execution_count": 40,
      "metadata": {
        "colab": {
          "base_uri": "https://localhost:8080/"
        },
        "id": "BkZ4YfSwjKw9",
        "outputId": "95da8c85-51f6-48fd-b059-115ce383c040"
      },
      "outputs": [
        {
          "output_type": "execute_result",
          "data": {
            "text/plain": [
              "0.13477005109975562"
            ]
          },
          "metadata": {},
          "execution_count": 40
        }
      ],
      "source": [
        "lexical_diversity(text5)"
      ]
    },
    {
      "cell_type": "code",
      "source": [
        "1/0.13477005109975562"
      ],
      "metadata": {
        "colab": {
          "base_uri": "https://localhost:8080/"
        },
        "id": "X5IGBpkdpkJQ",
        "outputId": "4eb70576-7575-4893-dde6-196ca1609e73"
      },
      "execution_count": 42,
      "outputs": [
        {
          "output_type": "execute_result",
          "data": {
            "text/plain": [
              "7.420046158918562"
            ]
          },
          "metadata": {},
          "execution_count": 42
        }
      ]
    },
    {
      "cell_type": "markdown",
      "metadata": {
        "id": "9CTgZa0TjKw-"
      },
      "source": [
        "#### Exercise 4: Use the function lexical_diversity () to calculate the Lexical Richness of Text 2“Sense and Sensibility” and compute what percentage of this text is taken up by a specific word “the”"
      ]
    },
    {
      "cell_type": "code",
      "execution_count": 43,
      "metadata": {
        "colab": {
          "base_uri": "https://localhost:8080/"
        },
        "id": "dh_JaMuYjKw-",
        "outputId": "deb1828d-516a-4579-fa40-d21d14eae1e4"
      },
      "outputs": [
        {
          "output_type": "execute_result",
          "data": {
            "text/plain": [
              "0.04826383002768831"
            ]
          },
          "metadata": {},
          "execution_count": 43
        }
      ],
      "source": [
        "lexical_diversity(text2)"
      ]
    },
    {
      "cell_type": "code",
      "execution_count": 44,
      "metadata": {
        "colab": {
          "base_uri": "https://localhost:8080/"
        },
        "id": "J6p7siONjKw-",
        "outputId": "d1a33215-8a04-4f60-b31c-a878d90c3689"
      },
      "outputs": [
        {
          "output_type": "execute_result",
          "data": {
            "text/plain": [
              "3861"
            ]
          },
          "metadata": {},
          "execution_count": 44
        }
      ],
      "source": [
        "text2.count(\"the\")"
      ]
    },
    {
      "cell_type": "code",
      "execution_count": 45,
      "metadata": {
        "colab": {
          "base_uri": "https://localhost:8080/"
        },
        "id": "pIbCyY3HjKw-",
        "outputId": "305e65bf-7b28-4837-a304-3612ff8b7764"
      },
      "outputs": [
        {
          "output_type": "execute_result",
          "data": {
            "text/plain": [
              "0.027271571452788607"
            ]
          },
          "metadata": {},
          "execution_count": 45
        }
      ],
      "source": [
        "text2.count(\"the\")/len(text2)"
      ]
    },
    {
      "cell_type": "code",
      "execution_count": 46,
      "metadata": {
        "colab": {
          "base_uri": "https://localhost:8080/"
        },
        "id": "5JvLBw6QjKw-",
        "outputId": "da6e1a60-96f5-4ef8-8f1d-3455f9c63c05"
      },
      "outputs": [
        {
          "output_type": "execute_result",
          "data": {
            "text/plain": [
              "36.66822066822067"
            ]
          },
          "metadata": {},
          "execution_count": 46
        }
      ],
      "source": [
        "1/0.027271571452788607"
      ]
    },
    {
      "cell_type": "markdown",
      "metadata": {
        "id": "9NH0ztH9jKw-"
      },
      "source": [
        "\n",
        "### Q and A"
      ]
    },
    {
      "cell_type": "markdown",
      "metadata": {
        "id": "9RJYnnchjKw-"
      },
      "source": [
        "### 2. A Closer Look at Python: Texts as Lists of Words"
      ]
    },
    {
      "cell_type": "markdown",
      "metadata": {
        "id": "Kf8r9UNfjKw-"
      },
      "source": [
        "### 2.1 Lists"
      ]
    },
    {
      "cell_type": "markdown",
      "metadata": {
        "id": "2FXotZbujKw-"
      },
      "source": [
        "#### What is a text? At one level, it is a sequence of symbols on a page such as this one."
      ]
    },
    {
      "cell_type": "markdown",
      "metadata": {
        "id": "KONajcUcjKw-"
      },
      "source": [
        "#### At another level, it is a sequence of chapters, made up of a sequence of sections, where each section is a sequence of paragraphs, and so on."
      ]
    },
    {
      "cell_type": "markdown",
      "metadata": {
        "id": "RbaruH9IjKw-"
      },
      "source": [
        "#### However, for our purposes, we will think of a text as nothing more than a sequence of words and punctuation."
      ]
    },
    {
      "cell_type": "markdown",
      "metadata": {
        "id": "f6fCEUWtjKw-"
      },
      "source": [
        "#### Here's how we represent text in Python, in this case the opening sentence of Moby Dick"
      ]
    },
    {
      "cell_type": "code",
      "execution_count": 47,
      "metadata": {
        "id": "eeVVrNRbjKw-"
      },
      "outputs": [],
      "source": [
        "sent1 = ['Call', 'me', 'Ishmael', '.']"
      ]
    },
    {
      "cell_type": "markdown",
      "metadata": {
        "id": "Zpt4w0ghjKw-"
      },
      "source": [
        "#### After the prompt we've given a name we made up, sent1, followed by the equals sign, and then some quoted words, separated with commas, and surrounded with brackets.\n",
        "#### This bracketed material is known as a list in Python: it is how we store a text"
      ]
    },
    {
      "cell_type": "markdown",
      "metadata": {
        "id": "y6DIJ6EtjKw-"
      },
      "source": [
        "#### we can inspect it by typing the name. We can ask for its length"
      ]
    },
    {
      "cell_type": "code",
      "execution_count": 48,
      "metadata": {
        "colab": {
          "base_uri": "https://localhost:8080/",
          "height": 35
        },
        "id": "LOyW66SPjKw-",
        "outputId": "73dab168-752f-4167-d281-d361376295d8"
      },
      "outputs": [
        {
          "output_type": "execute_result",
          "data": {
            "text/plain": [
              "'me'"
            ],
            "application/vnd.google.colaboratory.intrinsic+json": {
              "type": "string"
            }
          },
          "metadata": {},
          "execution_count": 48
        }
      ],
      "source": [
        "sent1[1]"
      ]
    },
    {
      "cell_type": "code",
      "execution_count": 49,
      "metadata": {
        "id": "xU2haKqPjKw-"
      },
      "outputs": [],
      "source": [
        "sent1[1]=\"we\""
      ]
    },
    {
      "cell_type": "code",
      "execution_count": 50,
      "metadata": {
        "colab": {
          "base_uri": "https://localhost:8080/"
        },
        "id": "eMAtB5ZbjKw-",
        "outputId": "95a906cd-b772-4efa-8db7-fb77548fc31f"
      },
      "outputs": [
        {
          "output_type": "execute_result",
          "data": {
            "text/plain": [
              "['Call', 'we', 'Ishmael', '.']"
            ]
          },
          "metadata": {},
          "execution_count": 50
        }
      ],
      "source": [
        "sent1"
      ]
    },
    {
      "cell_type": "code",
      "execution_count": 51,
      "metadata": {
        "colab": {
          "base_uri": "https://localhost:8080/"
        },
        "id": "3Hy0i73TjKw_",
        "outputId": "14158725-223a-4a77-b556-7955c98098d9"
      },
      "outputs": [
        {
          "output_type": "execute_result",
          "data": {
            "text/plain": [
              "4"
            ]
          },
          "metadata": {},
          "execution_count": 51
        }
      ],
      "source": [
        "len(sent1)"
      ]
    },
    {
      "cell_type": "markdown",
      "metadata": {
        "id": "qBO4pkhPjKw_"
      },
      "source": [
        "#### We can even apply our own lexical_diversity() function to it"
      ]
    },
    {
      "cell_type": "code",
      "execution_count": 52,
      "metadata": {
        "colab": {
          "base_uri": "https://localhost:8080/"
        },
        "id": "wPD36oivjKw_",
        "outputId": "254da18a-2367-4db2-f522-eb53687c5d5f"
      },
      "outputs": [
        {
          "output_type": "execute_result",
          "data": {
            "text/plain": [
              "1.0"
            ]
          },
          "metadata": {},
          "execution_count": 52
        }
      ],
      "source": [
        "lexical_diversity(sent1)"
      ]
    },
    {
      "cell_type": "markdown",
      "metadata": {
        "id": "_envWVsajKw_"
      },
      "source": [
        "#### Exercise 5: Make up a few sentences of your own, by typing a name, equals sign, and a list of words, like this: ex1 = ['Monty', 'Python', 'and', 'the', 'Holy', 'Grail’, ‘the’ ]. Repeat some of the other Python operations we saw earlier in 1, e.g., sorted(ex1), len(set(ex1)), ex1.count('the'), lexical_diversity(ex1)."
      ]
    },
    {
      "cell_type": "code",
      "execution_count": 55,
      "metadata": {
        "id": "E7FXvDs0jKw_"
      },
      "outputs": [],
      "source": [
        "sent1 = ['Monty','Python','and','the','Holy','Grail','the']"
      ]
    },
    {
      "cell_type": "code",
      "execution_count": 56,
      "metadata": {
        "colab": {
          "base_uri": "https://localhost:8080/",
          "height": 35
        },
        "id": "oeeRa3B7jKw_",
        "outputId": "b0194729-b308-4290-9626-19cbd1753ec9"
      },
      "outputs": [
        {
          "output_type": "execute_result",
          "data": {
            "text/plain": [
              "'Python'"
            ],
            "application/vnd.google.colaboratory.intrinsic+json": {
              "type": "string"
            }
          },
          "metadata": {},
          "execution_count": 56
        }
      ],
      "source": [
        "sent1[1]"
      ]
    },
    {
      "cell_type": "code",
      "execution_count": 57,
      "metadata": {
        "colab": {
          "base_uri": "https://localhost:8080/"
        },
        "id": "TZVVrSAGjKw_",
        "outputId": "0e0deda4-0403-4110-bb63-7d85a2667910"
      },
      "outputs": [
        {
          "output_type": "execute_result",
          "data": {
            "text/plain": [
              "0.8571428571428571"
            ]
          },
          "metadata": {},
          "execution_count": 57
        }
      ],
      "source": [
        "lexical_diversity(sent1)"
      ]
    },
    {
      "cell_type": "code",
      "execution_count": 58,
      "metadata": {
        "colab": {
          "base_uri": "https://localhost:8080/"
        },
        "id": "W8nIBVUzjKw_",
        "outputId": "aab03a09-16d1-4b48-a141-8c8051ac31d8"
      },
      "outputs": [
        {
          "output_type": "execute_result",
          "data": {
            "text/plain": [
              "2"
            ]
          },
          "metadata": {},
          "execution_count": 58
        }
      ],
      "source": [
        "sent1.count('the')"
      ]
    },
    {
      "cell_type": "markdown",
      "metadata": {
        "id": "dOROHV6njKw_"
      },
      "source": [
        "#### Concatenation"
      ]
    },
    {
      "cell_type": "markdown",
      "metadata": {
        "id": "Q3Gzm1c1jKw_"
      },
      "source": [
        "#### Adding two lists creates a new list with everything from the first list, followed by everything from the second list"
      ]
    },
    {
      "cell_type": "markdown",
      "metadata": {
        "id": "pB_sClw6jKw_"
      },
      "source": [
        "#### This special use of the addition operation is called concatenation; it combines the lists together into a single list. We can concatenate sentences to build up a text."
      ]
    },
    {
      "cell_type": "code",
      "execution_count": 61,
      "metadata": {
        "id": "dEXlUasBjKw_"
      },
      "outputs": [],
      "source": [
        "# string is immutable. List is mutable"
      ]
    },
    {
      "cell_type": "code",
      "execution_count": 62,
      "metadata": {
        "colab": {
          "base_uri": "https://localhost:8080/"
        },
        "id": "LisvwDl4jKw_",
        "outputId": "57ec0dca-c150-4e8f-e6ae-8e29bc9a9ab2"
      },
      "outputs": [
        {
          "output_type": "execute_result",
          "data": {
            "text/plain": [
              "['Monty', 'Python', 'and', 'the', 'Holy', 'Grail']"
            ]
          },
          "metadata": {},
          "execution_count": 62
        }
      ],
      "source": [
        "['Monty', 'Python'] + ['and', 'the', 'Holy', 'Grail']"
      ]
    },
    {
      "cell_type": "markdown",
      "metadata": {
        "id": "_7S4zmGrjKw_"
      },
      "source": [
        "#### What if we want to add a single item to a list? This is known as appending. When we append() to a list, the list itself is updated as a result of the operation."
      ]
    },
    {
      "cell_type": "code",
      "execution_count": 63,
      "metadata": {
        "id": "Ulm9EhaNjKw_"
      },
      "outputs": [],
      "source": [
        "sent1.append(\"Some\")"
      ]
    },
    {
      "cell_type": "code",
      "execution_count": 64,
      "metadata": {
        "colab": {
          "base_uri": "https://localhost:8080/"
        },
        "id": "lXDwLwsijKw_",
        "outputId": "671ea62b-68e8-4c93-face-e1c78a472426"
      },
      "outputs": [
        {
          "output_type": "execute_result",
          "data": {
            "text/plain": [
              "['Monty', 'Python', 'and', 'the', 'Holy', 'Grail', 'the', 'Some']"
            ]
          },
          "metadata": {},
          "execution_count": 64
        }
      ],
      "source": [
        "sent1"
      ]
    },
    {
      "cell_type": "markdown",
      "metadata": {
        "id": "BzPs7wVejKw_"
      },
      "source": [
        "### 2.2 Indexing Lists\n",
        "#### We instruct Python to show us the item that occurs at an index such as 173 in a text by writing the name of the text followed by the index inside square brackets"
      ]
    },
    {
      "cell_type": "code",
      "execution_count": 65,
      "metadata": {
        "scrolled": false,
        "colab": {
          "base_uri": "https://localhost:8080/",
          "height": 35
        },
        "id": "4VpGQv2rjKxA",
        "outputId": "ee80bd86-c377-4564-f696-cd4178b14600"
      },
      "outputs": [
        {
          "output_type": "execute_result",
          "data": {
            "text/plain": [
              "'awaken'"
            ],
            "application/vnd.google.colaboratory.intrinsic+json": {
              "type": "string"
            }
          },
          "metadata": {},
          "execution_count": 65
        }
      ],
      "source": [
        "text4[173]"
      ]
    },
    {
      "cell_type": "markdown",
      "metadata": {
        "id": "a_VZ5XOljKxA"
      },
      "source": [
        "#### We can do the converse; given a word, find the index of when it first occurs:"
      ]
    },
    {
      "cell_type": "code",
      "execution_count": 66,
      "metadata": {
        "colab": {
          "base_uri": "https://localhost:8080/"
        },
        "id": "juS25Ap4jKxA",
        "outputId": "4e497579-0fa9-45e5-89b3-f659b6c48e09"
      },
      "outputs": [
        {
          "output_type": "execute_result",
          "data": {
            "text/plain": [
              "173"
            ]
          },
          "metadata": {},
          "execution_count": 66
        }
      ],
      "source": [
        "text4.index('awaken')"
      ]
    },
    {
      "cell_type": "markdown",
      "metadata": {
        "id": "J-nSGb1pjKxA"
      },
      "source": [
        "#### Indexes are a common way to access the words of a text, or, more generally, the elements of any list. Python permits us to access sublists as well, extracting manageable pieces of language from large texts, a technique known as slicing."
      ]
    },
    {
      "cell_type": "code",
      "execution_count": 67,
      "metadata": {
        "scrolled": false,
        "colab": {
          "base_uri": "https://localhost:8080/"
        },
        "id": "g64QV6BWjKxA",
        "outputId": "1da00054-0286-48d6-9f04-1f4f1b10f2d0"
      },
      "outputs": [
        {
          "output_type": "execute_result",
          "data": {
            "text/plain": [
              "['U86',\n",
              " 'thats',\n",
              " 'why',\n",
              " 'something',\n",
              " 'like',\n",
              " 'gamefly',\n",
              " 'is',\n",
              " 'so',\n",
              " 'good',\n",
              " 'because',\n",
              " 'you',\n",
              " 'can',\n",
              " 'actually',\n",
              " 'play',\n",
              " 'a',\n",
              " 'full',\n",
              " 'game',\n",
              " 'without',\n",
              " 'buying',\n",
              " 'it']"
            ]
          },
          "metadata": {},
          "execution_count": 67
        }
      ],
      "source": [
        "text5[16715:16735]"
      ]
    },
    {
      "cell_type": "code",
      "execution_count": 68,
      "metadata": {
        "scrolled": true,
        "colab": {
          "base_uri": "https://localhost:8080/"
        },
        "id": "qrMOfW0BjKxA",
        "outputId": "f4a1a8df-9877-4646-8d8a-f039173b5339"
      },
      "outputs": [
        {
          "output_type": "execute_result",
          "data": {
            "text/plain": [
              "['We',\n",
              " \"'\",\n",
              " 're',\n",
              " 'an',\n",
              " 'anarcho',\n",
              " '-',\n",
              " 'syndicalist',\n",
              " 'commune',\n",
              " '.',\n",
              " 'We',\n",
              " 'take',\n",
              " 'it',\n",
              " 'in',\n",
              " 'turns',\n",
              " 'to',\n",
              " 'act',\n",
              " 'as',\n",
              " 'a',\n",
              " 'sort',\n",
              " 'of',\n",
              " 'executive',\n",
              " 'officer',\n",
              " 'for',\n",
              " 'the',\n",
              " 'week']"
            ]
          },
          "metadata": {},
          "execution_count": 68
        }
      ],
      "source": [
        "text6[1600:1625]"
      ]
    },
    {
      "cell_type": "markdown",
      "metadata": {
        "id": "eTM1FZIejKxA"
      },
      "source": [
        "### 2.3 Variables"
      ]
    },
    {
      "cell_type": "markdown",
      "metadata": {
        "id": "HYeCZ8kWjKxA"
      },
      "source": [
        "#### Such lines have the form: variable = expression. Python will evaluate the expression, and save its result to the variable. This process is called assignment. It does not generate any output; you have to type the variable on a line of its own to inspect its contents."
      ]
    },
    {
      "cell_type": "code",
      "execution_count": 69,
      "metadata": {
        "id": "i5my6VPZjKxA"
      },
      "outputs": [],
      "source": [
        "my_sent= ['Bravely', 'bold', 'Sir', 'Robin', ',', 'rode', 'forth', 'from', 'Camelot', '.']"
      ]
    },
    {
      "cell_type": "code",
      "execution_count": 70,
      "metadata": {
        "scrolled": true,
        "id": "4yhBcRLmjKxA"
      },
      "outputs": [],
      "source": [
        "noun_phrase=my_sent[1:4]"
      ]
    },
    {
      "cell_type": "code",
      "execution_count": 71,
      "metadata": {
        "colab": {
          "base_uri": "https://localhost:8080/"
        },
        "id": "xDBV0XbkjKxA",
        "outputId": "63d90398-860a-453e-adfd-58c730949920"
      },
      "outputs": [
        {
          "output_type": "execute_result",
          "data": {
            "text/plain": [
              "['bold', 'Sir', 'Robin']"
            ]
          },
          "metadata": {},
          "execution_count": 71
        }
      ],
      "source": [
        "noun_phrase"
      ]
    },
    {
      "cell_type": "code",
      "execution_count": 72,
      "metadata": {
        "id": "27hSbXPxjKxA"
      },
      "outputs": [],
      "source": [
        "wOrDs=sorted(noun_phrase)"
      ]
    },
    {
      "cell_type": "code",
      "execution_count": 73,
      "metadata": {
        "colab": {
          "base_uri": "https://localhost:8080/"
        },
        "id": "fLachnyEjKxA",
        "outputId": "5a2ec1dc-9839-48fe-8606-11c0c4e79dad"
      },
      "outputs": [
        {
          "output_type": "execute_result",
          "data": {
            "text/plain": [
              "['Robin', 'Sir', 'bold']"
            ]
          },
          "metadata": {},
          "execution_count": 73
        }
      ],
      "source": [
        "wOrDs"
      ]
    },
    {
      "cell_type": "markdown",
      "metadata": {
        "id": "_6pZMRuCjKxA"
      },
      "source": [
        "#### Remember that capitalized words appear before lowercase words in sorted lists."
      ]
    },
    {
      "cell_type": "markdown",
      "metadata": {
        "id": "GUYXwfK3jKxA"
      },
      "source": [
        "#### Caution!"
      ]
    },
    {
      "cell_type": "markdown",
      "metadata": {
        "id": "cXNVkzwZjKxA"
      },
      "source": [
        "#### Take care with your choice of names (or identifiers) for Python variables."
      ]
    },
    {
      "cell_type": "markdown",
      "metadata": {
        "id": "Gx9XhBjGjKxA"
      },
      "source": [
        "#### First, you should start the name with a letter, optionally followed by digits (0 to 9) or letters. Thus, abc23 is fine, but 23abc will cause a syntax error."
      ]
    },
    {
      "cell_type": "markdown",
      "metadata": {
        "id": "ljl_VPegjKxB"
      },
      "source": [
        "#### Names are case-sensitive, which means that myVar and myvar are distinct variables. Variable names cannot contain whitespace, but you can separate words using an underscore, e.g., my_var."
      ]
    },
    {
      "cell_type": "markdown",
      "metadata": {
        "id": "u3MPT2_GjKxB"
      },
      "source": [
        "#### Be careful not to insert a hyphen instead of an underscore: my-var is wrong, since Python interprets the \"-\" as a minus sign.\n"
      ]
    },
    {
      "cell_type": "markdown",
      "metadata": {
        "id": "UteGfo9BjKxB"
      },
      "source": [
        "### 2.4 Strings"
      ]
    },
    {
      "cell_type": "markdown",
      "metadata": {
        "id": "vny94-aqjKxB"
      },
      "source": [
        "#### Some of the methods we used to access the elements of a list also work with individual words, or strings. For example, we can assign a string to a variable [1], index a string [2], and slice a string [3]:\n"
      ]
    },
    {
      "cell_type": "code",
      "execution_count": 74,
      "metadata": {
        "id": "fd79mRm3jKxB"
      },
      "outputs": [],
      "source": [
        "name = 'Monty'"
      ]
    },
    {
      "cell_type": "code",
      "execution_count": 76,
      "metadata": {
        "scrolled": true,
        "colab": {
          "base_uri": "https://localhost:8080/",
          "height": 139
        },
        "id": "UFbY7FF_jKxB",
        "outputId": "f29c15fb-e64b-411b-859f-bba607292484"
      },
      "outputs": [
        {
          "output_type": "error",
          "ename": "TypeError",
          "evalue": "'str' object does not support item assignment",
          "traceback": [
            "\u001b[0;31m---------------------------------------------------------------------------\u001b[0m",
            "\u001b[0;31mTypeError\u001b[0m                                 Traceback (most recent call last)",
            "\u001b[0;32m<ipython-input-76-be7413d6f9a3>\u001b[0m in \u001b[0;36m<cell line: 1>\u001b[0;34m()\u001b[0m\n\u001b[0;32m----> 1\u001b[0;31m \u001b[0mname\u001b[0m\u001b[0;34m[\u001b[0m\u001b[0;36m0\u001b[0m\u001b[0;34m]\u001b[0m\u001b[0;34m=\u001b[0m \u001b[0;34m\"P\"\u001b[0m\u001b[0;34m\u001b[0m\u001b[0;34m\u001b[0m\u001b[0m\n\u001b[0m",
            "\u001b[0;31mTypeError\u001b[0m: 'str' object does not support item assignment"
          ]
        }
      ],
      "source": [
        "name[0]= \"P\""
      ]
    },
    {
      "cell_type": "code",
      "execution_count": 77,
      "metadata": {
        "colab": {
          "base_uri": "https://localhost:8080/",
          "height": 35
        },
        "id": "k3jHrfDGjKxB",
        "outputId": "b6499e7a-18ec-45be-d0ac-cea8dfa363a0"
      },
      "outputs": [
        {
          "output_type": "execute_result",
          "data": {
            "text/plain": [
              "'M'"
            ],
            "application/vnd.google.colaboratory.intrinsic+json": {
              "type": "string"
            }
          },
          "metadata": {},
          "execution_count": 77
        }
      ],
      "source": [
        "name[0]"
      ]
    },
    {
      "cell_type": "code",
      "execution_count": 78,
      "metadata": {
        "colab": {
          "base_uri": "https://localhost:8080/",
          "height": 35
        },
        "id": "VXPCs403jKxB",
        "outputId": "602fdd03-ccb1-4fb6-92b4-c0a48959e8e8"
      },
      "outputs": [
        {
          "output_type": "execute_result",
          "data": {
            "text/plain": [
              "'Mont'"
            ],
            "application/vnd.google.colaboratory.intrinsic+json": {
              "type": "string"
            }
          },
          "metadata": {},
          "execution_count": 78
        }
      ],
      "source": [
        "name[0:4]"
      ]
    },
    {
      "cell_type": "markdown",
      "metadata": {
        "id": "j2FTLOWdjKxB"
      },
      "source": [
        "#### We can also perform multiplication and addition with strings:"
      ]
    },
    {
      "cell_type": "code",
      "execution_count": 79,
      "metadata": {
        "colab": {
          "base_uri": "https://localhost:8080/",
          "height": 35
        },
        "id": "1DErJYcbjKxB",
        "outputId": "b8565fe8-1f99-4686-972d-df28fd2b6024"
      },
      "outputs": [
        {
          "output_type": "execute_result",
          "data": {
            "text/plain": [
              "'MontyMonty'"
            ],
            "application/vnd.google.colaboratory.intrinsic+json": {
              "type": "string"
            }
          },
          "metadata": {},
          "execution_count": 79
        }
      ],
      "source": [
        "name*2"
      ]
    },
    {
      "cell_type": "code",
      "execution_count": 80,
      "metadata": {
        "colab": {
          "base_uri": "https://localhost:8080/",
          "height": 35
        },
        "id": "aB23J5bJjKxB",
        "outputId": "e0d58796-b0e3-4db9-eccb-ab64493436c0"
      },
      "outputs": [
        {
          "output_type": "execute_result",
          "data": {
            "text/plain": [
              "'Monty!'"
            ],
            "application/vnd.google.colaboratory.intrinsic+json": {
              "type": "string"
            }
          },
          "metadata": {},
          "execution_count": 80
        }
      ],
      "source": [
        "name+'!'"
      ]
    },
    {
      "cell_type": "code",
      "execution_count": 81,
      "metadata": {
        "id": "OWW0eM8vjKxB"
      },
      "outputs": [],
      "source": [
        "# We can join the words of a list to make a single string, or split a string into a list, as follows:"
      ]
    },
    {
      "cell_type": "code",
      "execution_count": null,
      "metadata": {
        "id": "CAxtTf-5jKxB"
      },
      "outputs": [],
      "source": [
        "# how to convert a list into a string"
      ]
    },
    {
      "cell_type": "code",
      "execution_count": 82,
      "metadata": {
        "colab": {
          "base_uri": "https://localhost:8080/",
          "height": 35
        },
        "id": "iBs0A4yqjKxB",
        "outputId": "1661aac7-4ed8-4631-b2a4-02f0fb9877b8"
      },
      "outputs": [
        {
          "output_type": "execute_result",
          "data": {
            "text/plain": [
              "'Monty Python'"
            ],
            "application/vnd.google.colaboratory.intrinsic+json": {
              "type": "string"
            }
          },
          "metadata": {},
          "execution_count": 82
        }
      ],
      "source": [
        "' '.join(['Monty', 'Python'])"
      ]
    },
    {
      "cell_type": "code",
      "execution_count": null,
      "metadata": {
        "id": "5AaKHEeLjKxB"
      },
      "outputs": [],
      "source": [
        "# how to convert a string into a list"
      ]
    },
    {
      "cell_type": "code",
      "execution_count": 83,
      "metadata": {
        "colab": {
          "base_uri": "https://localhost:8080/"
        },
        "id": "nyfcwtkBjKxB",
        "outputId": "ca692e02-8539-483b-b31d-826d6c02b32e"
      },
      "outputs": [
        {
          "output_type": "execute_result",
          "data": {
            "text/plain": [
              "['Monty', 'Python']"
            ]
          },
          "metadata": {},
          "execution_count": 83
        }
      ],
      "source": [
        "'Monty Python'.split()"
      ]
    },
    {
      "cell_type": "markdown",
      "metadata": {
        "id": "X4aNVgaSjKxB"
      },
      "source": [
        "### Q and A"
      ]
    },
    {
      "cell_type": "markdown",
      "metadata": {
        "id": "EQ9KIyCKjKxC"
      },
      "source": [
        "### 3.Computing with Language: Simple Statistics"
      ]
    },
    {
      "cell_type": "markdown",
      "metadata": {
        "id": "CrVqD5tejKxC"
      },
      "source": [
        "#### Let's return to our exploration of the ways we can bring our computational resources to bear on large quantities of text. We began this discussion in 1, and saw how to search for words in context, how to compile the vocabulary of a text, how to generate random text in the same style, and so on."
      ]
    },
    {
      "cell_type": "markdown",
      "metadata": {
        "id": "p7Tfmf0LjKxC"
      },
      "source": [
        "#### In this section we pick up the question of what makes a text distinct, and use automatic methods to find characteristic words and expressions of a text"
      ]
    },
    {
      "cell_type": "markdown",
      "metadata": {
        "id": "4eDPWoZfjKxC"
      },
      "source": [
        "### 3.1 Frequency Distributions"
      ]
    },
    {
      "cell_type": "markdown",
      "metadata": {
        "id": "CcZbcLnbjKxC"
      },
      "source": [
        "#### It is a \"distribution\" because it tells us how the total number of word tokens in the text are distributed across the vocabulary items."
      ]
    },
    {
      "cell_type": "markdown",
      "metadata": {
        "id": "WCGtNGavjKxC"
      },
      "source": [
        "#### Since we often need frequency distributions in language processing, NLTK provides built-in support for them. Let's use a FreqDist to find the 50 most frequent words of Moby Dick:"
      ]
    },
    {
      "cell_type": "code",
      "execution_count": null,
      "metadata": {
        "id": "iyT56a_ijKxC"
      },
      "outputs": [],
      "source": [
        "# FreqDist: take a list as an input. The output is a dictionary"
      ]
    },
    {
      "cell_type": "code",
      "execution_count": 84,
      "metadata": {
        "id": "FtrDLA7rjKxC"
      },
      "outputs": [],
      "source": [
        "text=[\"I\", \"bought\",\"two\",\"apples\",\"and\",\"two\",\"pears\",\":)\"]"
      ]
    },
    {
      "cell_type": "code",
      "execution_count": 85,
      "metadata": {
        "id": "RnnjlJcZjKxC"
      },
      "outputs": [],
      "source": [
        "fdist=FreqDist(text)"
      ]
    },
    {
      "cell_type": "code",
      "execution_count": 86,
      "metadata": {
        "colab": {
          "base_uri": "https://localhost:8080/"
        },
        "id": "E8VaXJ1hjKxC",
        "outputId": "5759292c-e3f6-485c-c272-7e14ef5f35a5"
      },
      "outputs": [
        {
          "output_type": "execute_result",
          "data": {
            "text/plain": [
              "FreqDist({'two': 2, 'I': 1, 'bought': 1, 'apples': 1, 'and': 1, 'pears': 1, ':)': 1})"
            ]
          },
          "metadata": {},
          "execution_count": 86
        }
      ],
      "source": [
        "fdist"
      ]
    },
    {
      "cell_type": "code",
      "execution_count": 87,
      "metadata": {
        "colab": {
          "base_uri": "https://localhost:8080/"
        },
        "id": "jp5ThAr1jKxC",
        "outputId": "b0558af4-35de-483a-a876-352fc7f43e66"
      },
      "outputs": [
        {
          "output_type": "stream",
          "name": "stdout",
          "text": [
            "<FreqDist with 7 samples and 8 outcomes>\n"
          ]
        }
      ],
      "source": [
        "print(fdist)"
      ]
    },
    {
      "cell_type": "code",
      "execution_count": 88,
      "metadata": {
        "colab": {
          "base_uri": "https://localhost:8080/"
        },
        "id": "O-2y-r-ljKxC",
        "outputId": "d62bdc4c-9a95-4b86-dd41-d2a70b3f3924"
      },
      "outputs": [
        {
          "output_type": "execute_result",
          "data": {
            "text/plain": [
              "7"
            ]
          },
          "metadata": {},
          "execution_count": 88
        }
      ],
      "source": [
        "len(set(text))"
      ]
    },
    {
      "cell_type": "code",
      "execution_count": 89,
      "metadata": {
        "colab": {
          "base_uri": "https://localhost:8080/"
        },
        "id": "XcasjWhdjKxC",
        "outputId": "871fba00-3819-4429-df25-430086ab64db"
      },
      "outputs": [
        {
          "output_type": "execute_result",
          "data": {
            "text/plain": [
              "8"
            ]
          },
          "metadata": {},
          "execution_count": 89
        }
      ],
      "source": [
        "len(text)"
      ]
    },
    {
      "cell_type": "code",
      "execution_count": null,
      "metadata": {
        "id": "TjT4qNgDjKxC"
      },
      "outputs": [],
      "source": []
    },
    {
      "cell_type": "code",
      "execution_count": 90,
      "metadata": {
        "id": "aX2fz73rjKxC"
      },
      "outputs": [],
      "source": [
        "fdist1 = FreqDist(text1)"
      ]
    },
    {
      "cell_type": "code",
      "execution_count": 91,
      "metadata": {
        "colab": {
          "base_uri": "https://localhost:8080/"
        },
        "id": "iHrZ-mgojKxC",
        "outputId": "2d1a6387-9045-41d9-9ddf-7da436cf3612"
      },
      "outputs": [
        {
          "output_type": "stream",
          "name": "stdout",
          "text": [
            "<FreqDist with 19317 samples and 260819 outcomes>\n"
          ]
        }
      ],
      "source": [
        "print(fdist1)"
      ]
    },
    {
      "cell_type": "code",
      "execution_count": 92,
      "metadata": {
        "colab": {
          "base_uri": "https://localhost:8080/"
        },
        "id": "I98mEpbsjKxC",
        "outputId": "af470099-c18a-4f49-bc09-17eeede7a349"
      },
      "outputs": [
        {
          "output_type": "execute_result",
          "data": {
            "text/plain": [
              "260819"
            ]
          },
          "metadata": {},
          "execution_count": 92
        }
      ],
      "source": [
        "len(text1)"
      ]
    },
    {
      "cell_type": "code",
      "execution_count": 93,
      "metadata": {
        "colab": {
          "base_uri": "https://localhost:8080/"
        },
        "id": "HCTsD6mmjKxC",
        "outputId": "931c52a3-af1a-4590-8f34-d9d2af4e78ed"
      },
      "outputs": [
        {
          "output_type": "execute_result",
          "data": {
            "text/plain": [
              "19317"
            ]
          },
          "metadata": {},
          "execution_count": 93
        }
      ],
      "source": [
        "len(set(text1))"
      ]
    },
    {
      "cell_type": "code",
      "execution_count": 94,
      "metadata": {
        "scrolled": true,
        "colab": {
          "base_uri": "https://localhost:8080/"
        },
        "id": "71efot7PjKxD",
        "outputId": "9961624c-dbcb-4307-91f1-7a06f78f1e0a"
      },
      "outputs": [
        {
          "output_type": "execute_result",
          "data": {
            "text/plain": [
              "FreqDist({',': 18713, 'the': 13721, '.': 6862, 'of': 6536, 'and': 6024, 'a': 4569, 'to': 4542, ';': 4072, 'in': 3916, 'that': 2982, ...})"
            ]
          },
          "metadata": {},
          "execution_count": 94
        }
      ],
      "source": [
        "fdist1"
      ]
    },
    {
      "cell_type": "code",
      "execution_count": 95,
      "metadata": {
        "scrolled": true,
        "colab": {
          "base_uri": "https://localhost:8080/"
        },
        "id": "fImgQUd0jKxD",
        "outputId": "4f23bf9e-a9a2-4603-95d7-f174f3d5bb17"
      },
      "outputs": [
        {
          "output_type": "execute_result",
          "data": {
            "text/plain": [
              "[(',', 18713),\n",
              " ('the', 13721),\n",
              " ('.', 6862),\n",
              " ('of', 6536),\n",
              " ('and', 6024),\n",
              " ('a', 4569),\n",
              " ('to', 4542),\n",
              " (';', 4072),\n",
              " ('in', 3916),\n",
              " ('that', 2982),\n",
              " (\"'\", 2684),\n",
              " ('-', 2552),\n",
              " ('his', 2459),\n",
              " ('it', 2209),\n",
              " ('I', 2124),\n",
              " ('s', 1739),\n",
              " ('is', 1695),\n",
              " ('he', 1661),\n",
              " ('with', 1659),\n",
              " ('was', 1632),\n",
              " ('as', 1620),\n",
              " ('\"', 1478),\n",
              " ('all', 1462),\n",
              " ('for', 1414),\n",
              " ('this', 1280),\n",
              " ('!', 1269),\n",
              " ('at', 1231),\n",
              " ('by', 1137),\n",
              " ('but', 1113),\n",
              " ('not', 1103),\n",
              " ('--', 1070),\n",
              " ('him', 1058),\n",
              " ('from', 1052),\n",
              " ('be', 1030),\n",
              " ('on', 1005),\n",
              " ('so', 918),\n",
              " ('whale', 906),\n",
              " ('one', 889),\n",
              " ('you', 841),\n",
              " ('had', 767),\n",
              " ('have', 760),\n",
              " ('there', 715),\n",
              " ('But', 705),\n",
              " ('or', 697),\n",
              " ('were', 680),\n",
              " ('now', 646),\n",
              " ('which', 640),\n",
              " ('?', 637),\n",
              " ('me', 627),\n",
              " ('like', 624)]"
            ]
          },
          "metadata": {},
          "execution_count": 95
        }
      ],
      "source": [
        "fdist1.most_common(50)"
      ]
    },
    {
      "cell_type": "code",
      "execution_count": 96,
      "metadata": {
        "colab": {
          "base_uri": "https://localhost:8080/",
          "height": 35
        },
        "id": "5hD7Sr6zjKxD",
        "outputId": "60a07cbe-d82e-459f-e2bd-e19e7c0deffc"
      },
      "outputs": [
        {
          "output_type": "execute_result",
          "data": {
            "text/plain": [
              "','"
            ],
            "application/vnd.google.colaboratory.intrinsic+json": {
              "type": "string"
            }
          },
          "metadata": {},
          "execution_count": 96
        }
      ],
      "source": [
        "fdist1.max()"
      ]
    },
    {
      "cell_type": "code",
      "execution_count": 97,
      "metadata": {
        "colab": {
          "base_uri": "https://localhost:8080/"
        },
        "id": "LcWdpa8qjKxD",
        "outputId": "de3d0b6c-687e-48a8-adf2-5c6671e4edc2"
      },
      "outputs": [
        {
          "output_type": "execute_result",
          "data": {
            "text/plain": [
              "18713"
            ]
          },
          "metadata": {},
          "execution_count": 97
        }
      ],
      "source": [
        "fdist1[\",\"]"
      ]
    },
    {
      "cell_type": "code",
      "execution_count": 98,
      "metadata": {
        "colab": {
          "base_uri": "https://localhost:8080/"
        },
        "id": "mCRyne6jjKxD",
        "outputId": "ae65ec58-f09f-42e9-f135-3be7312ee147"
      },
      "outputs": [
        {
          "output_type": "execute_result",
          "data": {
            "text/plain": [
              "0.07174707364110744"
            ]
          },
          "metadata": {},
          "execution_count": 98
        }
      ],
      "source": [
        "fdist1.freq(\",\")"
      ]
    },
    {
      "cell_type": "code",
      "execution_count": 99,
      "metadata": {
        "colab": {
          "base_uri": "https://localhost:8080/"
        },
        "id": "hhKiYp_RjKxD",
        "outputId": "32886f96-7b9f-4618-aa1e-c1019fc42de7"
      },
      "outputs": [
        {
          "output_type": "execute_result",
          "data": {
            "text/plain": [
              "0.07174707364110744"
            ]
          },
          "metadata": {},
          "execution_count": 99
        }
      ],
      "source": [
        "18713/260819"
      ]
    },
    {
      "cell_type": "code",
      "execution_count": 100,
      "metadata": {
        "scrolled": true,
        "colab": {
          "base_uri": "https://localhost:8080/"
        },
        "id": "cgQo6gWxjKxD",
        "outputId": "0316302f-2060-498d-d232-f52ada0a89cd"
      },
      "outputs": [
        {
          "output_type": "execute_result",
          "data": {
            "text/plain": [
              "906"
            ]
          },
          "metadata": {},
          "execution_count": 100
        }
      ],
      "source": [
        "fdist1['whale']"
      ]
    },
    {
      "cell_type": "markdown",
      "metadata": {
        "id": "G_LSwmwojKxD"
      },
      "source": [
        "#### Do any words produced in the last example help us grasp the topic or genre of this text? Only one word, whale, is slightly informative! It occurs over 900 times. The rest of the words tell us nothing about the text; they're just English \"plumbing.\"  "
      ]
    },
    {
      "cell_type": "markdown",
      "metadata": {
        "id": "qiZ9HV2DjKxD"
      },
      "source": [
        "#### What proportion of the text is taken up with such words?"
      ]
    },
    {
      "cell_type": "markdown",
      "metadata": {
        "id": "YPQHeTdNjKxD"
      },
      "source": [
        "#### We can generate a cumulative frequency plot for these words, using fdist1.plot(50, cumulative=True),"
      ]
    },
    {
      "cell_type": "code",
      "execution_count": 101,
      "metadata": {
        "colab": {
          "base_uri": "https://localhost:8080/",
          "height": 494
        },
        "id": "Thrkk2cdjKxD",
        "outputId": "eb2706ca-b68b-444c-a29f-9bdf38e2f350"
      },
      "outputs": [
        {
          "output_type": "display_data",
          "data": {
            "text/plain": [
              "<Figure size 640x480 with 1 Axes>"
            ],
            "image/png": "[encoded data removed]"
          },
          "metadata": {}
        },
        {
          "output_type": "execute_result",
          "data": {
            "text/plain": [
              "<Axes: xlabel='Samples', ylabel='Cumulative Counts'>"
            ]
          },
          "metadata": {},
          "execution_count": 101
        }
      ],
      "source": [
        "fdist1.plot(50, cumulative=True)"
      ]
    },
    {
      "cell_type": "code",
      "execution_count": 102,
      "metadata": {
        "colab": {
          "base_uri": "https://localhost:8080/"
        },
        "id": "DipoKp43jKxD",
        "outputId": "558c0f28-f77d-4ce7-ba3f-ba05d2c8e21f"
      },
      "outputs": [
        {
          "output_type": "execute_result",
          "data": {
            "text/plain": [
              "260819"
            ]
          },
          "metadata": {},
          "execution_count": 102
        }
      ],
      "source": [
        "len(text1)"
      ]
    },
    {
      "cell_type": "markdown",
      "metadata": {
        "id": "2QH-Pvr5jKxD"
      },
      "source": [
        "#### The above 50 words account for nearly half the book!"
      ]
    },
    {
      "cell_type": "markdown",
      "metadata": {
        "id": "_P8j13d5jKxD"
      },
      "source": [
        "#### If the frequent words don't help us, how about the words that occur once only, the so-called hapaxes? View them by typing fdist1.hapaxes()."
      ]
    },
    {
      "cell_type": "code",
      "execution_count": 103,
      "metadata": {
        "colab": {
          "base_uri": "https://localhost:8080/"
        },
        "id": "_RQ7SxBVjKxD",
        "outputId": "06c29be8-fa53-478b-d1fe-a688cf846512"
      },
      "outputs": [
        {
          "output_type": "execute_result",
          "data": {
            "text/plain": [
              "['Herman',\n",
              " 'Melville',\n",
              " ']',\n",
              " 'ETYMOLOGY',\n",
              " 'Late',\n",
              " 'Consumptive',\n",
              " 'School',\n",
              " 'threadbare',\n",
              " 'lexicons',\n",
              " 'mockingly',\n",
              " 'flags',\n",
              " 'mortality',\n",
              " 'signification',\n",
              " 'HACKLUYT',\n",
              " 'Sw',\n",
              " 'HVAL',\n",
              " 'roundness',\n",
              " 'Dut',\n",
              " 'Ger',\n",
              " 'WALLEN',\n",
              " 'WALW',\n",
              " 'IAN',\n",
              " 'RICHARDSON',\n",
              " 'KETOS',\n",
              " 'GREEK',\n",
              " 'CETUS',\n",
              " 'LATIN',\n",
              " 'WHOEL',\n",
              " 'ANGLO',\n",
              " 'SAXON',\n",
              " 'WAL',\n",
              " 'HWAL',\n",
              " 'SWEDISH',\n",
              " 'ICELANDIC',\n",
              " 'BALEINE',\n",
              " 'BALLENA',\n",
              " 'FEGEE',\n",
              " 'ERROMANGOAN',\n",
              " 'Librarian',\n",
              " 'painstaking',\n",
              " 'burrower',\n",
              " 'grub',\n",
              " 'Vaticans',\n",
              " 'stalls',\n",
              " 'higgledy',\n",
              " 'piggledy',\n",
              " 'gospel',\n",
              " 'promiscuously',\n",
              " 'commentator',\n",
              " 'belongest',\n",
              " 'sallow',\n",
              " 'Pale',\n",
              " 'Sherry',\n",
              " 'loves',\n",
              " 'bluntly',\n",
              " 'Subs',\n",
              " 'thankless',\n",
              " 'Hampton',\n",
              " 'Court',\n",
              " 'hie',\n",
              " 'refugees',\n",
              " 'pampered',\n",
              " 'Michael',\n",
              " 'Raphael',\n",
              " 'unsplinterable',\n",
              " 'GENESIS',\n",
              " 'JOB',\n",
              " 'JONAH',\n",
              " 'punish',\n",
              " 'ISAIAH',\n",
              " 'soever',\n",
              " 'cometh',\n",
              " 'incontinently',\n",
              " 'perisheth',\n",
              " 'PLUTARCH',\n",
              " 'MORALS',\n",
              " 'breedeth',\n",
              " 'Whirlpooles',\n",
              " 'Balaene',\n",
              " 'arpens',\n",
              " 'PLINY',\n",
              " 'Scarcely',\n",
              " 'TOOKE',\n",
              " 'LUCIAN',\n",
              " 'TRUE',\n",
              " 'catched',\n",
              " 'OCTHER',\n",
              " 'VERBAL',\n",
              " 'TAKEN',\n",
              " 'MOUTH',\n",
              " 'ALFRED',\n",
              " '890',\n",
              " 'gudgeon',\n",
              " 'retires',\n",
              " 'MONTAIGNE',\n",
              " 'APOLOGY',\n",
              " 'RAIMOND',\n",
              " 'SEBOND',\n",
              " 'Nick',\n",
              " 'RABELAIS',\n",
              " 'cartloads',\n",
              " 'STOWE',\n",
              " 'ANNALS',\n",
              " 'LORD',\n",
              " 'BACON',\n",
              " 'Touching',\n",
              " 'ork',\n",
              " 'DEATH',\n",
              " 'sovereignest',\n",
              " 'bruise',\n",
              " 'HAMLET',\n",
              " 'leach',\n",
              " 'Mote',\n",
              " 'availle',\n",
              " 'returne',\n",
              " 'againe',\n",
              " 'worker',\n",
              " 'Dinting',\n",
              " 'paine',\n",
              " 'thro',\n",
              " 'maine',\n",
              " 'FAERIE',\n",
              " 'Immense',\n",
              " 'til',\n",
              " 'DAVENANT',\n",
              " 'PREFACE',\n",
              " 'GONDIBERT',\n",
              " 'spermacetti',\n",
              " 'Hosmannus',\n",
              " 'Nescio',\n",
              " 'VIDE',\n",
              " 'Spencer',\n",
              " 'Talus',\n",
              " 'flail',\n",
              " 'threatens',\n",
              " 'jav',\n",
              " 'lins',\n",
              " 'WALLER',\n",
              " 'SUMMER',\n",
              " 'ISLANDS',\n",
              " 'Commonwealth',\n",
              " 'Civitas',\n",
              " 'OPENING',\n",
              " 'SENTENCE',\n",
              " 'HOBBES',\n",
              " 'LEVIATHAN',\n",
              " 'Silly',\n",
              " 'Mansoul',\n",
              " 'chewing',\n",
              " 'sprat',\n",
              " 'PILGRIM',\n",
              " 'PROGRESS',\n",
              " 'Created',\n",
              " 'PARADISE',\n",
              " 'LOST',\n",
              " '---\"',\n",
              " 'Hugest',\n",
              " 'Stretched',\n",
              " 'Draws',\n",
              " 'FULLLER',\n",
              " 'PROFANE',\n",
              " 'HOLY',\n",
              " 'STATE',\n",
              " 'DRYDEN',\n",
              " 'ANNUS',\n",
              " 'MIRABILIS',\n",
              " 'aground',\n",
              " 'EDGE',\n",
              " 'TEN',\n",
              " 'SPITZBERGEN',\n",
              " 'PURCHAS',\n",
              " 'wantonness',\n",
              " 'fuzzing',\n",
              " 'vents',\n",
              " 'HERBERT',\n",
              " 'INTO',\n",
              " 'ASIA',\n",
              " 'AFRICA',\n",
              " 'SCHOUTEN',\n",
              " 'SIXTH',\n",
              " 'CIRCUMNAVIGATION',\n",
              " 'Elbe',\n",
              " 'ducat',\n",
              " 'herrings',\n",
              " 'GREENLAND',\n",
              " 'Several',\n",
              " 'Fife',\n",
              " 'Anno',\n",
              " '1652',\n",
              " 'Pitferren',\n",
              " 'SIBBALD',\n",
              " 'FIFE',\n",
              " 'KINROSS',\n",
              " 'Myself',\n",
              " 'Sperma',\n",
              " 'ceti',\n",
              " 'fierceness',\n",
              " 'RICHARD',\n",
              " 'STRAFFORD',\n",
              " 'LETTER',\n",
              " 'BERMUDAS',\n",
              " 'PHIL',\n",
              " 'TRANS',\n",
              " '1668',\n",
              " 'PRIMER',\n",
              " 'COWLEY',\n",
              " '1729',\n",
              " '\"...',\n",
              " 'frequendy',\n",
              " 'insupportable',\n",
              " 'disorder',\n",
              " 'ULLOA',\n",
              " 'SOUTH',\n",
              " 'AMERICA',\n",
              " 'sylphs',\n",
              " 'petticoat',\n",
              " 'Oft',\n",
              " 'Tho',\n",
              " 'RAPE',\n",
              " 'LOCK',\n",
              " 'NAT',\n",
              " 'wales',\n",
              " 'JOHNSON',\n",
              " 'COOK',\n",
              " 'dung',\n",
              " 'lime',\n",
              " 'juniper',\n",
              " 'UNO',\n",
              " 'VON',\n",
              " 'TROIL',\n",
              " 'LETTERS',\n",
              " 'BANKS',\n",
              " 'SOLANDER',\n",
              " '1772',\n",
              " 'Nantuckois',\n",
              " 'JEFFERSON',\n",
              " 'MEMORIAL',\n",
              " 'MINISTER',\n",
              " 'REFERENCE',\n",
              " 'PARLIAMENT',\n",
              " 'SOMEWHERE',\n",
              " 'guarding',\n",
              " 'protecting',\n",
              " 'robbers',\n",
              " 'BLACKSTONE',\n",
              " 'Rodmond',\n",
              " 'suspends',\n",
              " 'attends',\n",
              " 'FALCONER',\n",
              " 'Bright',\n",
              " 'roofs',\n",
              " 'domes',\n",
              " 'rockets',\n",
              " 'Around',\n",
              " 'unwieldy',\n",
              " 'COWPER',\n",
              " 'VISIT',\n",
              " 'LONDON',\n",
              " 'HUNTER',\n",
              " 'DISSECTION',\n",
              " 'SMALL',\n",
              " 'SIZED',\n",
              " 'aorta',\n",
              " 'gushing',\n",
              " 'PALEY',\n",
              " 'THEOLOGY',\n",
              " 'mammiferous',\n",
              " 'hind',\n",
              " 'BARON',\n",
              " 'CUVIER',\n",
              " 'COLNETT',\n",
              " 'PURPOSE',\n",
              " 'EXTENDING',\n",
              " 'SPERMACETI',\n",
              " 'Floundered',\n",
              " 'chace',\n",
              " 'peopling',\n",
              " 'Gather',\n",
              " 'Led',\n",
              " 'instincts',\n",
              " 'trackless',\n",
              " 'Assaulted',\n",
              " 'voracious',\n",
              " 'spiral',\n",
              " 'MONTGOMERY',\n",
              " 'WORLD',\n",
              " 'FLOOD',\n",
              " 'Paean',\n",
              " 'fatter',\n",
              " 'Flounders',\n",
              " 'CHARLES',\n",
              " 'LAMB',\n",
              " 'TRIUMPH',\n",
              " '1690',\n",
              " 'OBED',\n",
              " 'Susan',\n",
              " 'HAWTHORNE',\n",
              " 'TWICE',\n",
              " 'bespeak',\n",
              " 'raal',\n",
              " 'COOPER',\n",
              " 'PILOT',\n",
              " 'Berlin',\n",
              " 'Gazette',\n",
              " 'ECKERMANN',\n",
              " 'CONVERSATIONS',\n",
              " 'GOETHE',\n",
              " 'ESSEX',\n",
              " 'WAS',\n",
              " 'ATTACKED',\n",
              " 'FINALLY',\n",
              " 'DESTROYED',\n",
              " 'OWEN',\n",
              " 'CHACE',\n",
              " 'FIRST',\n",
              " 'SAID',\n",
              " 'VESSEL',\n",
              " 'YORK',\n",
              " '1821',\n",
              " 'piping',\n",
              " 'dimmed',\n",
              " 'phospher',\n",
              " 'ELIZABETH',\n",
              " 'OAKES',\n",
              " 'SMITH',\n",
              " 'amounted',\n",
              " '440',\n",
              " 'SCORESBY',\n",
              " 'Mad',\n",
              " 'agonies',\n",
              " 'endures',\n",
              " 'infuriated',\n",
              " 'rears',\n",
              " 'snaps',\n",
              " 'propelled',\n",
              " 'observers',\n",
              " 'opportunities',\n",
              " 'habitudes',\n",
              " 'BEALE',\n",
              " 'offensively',\n",
              " 'artful',\n",
              " 'mischievous',\n",
              " 'FREDERICK',\n",
              " 'DEBELL',\n",
              " '1840',\n",
              " 'October',\n",
              " 'Raise',\n",
              " 'ay',\n",
              " 'THAR',\n",
              " 'bowes',\n",
              " 'os',\n",
              " 'ROSS',\n",
              " 'ETCHINGS',\n",
              " 'CRUIZE',\n",
              " '1846',\n",
              " 'Globe',\n",
              " 'transactions',\n",
              " 'relate',\n",
              " 'HUSSEY',\n",
              " 'SURVIVORS',\n",
              " 'parried',\n",
              " 'MISSIONARY',\n",
              " 'JOURNAL',\n",
              " 'TYERMAN',\n",
              " 'boldest',\n",
              " 'persevering',\n",
              " 'REPORT',\n",
              " 'DANIEL',\n",
              " 'SPEECH',\n",
              " 'SENATE',\n",
              " 'APPLICATION',\n",
              " 'ERECTION',\n",
              " 'BREAKWATER',\n",
              " 'CAPTORS',\n",
              " 'WHALEMAN',\n",
              " 'ADVENTURES',\n",
              " 'BIOGRAPHY',\n",
              " 'GATHERED',\n",
              " 'HOMEWARD',\n",
              " 'COMMODORE',\n",
              " 'PREBLE',\n",
              " 'REV',\n",
              " 'CHEEVER',\n",
              " 'MUTINEER',\n",
              " 'BROTHER',\n",
              " 'ANOTHER',\n",
              " 'MCCULLOCH',\n",
              " 'COMMERCIAL',\n",
              " 'reciprocal',\n",
              " 'clews',\n",
              " 'SOMETHING',\n",
              " 'UNPUBLISHED',\n",
              " 'CURRENTS',\n",
              " 'Pedestrians',\n",
              " 'recollect',\n",
              " 'gateways',\n",
              " 'VOYAGER',\n",
              " 'ARCTIC',\n",
              " 'NEWSPAPER',\n",
              " 'TAKING',\n",
              " 'RETAKING',\n",
              " 'HOBOMACK',\n",
              " 'MIRIAM',\n",
              " 'FISHERMAN',\n",
              " 'appliance',\n",
              " 'RIBS',\n",
              " 'TRUCKS',\n",
              " 'Terra',\n",
              " 'Del',\n",
              " 'Fuego',\n",
              " 'DARWIN',\n",
              " 'NATURALIST',\n",
              " \";--'\",\n",
              " '!\\'\"',\n",
              " 'WHARTON',\n",
              " 'Loomings',\n",
              " 'spleen',\n",
              " 'regulating',\n",
              " 'circulation',\n",
              " 'Whenever',\n",
              " 'drizzly',\n",
              " 'hypos',\n",
              " 'philosophical',\n",
              " 'Cato',\n",
              " 'Manhattoes',\n",
              " 'reefs',\n",
              " 'downtown',\n",
              " 'gazers',\n",
              " 'Circumambulate',\n",
              " 'Corlears',\n",
              " 'Coenties',\n",
              " 'Slip',\n",
              " 'Whitehall',\n",
              " 'Posted',\n",
              " 'sentinels',\n",
              " 'spiles',\n",
              " 'pier',\n",
              " 'lath',\n",
              " 'counters',\n",
              " 'desks',\n",
              " 'loitering',\n",
              " 'shady',\n",
              " 'Inlanders',\n",
              " 'lanes',\n",
              " 'alleys',\n",
              " 'attract',\n",
              " 'dale',\n",
              " 'dreamiest',\n",
              " 'shadiest',\n",
              " 'quietest',\n",
              " 'enchanting',\n",
              " 'Saco',\n",
              " 'crucifix',\n",
              " 'Deep',\n",
              " 'mazy',\n",
              " 'Tiger',\n",
              " 'Tennessee',\n",
              " 'Rockaway',\n",
              " 'Persians',\n",
              " 'deity',\n",
              " 'Narcissus',\n",
              " 'ungraspable',\n",
              " 'hazy',\n",
              " 'quarrelsome',\n",
              " 'offices',\n",
              " 'abominate',\n",
              " 'toils',\n",
              " 'trials',\n",
              " 'barques',\n",
              " 'schooners',\n",
              " 'broiling',\n",
              " 'buttered',\n",
              " 'judgmatically',\n",
              " 'peppered',\n",
              " 'reverentially',\n",
              " 'idolatrous',\n",
              " 'dotings',\n",
              " 'ibis',\n",
              " 'roasted',\n",
              " 'bake',\n",
              " 'plumb',\n",
              " 'Van',\n",
              " 'Rensselaers',\n",
              " 'Randolphs',\n",
              " 'Hardicanutes',\n",
              " 'lording',\n",
              " 'tallest',\n",
              " 'decoction',\n",
              " 'Seneca',\n",
              " 'Stoics',\n",
              " 'Testament',\n",
              " 'promptly',\n",
              " 'rub',\n",
              " 'infliction',\n",
              " 'BEING',\n",
              " 'PAID',\n",
              " 'urbane',\n",
              " 'ills',\n",
              " 'monied',\n",
              " 'consign',\n",
              " 'prevalent',\n",
              " 'violate',\n",
              " 'Pythagorean',\n",
              " 'commonalty',\n",
              " 'police',\n",
              " 'surveillance',\n",
              " 'programme',\n",
              " 'solo',\n",
              " 'CONTESTED',\n",
              " 'ELECTION',\n",
              " 'PRESIDENCY',\n",
              " 'UNITED',\n",
              " 'STATES',\n",
              " 'ISHMAEL',\n",
              " 'BLOODY',\n",
              " 'AFFGHANISTAN',\n",
              " 'managers',\n",
              " 'genteel',\n",
              " 'comedies',\n",
              " 'farces',\n",
              " 'cunningly',\n",
              " 'disguises',\n",
              " 'cajoling',\n",
              " 'unbiased',\n",
              " 'freewill',\n",
              " 'discriminating',\n",
              " 'overwhelming',\n",
              " 'undeliverable',\n",
              " 'itch',\n",
              " 'forbidden',\n",
              " 'ignoring',\n",
              " 'lodges',\n",
              " 'Carpet',\n",
              " 'Bag',\n",
              " 'Manhatto',\n",
              " 'candidates',\n",
              " 'penalties',\n",
              " 'Tyre',\n",
              " 'Carthage',\n",
              " 'imported',\n",
              " 'cobblestones',\n",
              " 'bitingly',\n",
              " 'shouldering',\n",
              " 'price',\n",
              " 'fervent',\n",
              " 'asphaltic',\n",
              " 'pavement',\n",
              " 'flinty',\n",
              " 'projections',\n",
              " 'soles',\n",
              " 'Too',\n",
              " 'cheapest',\n",
              " 'cheeriest',\n",
              " 'invitingly',\n",
              " 'particles',\n",
              " 'peer',\n",
              " 'Angel',\n",
              " 'Doom',\n",
              " 'wailing',\n",
              " 'gnashing',\n",
              " 'Wretched',\n",
              " 'entertainment',\n",
              " 'Moving',\n",
              " 'emigrant',\n",
              " 'poverty',\n",
              " 'creak',\n",
              " 'lodgings',\n",
              " 'zephyr',\n",
              " 'hob',\n",
              " 'toasting',\n",
              " 'observest',\n",
              " 'sashless',\n",
              " 'glazier',\n",
              " 'reasonest',\n",
              " 'chinks',\n",
              " 'crannies',\n",
              " 'lint',\n",
              " 'chattering',\n",
              " 'shiverings',\n",
              " 'cob',\n",
              " 'redder',\n",
              " 'Orion',\n",
              " 'glitters',\n",
              " 'conservatories',\n",
              " 'president',\n",
              " 'temperance',\n",
              " 'blubbering',\n",
              " 'straggling',\n",
              " 'wainscots',\n",
              " 'reminding',\n",
              " 'oilpainting',\n",
              " 'besmoked',\n",
              " 'defaced',\n",
              " 'unequal',\n",
              " 'crosslights',\n",
              " 'hags',\n",
              " 'delineate',\n",
              " 'bewitched',\n",
              " 'ponderings',\n",
              " 'boggy',\n",
              " 'soggy',\n",
              " 'squitchy',\n",
              " 'froze',\n",
              " 'heath',\n",
              " 'icebound',\n",
              " 'represents',\n",
              " 'Horner',\n",
              " 'foundered',\n",
              " 'clubs',\n",
              " 'harvesting',\n",
              " 'hacking',\n",
              " 'horrifying',\n",
              " 'Mixed',\n",
              " 'Nathan',\n",
              " 'Swain',\n",
              " 'corkscrew',\n",
              " 'Blanco',\n",
              " 'sojourning',\n",
              " 'fireplaces',\n",
              " 'duskier',\n",
              " 'cockpits',\n",
              " 'rarities',\n",
              " 'Projecting',\n",
              " 'Within',\n",
              " 'shelves',\n",
              " 'flasks',\n",
              " 'bustles',\n",
              " 'deliriums',\n",
              " 'Abominable',\n",
              " 'tumblers',\n",
              " 'cylinders',\n",
              " 'goggling',\n",
              " 'deceitfully',\n",
              " 'tapered',\n",
              " 'Parallel',\n",
              " 'pecked',\n",
              " 'footpads',\n",
              " 'Fill',\n",
              " 'shilling',\n",
              " 'examining',\n",
              " 'SKRIMSHANDER',\n",
              " 'accommodated',\n",
              " 'unoccupied',\n",
              " 'haint',\n",
              " 'pose',\n",
              " 'whalin',\n",
              " 'decidedly',\n",
              " 'objectionable',\n",
              " 'wander',\n",
              " 'Battery',\n",
              " 'ruminating',\n",
              " 'adorning',\n",
              " 'potatoes',\n",
              " 'sartainty',\n",
              " 'diabolically',\n",
              " 'steaks',\n",
              " 'undress',\n",
              " 'looker',\n",
              " 'rioting',\n",
              " 'Grampus',\n",
              " 'seed',\n",
              " 'Feegees',\n",
              " 'tramping',\n",
              " 'Enveloped',\n",
              " 'bedarned',\n",
              " 'eruption',\n",
              " 'officiating',\n",
              " 'brimmers',\n",
              " 'complained',\n",
              " 'potion',\n",
              " 'colds',\n",
              " 'catarrhs',\n",
              " 'liquor',\n",
              " 'arrantest',\n",
              " 'topers',\n",
              " 'obstreperously',\n",
              " 'aloof',\n",
              " 'desirous',\n",
              " 'hilarity',\n",
              " 'coffer',\n",
              " 'Southerner',\n",
              " 'mountaineers',\n",
              " 'Alleghanian',\n",
              " 'missed',\n",
              " 'supernaturally',\n",
              " 'congratulate',\n",
              " 'multiply',\n",
              " 'bachelor',\n",
              " 'abominated',\n",
              " 'tidiest',\n",
              " 'bedwards',\n",
              " 'shan',\n",
              " 'tablecloth',\n",
              " 'Skrimshander',\n",
              " 'bump',\n",
              " 'spraining',\n",
              " 'eider',\n",
              " 'yoking',\n",
              " 'rickety',\n",
              " 'whirlwinds',\n",
              " 'knockings',\n",
              " 'dismissed',\n",
              " 'popped',\n",
              " 'cherishing',\n",
              " 'chuckled',\n",
              " 'chuckle',\n",
              " 'mightily',\n",
              " 'catches',\n",
              " 'bamboozingly',\n",
              " 'overstocked',\n",
              " 'toothpick',\n",
              " 'rayther',\n",
              " 'BROWN',\n",
              " 'slanderin',\n",
              " 'farrago',\n",
              " 'BROKE',\n",
              " 'Sartain',\n",
              " 'Mt',\n",
              " 'Hecla',\n",
              " 'persist',\n",
              " 'mystifying',\n",
              " 'unsay',\n",
              " 'criminal',\n",
              " 'Wall',\n",
              " 'purty',\n",
              " 'sarmon',\n",
              " 'rips',\n",
              " 'tellin',\n",
              " 'bought',\n",
              " 'balmed',\n",
              " 'curios',\n",
              " 'sellin',\n",
              " 'inions',\n",
              " 'fooling',\n",
              " 'idolators',\n",
              " 'Depend',\n",
              " 'reg',\n",
              " 'lar',\n",
              " 'spliced',\n",
              " 'Johnny',\n",
              " 'sprawling',\n",
              " 'Arter',\n",
              " 'glim',\n",
              " 'jiffy',\n",
              " 'irresolute',\n",
              " 'vum',\n",
              " 'WON',\n",
              " 'Folding',\n",
              " 'scrutiny',\n",
              " 'porcupine',\n",
              " 'moccasin',\n",
              " 'ponchos',\n",
              " 'parade',\n",
              " 'rainy',\n",
              " 'remembering',\n",
              " 'commended',\n",
              " 'cobs',\n",
              " 'Nod',\n",
              " 'footfall',\n",
              " 'unlacing',\n",
              " 'blackish',\n",
              " 'plasters',\n",
              " 'inkling',\n",
              " 'Placing',\n",
              " 'crammed',\n",
              " 'scalp',\n",
              " 'mildewed',\n",
              " 'Ignorance',\n",
              " 'parent',\n",
              " 'nonplussed',\n",
              " 'undressing',\n",
              " 'checkered',\n",
              " 'Thirty',\n",
              " 'frogs',\n",
              " 'quaked',\n",
              " 'wrapall',\n",
              " 'dreadnaught',\n",
              " 'fumbled',\n",
              " 'Remembering',\n",
              " 'manikin',\n",
              " 'tenpin',\n",
              " 'andirons',\n",
              " 'jambs',\n",
              " 'bricks',\n",
              " 'appropriate',\n",
              " 'applying',\n",
              " 'hastier',\n",
              " 'withdrawals',\n",
              " 'antics',\n",
              " 'devotee',\n",
              " 'extinguishing',\n",
              " 'unceremoniously',\n",
              " 'bagged',\n",
              " 'sportsman',\n",
              " 'woodcock',\n",
              " 'uncomfortableness',\n",
              " 'deliberating',\n",
              " 'puffed',\n",
              " 'sang',\n",
              " 'Stammering',\n",
              " 'conjured',\n",
              " 'responses',\n",
              " 'debel',\n",
              " 'flourishing',\n",
              " 'Angels',\n",
              " 'flourishings',\n",
              " 'peddlin',\n",
              " 'sleepe',\n",
              " 'grunted',\n",
              " 'gettee',\n",
              " 'motioning',\n",
              " 'comely',\n",
              " 'insured',\n",
              " 'Counterpane',\n",
              " 'parti',\n",
              " 'triangles',\n",
              " 'interminable',\n",
              " 'caper',\n",
              " 'supperless',\n",
              " '21st',\n",
              " 'hemisphere',\n",
              " 'sigh',\n",
              " 'Sixteen',\n",
              " 'ached',\n",
              " 'coaches',\n",
              " 'stockinged',\n",
              " 'slippering',\n",
              " 'misbehaviour',\n",
              " 'unendurable',\n",
              " 'stepmothers',\n",
              " 'misfortunes',\n",
              " 'steeped',\n",
              " 'shudderingly',\n",
              " 'confounding',\n",
              " 'soberly',\n",
              " 'recurred',\n",
              " 'predicament',\n",
              " 'unlock',\n",
              " 'bridegroom',\n",
              " 'clasp',\n",
              " 'hugged',\n",
              " 'rouse',\n",
              " 'snore',\n",
              " 'scratch',\n",
              " 'Throwing',\n",
              " 'expostulations',\n",
              " 'unbecomingness',\n",
              " 'matrimonial',\n",
              " 'dawning',\n",
              " 'overture',\n",
              " 'innate',\n",
              " 'compliment',\n",
              " 'civility',\n",
              " 'rudeness',\n",
              " 'toilette',\n",
              " 'dressing',\n",
              " 'donning',\n",
              " 'gaspings',\n",
              " 'booting',\n",
              " 'caterpillar',\n",
              " 'outlandishness',\n",
              " 'manners',\n",
              " 'education',\n",
              " 'undergraduate',\n",
              " 'dreamt',\n",
              " 'cowhide',\n",
              " 'pinched',\n",
              " 'curtains',\n",
              " 'indecorous',\n",
              " 'contented',\n",
              " 'restricting',\n",
              " 'donned',\n",
              " 'lathering',\n",
              " 'unsheathes',\n",
              " 'whets',\n",
              " 'Rogers',\n",
              " 'cutlery',\n",
              " 'Afterwards',\n",
              " 'baton',\n",
              " 'Breakfast',\n",
              " 'pleasantly',\n",
              " 'bountifully',\n",
              " 'laughable',\n",
              " 'bosky',\n",
              " 'unshorn',\n",
              " 'gowns',\n",
              " 'toasted',\n",
              " 'lingers',\n",
              " 'tarried',\n",
              " 'barred',\n",
              " 'Grub',\n",
              " 'Park',\n",
              " 'assurance',\n",
              " 'polish',\n",
              " 'occasioned',\n",
              " 'embarrassed',\n",
              " 'bashfulness',\n",
              " 'duelled',\n",
              " 'winking',\n",
              " 'tastes',\n",
              " 'sheepishly',\n",
              " 'bashful',\n",
              " 'icicle',\n",
              " 'admirer',\n",
              " 'cordially',\n",
              " 'grappling',\n",
              " 'genteelly',\n",
              " 'eschewed',\n",
              " 'undivided',\n",
              " '6',\n",
              " 'circulating',\n",
              " 'nondescripts',\n",
              " 'Chestnut',\n",
              " 'jostle',\n",
              " 'Regent',\n",
              " 'Lascars',\n",
              " 'Bombay',\n",
              " 'Apollo',\n",
              " 'Feegeeans',\n",
              " 'Tongatobooarrs',\n",
              " 'Erromanggoans',\n",
              " 'Pannangians',\n",
              " 'Brighggians',\n",
              " 'weekly',\n",
              " 'Vermonters',\n",
              " 'stalwart',\n",
              " 'frames',\n",
              " 'felled',\n",
              " 'strutting',\n",
              " 'wester',\n",
              " 'bombazine',\n",
              " 'cloak',\n",
              " 'mow',\n",
              " 'gloves',\n",
              " 'joins',\n",
              " 'outfit',\n",
              " 'waistcoats',\n",
              " 'Hay',\n",
              " 'Seed',\n",
              " 'tract',\n",
              " 'dearest',\n",
              " 'pave',\n",
              " 'eggs',\n",
              " 'patrician',\n",
              " 'parks',\n",
              " 'scraggy',\n",
              " 'scoria',\n",
              " 'Herr',\n",
              " 'dowers',\n",
              " 'nieces',\n",
              " 'reservoirs',\n",
              " 'maples',\n",
              " 'bountiful',\n",
              " 'proffer',\n",
              " 'passer',\n",
              " 'cones',\n",
              " 'blossoms',\n",
              " 'superinduced',\n",
              " 'carnation',\n",
              " 'Salem',\n",
              " 'sweethearts',\n",
              " 'Puritanic',\n",
              " 'Whaleman',\n",
              " 'Wrapping',\n",
              " 'Each',\n",
              " 'quote',\n",
              " 'TALBOT',\n",
              " 'Near',\n",
              " 'Desolation',\n",
              " '1st',\n",
              " 'SISTER',\n",
              " 'ROBERT',\n",
              " 'WILLIS',\n",
              " 'ELLERY',\n",
              " 'NATHAN',\n",
              " 'COLEMAN',\n",
              " 'WALTER',\n",
              " 'CANNY',\n",
              " 'SETH',\n",
              " 'GLEIG',\n",
              " 'Forming',\n",
              " 'ELIZA',\n",
              " '31st',\n",
              " 'MARBLE',\n",
              " 'SHIPMATES',\n",
              " 'EZEKIEL',\n",
              " 'HARDY',\n",
              " 'AUGUST',\n",
              " '3d',\n",
              " '1833',\n",
              " 'WIDOW',\n",
              " 'Shaking',\n",
              " 'glazed',\n",
              " 'Affected',\n",
              " 'relatives',\n",
              " 'unhealing',\n",
              " 'sympathetically',\n",
              " 'wounds',\n",
              " 'bleed',\n",
              " 'blanks',\n",
              " ...]"
            ]
          },
          "metadata": {},
          "execution_count": 103
        }
      ],
      "source": [
        "fdist1.hapaxes()"
      ]
    },
    {
      "cell_type": "code",
      "execution_count": 104,
      "metadata": {
        "colab": {
          "base_uri": "https://localhost:8080/"
        },
        "id": "XVyGrf5ZjKxD",
        "outputId": "58706be6-2ec6-4d6a-aaa8-f686bb9d62f8"
      },
      "outputs": [
        {
          "output_type": "execute_result",
          "data": {
            "text/plain": [
              "9002"
            ]
          },
          "metadata": {},
          "execution_count": 104
        }
      ],
      "source": [
        "len(fdist1.hapaxes())"
      ]
    },
    {
      "cell_type": "markdown",
      "metadata": {
        "id": "FjjFiytKjKxE"
      },
      "source": [
        "#### This list contains lexicographer, cetological, contraband, expostulations, and about 9,000 others. It seems that there are too many rare words, and without seeing the context we probably can't guess what half of the hapaxes mean in any case! Since neither frequent nor infrequent words help, we need to try something else."
      ]
    },
    {
      "cell_type": "markdown",
      "metadata": {
        "id": "1rthayJGjKxE"
      },
      "source": [
        "#### Exercise 6.  Try the preceding frequency distribution example for yourself, for text2. Output the 10 most frequent tokens."
      ]
    },
    {
      "cell_type": "code",
      "execution_count": 105,
      "metadata": {
        "id": "IX6_IjdZjKxE"
      },
      "outputs": [],
      "source": [
        "fdist=FreqDist(text2)"
      ]
    },
    {
      "cell_type": "code",
      "execution_count": 106,
      "metadata": {
        "colab": {
          "base_uri": "https://localhost:8080/"
        },
        "id": "6S0-9KP9jKxE",
        "outputId": "ab0cb434-373c-492c-8036-f5b180a7d9d6"
      },
      "outputs": [
        {
          "output_type": "execute_result",
          "data": {
            "text/plain": [
              "FreqDist({',': 9397, 'to': 4063, '.': 3975, 'the': 3861, 'of': 3565, 'and': 3350, 'her': 2436, 'a': 2043, 'I': 2004, 'in': 1904, ...})"
            ]
          },
          "metadata": {},
          "execution_count": 106
        }
      ],
      "source": [
        "fdist"
      ]
    },
    {
      "cell_type": "code",
      "source": [
        "print(fdist)"
      ],
      "metadata": {
        "colab": {
          "base_uri": "https://localhost:8080/"
        },
        "id": "CGuohFPzz57S",
        "outputId": "752a465b-ad18-4b7b-c80c-64fe6e212d02"
      },
      "execution_count": 109,
      "outputs": [
        {
          "output_type": "stream",
          "name": "stdout",
          "text": [
            "<FreqDist with 6833 samples and 141576 outcomes>\n"
          ]
        }
      ]
    },
    {
      "cell_type": "code",
      "execution_count": 107,
      "metadata": {
        "colab": {
          "base_uri": "https://localhost:8080/"
        },
        "id": "tjMWawS8jKxE",
        "outputId": "66115d38-ad85-4fad-b65c-687bb8b4e481"
      },
      "outputs": [
        {
          "output_type": "execute_result",
          "data": {
            "text/plain": [
              "6833"
            ]
          },
          "metadata": {},
          "execution_count": 107
        }
      ],
      "source": [
        "len(set(text2))"
      ]
    },
    {
      "cell_type": "code",
      "execution_count": 108,
      "metadata": {
        "colab": {
          "base_uri": "https://localhost:8080/",
          "height": 35
        },
        "id": "mFhPY4YqjKxE",
        "outputId": "96c9965d-9a04-4804-cd0d-a68734f12656"
      },
      "outputs": [
        {
          "output_type": "execute_result",
          "data": {
            "text/plain": [
              "','"
            ],
            "application/vnd.google.colaboratory.intrinsic+json": {
              "type": "string"
            }
          },
          "metadata": {},
          "execution_count": 108
        }
      ],
      "source": [
        "fdist.max()"
      ]
    },
    {
      "cell_type": "code",
      "source": [
        "fdist.most_common(10)"
      ],
      "metadata": {
        "colab": {
          "base_uri": "https://localhost:8080/"
        },
        "id": "6h3O39cC0Aor",
        "outputId": "21637cc3-4f23-4424-cb78-3812f100530b"
      },
      "execution_count": 110,
      "outputs": [
        {
          "output_type": "execute_result",
          "data": {
            "text/plain": [
              "[(',', 9397),\n",
              " ('to', 4063),\n",
              " ('.', 3975),\n",
              " ('the', 3861),\n",
              " ('of', 3565),\n",
              " ('and', 3350),\n",
              " ('her', 2436),\n",
              " ('a', 2043),\n",
              " ('I', 2004),\n",
              " ('in', 1904)]"
            ]
          },
          "metadata": {},
          "execution_count": 110
        }
      ]
    },
    {
      "cell_type": "code",
      "source": [
        "fdist.plot(10, cumulative=True)"
      ],
      "metadata": {
        "colab": {
          "base_uri": "https://localhost:8080/",
          "height": 479
        },
        "id": "fHmVoReO0Pg_",
        "outputId": "f5e6b753-9a9b-4188-996e-856562314e31"
      },
      "execution_count": 111,
      "outputs": [
        {
          "output_type": "display_data",
          "data": {
            "text/plain": [
              "<Figure size 640x480 with 1 Axes>"
            ],
            "image/png": "[encoded data removed]"
          },
          "metadata": {}
        },
        {
          "output_type": "execute_result",
          "data": {
            "text/plain": [
              "<Axes: xlabel='Samples', ylabel='Cumulative Counts'>"
            ]
          },
          "metadata": {},
          "execution_count": 111
        }
      ]
    },
    {
      "cell_type": "code",
      "source": [
        "len(text2)"
      ],
      "metadata": {
        "colab": {
          "base_uri": "https://localhost:8080/"
        },
        "id": "V5sQFmII0PQV",
        "outputId": "eb1dc14b-8092-46b8-fb59-bd9ea1076390"
      },
      "execution_count": 113,
      "outputs": [
        {
          "output_type": "execute_result",
          "data": {
            "text/plain": [
              "141576"
            ]
          },
          "metadata": {},
          "execution_count": 113
        }
      ]
    },
    {
      "cell_type": "markdown",
      "metadata": {
        "id": "_lhAmR4yjKxE"
      },
      "source": [
        "### 3.2 Fine-grained Selection of Words"
      ]
    },
    {
      "cell_type": "markdown",
      "metadata": {
        "id": "z-VOBcRqjKxE"
      },
      "source": [
        "#### Next, let's look at the long words of a text; perhaps these will be more characteristic and informative. For this we adapt some notation from set theory. We would like to find the words from the vocabulary of the text that are more than 15 characters long."
      ]
    },
    {
      "cell_type": "markdown",
      "metadata": {
        "id": "etXe_HmKjKxE"
      },
      "source": [
        "#### For each word w in the vocabulary V, we check whether len(w) is greater than 15; all other words will be ignored"
      ]
    },
    {
      "cell_type": "code",
      "execution_count": 114,
      "metadata": {
        "id": "0dTTk2u8jKxE"
      },
      "outputs": [],
      "source": [
        "V=set(text1)"
      ]
    },
    {
      "cell_type": "code",
      "execution_count": 115,
      "metadata": {
        "id": "Lmpuu-gYjKxE"
      },
      "outputs": [],
      "source": [
        "long_words=[w for w in V if len(w)>15]"
      ]
    },
    {
      "cell_type": "code",
      "execution_count": 116,
      "metadata": {
        "scrolled": true,
        "colab": {
          "base_uri": "https://localhost:8080/"
        },
        "id": "dlC_t8ctjKxF",
        "outputId": "151bfa51-0650-4064-ce58-b5195d6f31b1"
      },
      "outputs": [
        {
          "output_type": "execute_result",
          "data": {
            "text/plain": [
              "['CIRCUMNAVIGATION',\n",
              " 'Physiognomically',\n",
              " 'apprehensiveness',\n",
              " 'cannibalistically',\n",
              " 'characteristically',\n",
              " 'circumnavigating',\n",
              " 'circumnavigation',\n",
              " 'circumnavigations',\n",
              " 'comprehensiveness',\n",
              " 'hermaphroditical',\n",
              " 'indiscriminately',\n",
              " 'indispensableness',\n",
              " 'irresistibleness',\n",
              " 'physiognomically',\n",
              " 'preternaturalness',\n",
              " 'responsibilities',\n",
              " 'simultaneousness',\n",
              " 'subterraneousness',\n",
              " 'supernaturalness',\n",
              " 'superstitiousness',\n",
              " 'uncomfortableness',\n",
              " 'uncompromisedness',\n",
              " 'undiscriminating',\n",
              " 'uninterpenetratingly']"
            ]
          },
          "metadata": {},
          "execution_count": 116
        }
      ],
      "source": [
        "sorted(long_words)"
      ]
    },
    {
      "cell_type": "markdown",
      "metadata": {
        "id": "fKmctBVjjKxF"
      },
      "source": [
        "####  these very long words are often hapaxes (i.e., unique) and perhaps it would be better to find frequently occurring long words. This seems promising since it eliminates frequent short words (e.g., the) and infrequent long words (e.g. antiphilosophists). Here are all words from the chat corpus that are longer than seven characters, that occur more than seven times:"
      ]
    },
    {
      "cell_type": "code",
      "execution_count": 117,
      "metadata": {
        "id": "Hmf3qex6jKxF"
      },
      "outputs": [],
      "source": [
        "fdist4=FreqDist(text4)"
      ]
    },
    {
      "cell_type": "code",
      "execution_count": 118,
      "metadata": {
        "colab": {
          "base_uri": "https://localhost:8080/"
        },
        "id": "f6MD_W2NjKxF",
        "outputId": "e7963346-e362-43d0-e31a-e1711a85ddfe"
      },
      "outputs": [
        {
          "output_type": "execute_result",
          "data": {
            "text/plain": [
              "FreqDist({'the': 9555, ',': 7275, 'of': 7169, 'and': 5226, '.': 5011, 'to': 4477, 'in': 2604, 'a': 2229, 'our': 2062, 'that': 1769, ...})"
            ]
          },
          "metadata": {},
          "execution_count": 118
        }
      ],
      "source": [
        "fdist4"
      ]
    },
    {
      "cell_type": "code",
      "execution_count": 119,
      "metadata": {
        "colab": {
          "base_uri": "https://localhost:8080/",
          "height": 35
        },
        "id": "aM8UkcPxjKxF",
        "outputId": "e0b15991-42bc-4de3-9def-63928718dfe0"
      },
      "outputs": [
        {
          "output_type": "execute_result",
          "data": {
            "text/plain": [
              "'the'"
            ],
            "application/vnd.google.colaboratory.intrinsic+json": {
              "type": "string"
            }
          },
          "metadata": {},
          "execution_count": 119
        }
      ],
      "source": [
        "fdist4.max()"
      ]
    },
    {
      "cell_type": "code",
      "execution_count": 120,
      "metadata": {
        "scrolled": true,
        "colab": {
          "base_uri": "https://localhost:8080/"
        },
        "id": "BPWU9_hEjKxF",
        "outputId": "08f65e83-6052-41ec-f8ed-20a11c41ea7e"
      },
      "outputs": [
        {
          "output_type": "execute_result",
          "data": {
            "text/plain": [
              "['Administration',\n",
              " 'Almighty',\n",
              " 'American',\n",
              " 'Americans',\n",
              " 'Confederacy',\n",
              " 'Congress',\n",
              " 'Constitution',\n",
              " 'Declaration',\n",
              " 'Departments',\n",
              " 'European',\n",
              " 'Executive',\n",
              " 'Government',\n",
              " 'Independence',\n",
              " 'Jefferson',\n",
              " 'Legislature',\n",
              " 'Magistrate',\n",
              " 'National',\n",
              " 'President',\n",
              " 'Presidential',\n",
              " 'Providence',\n",
              " 'Republic',\n",
              " 'Revolution',\n",
              " 'Southern',\n",
              " 'Territories',\n",
              " 'Territory',\n",
              " 'Together',\n",
              " 'Treasury',\n",
              " 'Washington',\n",
              " 'absolute',\n",
              " 'accepted',\n",
              " 'accomplish',\n",
              " 'accomplished',\n",
              " 'accordance',\n",
              " 'according',\n",
              " 'accountability',\n",
              " 'achieved',\n",
              " 'achievement',\n",
              " 'acknowledged',\n",
              " 'activities',\n",
              " 'additional',\n",
              " 'adequate',\n",
              " 'adherence',\n",
              " 'adjustment',\n",
              " 'administer',\n",
              " 'administered',\n",
              " 'administration',\n",
              " 'admitted',\n",
              " 'adoption',\n",
              " 'advanced',\n",
              " 'advancement',\n",
              " 'advantage',\n",
              " 'advantages',\n",
              " 'affecting',\n",
              " 'affection',\n",
              " 'afforded',\n",
              " 'agencies',\n",
              " 'aggression',\n",
              " 'agitation',\n",
              " 'agricultural',\n",
              " 'agriculture',\n",
              " 'alliances',\n",
              " 'altogether',\n",
              " 'ambition',\n",
              " 'amendment',\n",
              " 'amendments',\n",
              " 'anticipated',\n",
              " 'anything',\n",
              " 'application',\n",
              " 'appointment',\n",
              " 'apprehension',\n",
              " 'approach',\n",
              " 'appropriate',\n",
              " 'arbitration',\n",
              " 'armaments',\n",
              " 'aspirations',\n",
              " 'assembled',\n",
              " 'assembly',\n",
              " 'assigned',\n",
              " 'assistance',\n",
              " 'assurance',\n",
              " 'attained',\n",
              " 'attention',\n",
              " 'authorities',\n",
              " 'authority',\n",
              " 'available',\n",
              " 'becoming',\n",
              " 'beginning',\n",
              " 'believed',\n",
              " 'beneficent',\n",
              " 'beneficial',\n",
              " 'benefits',\n",
              " 'bestowed',\n",
              " 'blessing',\n",
              " 'blessings',\n",
              " 'branches',\n",
              " 'building',\n",
              " 'business',\n",
              " 'calculated',\n",
              " 'capacity',\n",
              " 'carrying',\n",
              " 'celebrate',\n",
              " 'centuries',\n",
              " 'ceremony',\n",
              " 'certainly',\n",
              " 'challenge',\n",
              " 'challenges',\n",
              " 'character',\n",
              " 'cheerfully',\n",
              " 'cherished',\n",
              " 'children',\n",
              " 'circumstances',\n",
              " 'citizens',\n",
              " 'citizenship',\n",
              " 'civilization',\n",
              " 'civilized',\n",
              " 'collected',\n",
              " 'combinations',\n",
              " 'commerce',\n",
              " 'commercial',\n",
              " 'commission',\n",
              " 'commitment',\n",
              " 'committed',\n",
              " 'communities',\n",
              " 'community',\n",
              " 'compassion',\n",
              " 'competent',\n",
              " 'competition',\n",
              " 'complete',\n",
              " 'compromise',\n",
              " 'concerned',\n",
              " 'concerning',\n",
              " 'concerns',\n",
              " 'concession',\n",
              " 'condition',\n",
              " 'conditions',\n",
              " 'conferred',\n",
              " 'confidence',\n",
              " 'confident',\n",
              " 'confidently',\n",
              " 'conflict',\n",
              " 'conflicting',\n",
              " 'conformity',\n",
              " 'connected',\n",
              " 'conscience',\n",
              " 'conscious',\n",
              " 'consciousness',\n",
              " 'consequence',\n",
              " 'consequences',\n",
              " 'consider',\n",
              " 'consideration',\n",
              " 'considerations',\n",
              " 'considered',\n",
              " 'consistent',\n",
              " 'constant',\n",
              " 'constantly',\n",
              " 'constituted',\n",
              " 'constitution',\n",
              " 'constitutional',\n",
              " 'construction',\n",
              " 'contemplate',\n",
              " 'continent',\n",
              " 'continuance',\n",
              " 'continue',\n",
              " 'continued',\n",
              " 'continuing',\n",
              " 'contrary',\n",
              " 'contributed',\n",
              " 'controversies',\n",
              " 'convenience',\n",
              " 'conviction',\n",
              " 'cooperation',\n",
              " 'councils',\n",
              " 'counsels',\n",
              " 'countries',\n",
              " 'countrymen',\n",
              " 'covenant',\n",
              " 'cultivate',\n",
              " 'currency',\n",
              " 'dangerous',\n",
              " 'decision',\n",
              " 'decisions',\n",
              " 'declaration',\n",
              " 'declared',\n",
              " 'dedication',\n",
              " 'definite',\n",
              " 'demanded',\n",
              " 'democracy',\n",
              " 'democratic',\n",
              " 'department',\n",
              " 'departments',\n",
              " 'depression',\n",
              " 'despotism',\n",
              " 'destinies',\n",
              " 'destruction',\n",
              " 'determination',\n",
              " 'determine',\n",
              " 'determined',\n",
              " 'development',\n",
              " 'devotion',\n",
              " 'difference',\n",
              " 'differences',\n",
              " 'different',\n",
              " 'difficult',\n",
              " 'difficulties',\n",
              " 'difficulty',\n",
              " 'diplomacy',\n",
              " 'directed',\n",
              " 'direction',\n",
              " 'directly',\n",
              " 'disaster',\n",
              " 'discharge',\n",
              " 'discipline',\n",
              " 'discretion',\n",
              " 'discussion',\n",
              " 'disposition',\n",
              " 'disputes',\n",
              " 'disregard',\n",
              " 'dissolution',\n",
              " 'distinction',\n",
              " 'distinguished',\n",
              " 'disturbed',\n",
              " 'diversity',\n",
              " 'division',\n",
              " 'divisions',\n",
              " 'domestic',\n",
              " 'dominions',\n",
              " 'economic',\n",
              " 'education',\n",
              " 'effected',\n",
              " 'effective',\n",
              " 'efficiency',\n",
              " 'efficient',\n",
              " 'election',\n",
              " 'elections',\n",
              " 'elements',\n",
              " 'emergency',\n",
              " 'employed',\n",
              " 'employees',\n",
              " 'employment',\n",
              " 'encourage',\n",
              " 'encouragement',\n",
              " 'encouraging',\n",
              " 'endeavor',\n",
              " 'enduring',\n",
              " 'energies',\n",
              " 'enforced',\n",
              " 'enforcement',\n",
              " 'enjoyment',\n",
              " 'enlarged',\n",
              " 'enlightened',\n",
              " 'entering',\n",
              " 'enterprise',\n",
              " 'enterprises',\n",
              " 'entertain',\n",
              " 'entertained',\n",
              " 'entirely',\n",
              " 'entitled',\n",
              " 'equality',\n",
              " 'especially',\n",
              " 'essential',\n",
              " 'establish',\n",
              " 'established',\n",
              " 'establishment',\n",
              " 'everyone',\n",
              " 'everything',\n",
              " 'everywhere',\n",
              " 'evidence',\n",
              " 'examples',\n",
              " 'excitement',\n",
              " 'exclusively',\n",
              " 'executed',\n",
              " 'execution',\n",
              " 'executive',\n",
              " 'exercise',\n",
              " 'exercised',\n",
              " 'existence',\n",
              " 'existing',\n",
              " 'expansion',\n",
              " 'expected',\n",
              " 'expedient',\n",
              " 'expenditure',\n",
              " 'expenditures',\n",
              " 'experience',\n",
              " 'experiment',\n",
              " 'expressed',\n",
              " 'expression',\n",
              " 'expressly',\n",
              " 'extended',\n",
              " 'extension',\n",
              " 'extraordinary',\n",
              " 'extravagance',\n",
              " 'facilities',\n",
              " 'factories',\n",
              " 'faculties',\n",
              " 'faithful',\n",
              " 'faithfully',\n",
              " 'families',\n",
              " 'favorable',\n",
              " 'fearless',\n",
              " 'feelings',\n",
              " 'fidelity',\n",
              " 'financial',\n",
              " 'followed',\n",
              " 'forbearance',\n",
              " 'forgotten',\n",
              " 'formation',\n",
              " 'fortifications',\n",
              " 'foundation',\n",
              " 'foundations',\n",
              " 'founders',\n",
              " 'fraternal',\n",
              " 'friendly',\n",
              " 'friendship',\n",
              " 'fulfillment',\n",
              " 'functions',\n",
              " 'fundamental',\n",
              " 'generally',\n",
              " 'generation',\n",
              " 'generations',\n",
              " 'generous',\n",
              " 'glorious',\n",
              " 'goodness',\n",
              " 'governed',\n",
              " 'government',\n",
              " 'governmental',\n",
              " 'governments',\n",
              " 'grateful',\n",
              " 'gratitude',\n",
              " 'greatest',\n",
              " 'greatness',\n",
              " 'guaranty',\n",
              " 'guidance',\n",
              " 'happiness',\n",
              " 'heretofore',\n",
              " 'heritage',\n",
              " 'historic',\n",
              " 'hitherto',\n",
              " 'honestly',\n",
              " 'honorable',\n",
              " 'humanity',\n",
              " 'humility',\n",
              " 'idealism',\n",
              " 'ignorance',\n",
              " 'ignorant',\n",
              " 'illustrious',\n",
              " 'immediate',\n",
              " 'imperative',\n",
              " 'importance',\n",
              " 'important',\n",
              " 'impossible',\n",
              " 'impressed',\n",
              " 'improvement',\n",
              " 'improvements',\n",
              " 'inauguration',\n",
              " 'incident',\n",
              " 'increase',\n",
              " 'increased',\n",
              " 'increasing',\n",
              " 'independence',\n",
              " 'independent',\n",
              " 'indispensable',\n",
              " 'individual',\n",
              " 'individuals',\n",
              " 'industrial',\n",
              " 'industries',\n",
              " 'industry',\n",
              " 'inevitable',\n",
              " 'influence',\n",
              " 'information',\n",
              " 'inhabitants',\n",
              " 'initiative',\n",
              " 'injustice',\n",
              " 'inseparable',\n",
              " 'instance',\n",
              " 'instances',\n",
              " 'institution',\n",
              " 'institutions',\n",
              " 'instrument',\n",
              " 'integrity',\n",
              " 'intelligence',\n",
              " 'intelligent',\n",
              " 'intended',\n",
              " 'intention',\n",
              " 'intercourse',\n",
              " 'interest',\n",
              " 'interests',\n",
              " 'interfere',\n",
              " 'interference',\n",
              " 'internal',\n",
              " 'international',\n",
              " 'interstate',\n",
              " 'intrusted',\n",
              " 'invasion',\n",
              " 'involved',\n",
              " 'judgment',\n",
              " 'judicial',\n",
              " 'jurisdiction',\n",
              " 'knowledge',\n",
              " 'language',\n",
              " 'leadership',\n",
              " 'legislation',\n",
              " 'legislative',\n",
              " 'legitimate',\n",
              " 'liberties',\n",
              " 'lifetime',\n",
              " 'limitation',\n",
              " 'limitations',\n",
              " 'maintain',\n",
              " 'maintained',\n",
              " 'maintaining',\n",
              " 'maintenance',\n",
              " 'majority',\n",
              " 'management',\n",
              " 'manufactures',\n",
              " 'material',\n",
              " 'materials',\n",
              " 'measures',\n",
              " 'military',\n",
              " 'millions',\n",
              " 'minorities',\n",
              " 'minority',\n",
              " 'movement',\n",
              " 'national',\n",
              " 'necessarily',\n",
              " 'necessary',\n",
              " 'necessities',\n",
              " 'necessity',\n",
              " 'negotiation',\n",
              " 'neighbor',\n",
              " 'neighbors',\n",
              " 'neutrality',\n",
              " 'obedience',\n",
              " 'obligation',\n",
              " 'obligations',\n",
              " 'observance',\n",
              " 'observed',\n",
              " 'occasion',\n",
              " 'occurred',\n",
              " 'officers',\n",
              " 'official',\n",
              " 'operation',\n",
              " 'opinions',\n",
              " 'opportunities',\n",
              " 'opportunity',\n",
              " 'opposition',\n",
              " 'ordinary',\n",
              " 'organization',\n",
              " 'organized',\n",
              " 'original',\n",
              " 'otherwise',\n",
              " 'ourselves',\n",
              " 'participation',\n",
              " 'particular',\n",
              " 'partisan',\n",
              " 'passions',\n",
              " 'patriotic',\n",
              " 'patriotism',\n",
              " 'patriots',\n",
              " 'peaceful',\n",
              " 'peculiar',\n",
              " 'penalties',\n",
              " 'performance',\n",
              " 'permanent',\n",
              " 'permitted',\n",
              " 'perpetual',\n",
              " 'personal',\n",
              " 'physical',\n",
              " 'platform',\n",
              " 'policies',\n",
              " 'political',\n",
              " 'politics',\n",
              " 'population',\n",
              " 'position',\n",
              " 'possessed',\n",
              " 'possessions',\n",
              " 'possibilities',\n",
              " 'possible',\n",
              " 'posterity',\n",
              " 'powerful',\n",
              " 'practicable',\n",
              " 'practical',\n",
              " 'practice',\n",
              " 'precious',\n",
              " 'predecessor',\n",
              " 'predecessors',\n",
              " 'prejudice',\n",
              " 'prejudices',\n",
              " 'preparation',\n",
              " 'prepared',\n",
              " 'prescribed',\n",
              " 'presence',\n",
              " 'presented',\n",
              " 'preservation',\n",
              " 'preserve',\n",
              " 'preserved',\n",
              " 'preserving',\n",
              " 'principal',\n",
              " 'principle',\n",
              " 'principles',\n",
              " 'privilege',\n",
              " 'privileges',\n",
              " 'problems',\n",
              " 'proclaim',\n",
              " 'produced',\n",
              " 'production',\n",
              " 'productions',\n",
              " 'productive',\n",
              " 'products',\n",
              " 'profound',\n",
              " 'progress',\n",
              " 'promises',\n",
              " 'promoted',\n",
              " 'promoting',\n",
              " 'promotion',\n",
              " 'promptly',\n",
              " 'properly',\n",
              " 'property',\n",
              " 'proposed',\n",
              " 'proposition',\n",
              " 'prospect',\n",
              " 'prosperity',\n",
              " 'prosperous',\n",
              " 'protected',\n",
              " 'protecting',\n",
              " 'protection',\n",
              " 'provided',\n",
              " 'provision',\n",
              " 'provisions',\n",
              " 'punishment',\n",
              " 'purposes',\n",
              " 'question',\n",
              " 'questions',\n",
              " 'railroads',\n",
              " 'reaching',\n",
              " 'realization',\n",
              " 'realized',\n",
              " 'reasonable',\n",
              " 'received',\n",
              " 'recognition',\n",
              " 'recognize',\n",
              " 'recognized',\n",
              " 'recommend',\n",
              " 'recommendations',\n",
              " 'recommended',\n",
              " 'recovery',\n",
              " 'reference',\n",
              " 'relation',\n",
              " 'relations',\n",
              " 'reliance',\n",
              " 'religion',\n",
              " 'religious',\n",
              " 'remedies',\n",
              " 'remember',\n",
              " 'remembered',\n",
              " 'representative',\n",
              " 'representatives',\n",
              " 'republic',\n",
              " 'republican',\n",
              " 'republics',\n",
              " 'required',\n",
              " 'requires',\n",
              " 'reserved',\n",
              " 'resolution',\n",
              " 'resources',\n",
              " 'respecting',\n",
              " 'respective',\n",
              " 'respects',\n",
              " 'responsibilities',\n",
              " 'responsibility',\n",
              " 'responsible',\n",
              " 'restoration',\n",
              " 'restored',\n",
              " 'revenues',\n",
              " 'reverence',\n",
              " 'revolution',\n",
              " 'righteousness',\n",
              " 'rightful',\n",
              " 'sacredly',\n",
              " 'sacrifice',\n",
              " 'sacrifices',\n",
              " 'sanction',\n",
              " 'satisfaction',\n",
              " 'satisfactory',\n",
              " 'scarcely',\n",
              " 'sectional',\n",
              " 'sections',\n",
              " 'securing',\n",
              " 'security',\n",
              " 'selected',\n",
              " 'sentiment',\n",
              " 'sentiments',\n",
              " 'separate',\n",
              " 'servants',\n",
              " 'services',\n",
              " 'settlement',\n",
              " 'situation',\n",
              " 'slightest',\n",
              " 'soldiers',\n",
              " 'solicitude',\n",
              " 'solution',\n",
              " 'something',\n",
              " 'sometimes',\n",
              " 'sovereign',\n",
              " 'sovereignty',\n",
              " 'speaking',\n",
              " 'speedily',\n",
              " 'spiritual',\n",
              " 'stability',\n",
              " 'standard',\n",
              " 'standards',\n",
              " 'standing',\n",
              " 'statesmen',\n",
              " 'steadily',\n",
              " 'strength',\n",
              " 'strengthen',\n",
              " 'strengthened',\n",
              " 'strictly',\n",
              " 'stronger',\n",
              " 'strongest',\n",
              " 'structure',\n",
              " 'struggle',\n",
              " 'struggling',\n",
              " 'subjects',\n",
              " 'submitted',\n",
              " 'successful',\n",
              " 'successfully',\n",
              " 'suffered',\n",
              " 'suffering',\n",
              " 'sufficient',\n",
              " 'suffrage',\n",
              " 'suitable',\n",
              " 'supported',\n",
              " 'supporting',\n",
              " 'supposed',\n",
              " 'surrender',\n",
              " 'surrendered',\n",
              " 'suspicion',\n",
              " 'sustained',\n",
              " 'sympathy',\n",
              " 'taxation',\n",
              " 'temporary',\n",
              " 'tendency',\n",
              " 'territory',\n",
              " 'themselves',\n",
              " 'therefore',\n",
              " 'thoughts',\n",
              " 'thousand',\n",
              " 'thousands',\n",
              " 'threatened',\n",
              " 'throughout',\n",
              " 'together',\n",
              " 'tolerance',\n",
              " 'tomorrow',\n",
              " 'tranquillity',\n",
              " 'treaties',\n",
              " 'tribunal',\n",
              " 'triumphs',\n",
              " 'ultimate',\n",
              " 'ultimately',\n",
              " 'understand',\n",
              " 'understanding',\n",
              " 'understood',\n",
              " 'undertake',\n",
              " 'universal',\n",
              " 'unnecessary',\n",
              " 'violation',\n",
              " 'violence',\n",
              " 'virtuous',\n",
              " 'watching',\n",
              " 'weakness',\n",
              " 'whatever',\n",
              " 'whenever',\n",
              " 'wherever',\n",
              " 'witnessed']"
            ]
          },
          "metadata": {},
          "execution_count": 120
        }
      ],
      "source": [
        "sorted(w for w in set(text4) if len(w)>7 and fdist4[w]>7)"
      ]
    },
    {
      "cell_type": "markdown",
      "metadata": {
        "id": "nmmZuW8TjKxF"
      },
      "source": [
        "### Summary"
      ]
    },
    {
      "cell_type": "markdown",
      "metadata": {
        "id": "LuSVRVAjjKxF"
      },
      "source": [
        "#### Notice how we have used two conditions: len(w) > 7 ensures that the words are longer than seven letters, and fdist5[w] > 7 ensures that these words occur more than seven times. At last we have managed to automatically identify the frequently-occurring content-bearing words of the text."
      ]
    },
    {
      "cell_type": "markdown",
      "metadata": {
        "id": "akGgSHSLjKxF"
      },
      "source": [
        "#### It is a modest but important milestone: a tiny piece of code, processing tens of thousands of words, produces some informative output."
      ]
    },
    {
      "cell_type": "markdown",
      "metadata": {
        "id": "DaPncy1ajKxF"
      },
      "source": [
        "### 3.3 Collocations and Bigrams"
      ]
    },
    {
      "cell_type": "markdown",
      "metadata": {
        "id": "v4y3aotQjKxF"
      },
      "source": [
        "#### A collocation is a sequence of words that occur together unusually often. Thus red wine is a collocation, whereas the wine is not. A characteristic of collocations is that they are resistant to substitution with words that have similar senses; for example, maroon wine sounds definitely odd."
      ]
    },
    {
      "cell_type": "markdown",
      "metadata": {
        "id": "9Nddf9ozjKxG"
      },
      "source": [
        "#### To get a handle on collocations, we start off by extracting from a text a list of word pairs, also known as bigrams. This is easily accomplished with the function bigrams():"
      ]
    },
    {
      "cell_type": "code",
      "execution_count": 121,
      "metadata": {
        "scrolled": false,
        "colab": {
          "base_uri": "https://localhost:8080/"
        },
        "id": "H-IQ_m2JjKxG",
        "outputId": "1ef3f76c-c52f-41cf-8fd6-b49f878d3ced"
      },
      "outputs": [
        {
          "output_type": "execute_result",
          "data": {
            "text/plain": [
              "[('more', 'is'), ('is', 'said'), ('said', 'than'), ('than', 'done')]"
            ]
          },
          "metadata": {},
          "execution_count": 121
        }
      ],
      "source": [
        "list(bigrams(['more', 'is', 'said', 'than', 'done']))"
      ]
    },
    {
      "cell_type": "markdown",
      "metadata": {
        "id": "WlBvIt47jKxG"
      },
      "source": [
        "#### Here we see that the pair of words than-done is a bigram, and we write it in Python as ('than', 'done’)."
      ]
    },
    {
      "cell_type": "markdown",
      "metadata": {
        "id": "p198CHvTjKxG"
      },
      "source": [
        "#### collocations are essentially just frequent bigrams, except that we want to pay more attention to the cases that involve rare words. In particular, we want to find bigrams that occur more often than we would expect based on the frequency of the individual words. The collocations() function does this for us"
      ]
    },
    {
      "cell_type": "code",
      "execution_count": 122,
      "metadata": {
        "colab": {
          "base_uri": "https://localhost:8080/"
        },
        "id": "VrCRWzZ1jKxG",
        "outputId": "d21e9ec2-15d0-4461-8bfc-dfa78b379f5c"
      },
      "outputs": [
        {
          "output_type": "stream",
          "name": "stdout",
          "text": [
            "United States; fellow citizens; years ago; four years; Federal\n",
            "Government; General Government; American people; Vice President; God\n",
            "bless; Chief Justice; one another; fellow Americans; Old World;\n",
            "Almighty God; Fellow citizens; Chief Magistrate; every citizen; Indian\n",
            "tribes; public debt; foreign nations\n"
          ]
        }
      ],
      "source": [
        "text4.collocations()"
      ]
    },
    {
      "cell_type": "code",
      "execution_count": 123,
      "metadata": {
        "colab": {
          "base_uri": "https://localhost:8080/"
        },
        "id": "y5Ni14BDjKxG",
        "outputId": "e7c4a674-00be-4f17-d58e-54d133590bdd"
      },
      "outputs": [
        {
          "output_type": "stream",
          "name": "stdout",
          "text": [
            "would like; medium build; social drinker; quiet nights; non smoker;\n",
            "long term; age open; Would like; easy going; financially secure; fun\n",
            "times; similar interests; Age open; weekends away; poss rship; well\n",
            "presented; never married; single mum; permanent relationship; slim\n",
            "build\n"
          ]
        }
      ],
      "source": [
        "text8.collocations()"
      ]
    },
    {
      "cell_type": "markdown",
      "metadata": {
        "id": "MSxFRI1sjKxG"
      },
      "source": [
        "### 3.4 Counting Other Things"
      ]
    },
    {
      "cell_type": "markdown",
      "metadata": {
        "id": "uFTR9V4EjKxG"
      },
      "source": [
        "#### Counting words is useful, but we can count other things too. For example, we can look at the distribution of word lengths in a text, by creating a FreqDist out of a long list of numbers, where each number is the length of the corresponding word in the text:"
      ]
    },
    {
      "cell_type": "code",
      "execution_count": 124,
      "metadata": {
        "colab": {
          "base_uri": "https://localhost:8080/"
        },
        "id": "8JUuXZw_jKxG",
        "outputId": "c75bd38c-4070-455b-da4f-22da710ee481"
      },
      "outputs": [
        {
          "output_type": "execute_result",
          "data": {
            "text/plain": [
              "['[',\n",
              " 'Moby',\n",
              " 'Dick',\n",
              " 'by',\n",
              " 'Herman',\n",
              " 'Melville',\n",
              " '1851',\n",
              " ']',\n",
              " 'ETYMOLOGY',\n",
              " '.',\n",
              " '(',\n",
              " 'Supplied',\n",
              " 'by',\n",
              " 'a',\n",
              " 'Late',\n",
              " 'Consumptive',\n",
              " 'Usher',\n",
              " 'to',\n",
              " 'a',\n",
              " 'Grammar',\n",
              " 'School',\n",
              " ')',\n",
              " 'The',\n",
              " 'pale',\n",
              " 'Usher',\n",
              " '--',\n",
              " 'threadbare',\n",
              " 'in',\n",
              " 'coat',\n",
              " ',',\n",
              " 'heart',\n",
              " ',',\n",
              " 'body',\n",
              " ',',\n",
              " 'and',\n",
              " 'brain',\n",
              " ';',\n",
              " 'I',\n",
              " 'see',\n",
              " 'him',\n",
              " 'now',\n",
              " '.',\n",
              " 'He',\n",
              " 'was',\n",
              " 'ever',\n",
              " 'dusting',\n",
              " 'his',\n",
              " 'old',\n",
              " 'lexicons',\n",
              " 'and']"
            ]
          },
          "metadata": {},
          "execution_count": 124
        }
      ],
      "source": [
        "text1[0:50]"
      ]
    },
    {
      "cell_type": "code",
      "execution_count": 125,
      "metadata": {
        "id": "MNqtROXGjKxG"
      },
      "outputs": [],
      "source": [
        "word_length=[len(w) for w in text1]"
      ]
    },
    {
      "cell_type": "code",
      "execution_count": 126,
      "metadata": {
        "id": "aBUBvShojKxG"
      },
      "outputs": [],
      "source": [
        "fdist=FreqDist(word_length)"
      ]
    },
    {
      "cell_type": "code",
      "execution_count": 127,
      "metadata": {
        "colab": {
          "base_uri": "https://localhost:8080/"
        },
        "id": "2-W81C-YjKxG",
        "outputId": "66fb2655-b6f7-4cd2-d3a1-d22a6bd2ea3b"
      },
      "outputs": [
        {
          "output_type": "execute_result",
          "data": {
            "text/plain": [
              "FreqDist({3: 50223, 1: 47933, 4: 42345, 2: 38513, 5: 26597, 6: 17111, 7: 14399, 8: 9966, 9: 6428, 10: 3528, ...})"
            ]
          },
          "metadata": {},
          "execution_count": 127
        }
      ],
      "source": [
        "fdist"
      ]
    },
    {
      "cell_type": "code",
      "execution_count": 128,
      "metadata": {
        "colab": {
          "base_uri": "https://localhost:8080/"
        },
        "id": "LUqen_NLjKxG",
        "outputId": "ac11109e-060e-45fd-dbad-aa747a0edba1"
      },
      "outputs": [
        {
          "output_type": "stream",
          "name": "stdout",
          "text": [
            "<FreqDist with 19 samples and 260819 outcomes>\n"
          ]
        }
      ],
      "source": [
        "print(fdist)"
      ]
    },
    {
      "cell_type": "code",
      "execution_count": 129,
      "metadata": {
        "scrolled": true,
        "colab": {
          "base_uri": "https://localhost:8080/"
        },
        "id": "LnxcqP9TjKxG",
        "outputId": "2a94c620-8535-4017-c017-ac9fd74ec6d9"
      },
      "outputs": [
        {
          "output_type": "execute_result",
          "data": {
            "text/plain": [
              "FreqDist({3: 50223, 1: 47933, 4: 42345, 2: 38513, 5: 26597, 6: 17111, 7: 14399, 8: 9966, 9: 6428, 10: 3528, ...})"
            ]
          },
          "metadata": {},
          "execution_count": 129
        }
      ],
      "source": [
        "fdist"
      ]
    },
    {
      "cell_type": "markdown",
      "metadata": {
        "id": "_iVljOoHjKxG"
      },
      "source": [
        "#### But there are at most only 19 distinct items being counted, because there are only 19 different word lengths"
      ]
    },
    {
      "cell_type": "code",
      "execution_count": 130,
      "metadata": {
        "scrolled": true,
        "colab": {
          "base_uri": "https://localhost:8080/"
        },
        "id": "7qV-je8EjKxG",
        "outputId": "e8dad3d9-fb89-4833-b589-1a51a22e01ef"
      },
      "outputs": [
        {
          "output_type": "execute_result",
          "data": {
            "text/plain": [
              "[(3, 50223),\n",
              " (1, 47933),\n",
              " (4, 42345),\n",
              " (2, 38513),\n",
              " (5, 26597),\n",
              " (6, 17111),\n",
              " (7, 14399),\n",
              " (8, 9966),\n",
              " (9, 6428),\n",
              " (10, 3528),\n",
              " (11, 1873),\n",
              " (12, 1053),\n",
              " (13, 567),\n",
              " (14, 177),\n",
              " (15, 70),\n",
              " (16, 22),\n",
              " (17, 12),\n",
              " (18, 1),\n",
              " (20, 1)]"
            ]
          },
          "metadata": {},
          "execution_count": 130
        }
      ],
      "source": [
        "fdist.most_common()"
      ]
    },
    {
      "cell_type": "code",
      "execution_count": 131,
      "metadata": {
        "colab": {
          "base_uri": "https://localhost:8080/"
        },
        "id": "vbyETXmijKxH",
        "outputId": "b619d6a5-ac06-41e1-f642-7000fcf8cf70"
      },
      "outputs": [
        {
          "output_type": "execute_result",
          "data": {
            "text/plain": [
              "3"
            ]
          },
          "metadata": {},
          "execution_count": 131
        }
      ],
      "source": [
        "fdist.max()"
      ]
    },
    {
      "cell_type": "code",
      "execution_count": 132,
      "metadata": {
        "colab": {
          "base_uri": "https://localhost:8080/"
        },
        "id": "vJtuXRYkjKxH",
        "outputId": "92fcd43f-de70-4fc4-b2a2-20b3c84c853b"
      },
      "outputs": [
        {
          "output_type": "execute_result",
          "data": {
            "text/plain": [
              "50223"
            ]
          },
          "metadata": {},
          "execution_count": 132
        }
      ],
      "source": [
        "fdist[3]"
      ]
    },
    {
      "cell_type": "code",
      "execution_count": 133,
      "metadata": {
        "colab": {
          "base_uri": "https://localhost:8080/"
        },
        "id": "9SF_JoEUjKxH",
        "outputId": "e2e9c4ac-ca47-4e2e-c2e4-7c309b486be5"
      },
      "outputs": [
        {
          "output_type": "execute_result",
          "data": {
            "text/plain": [
              "260819"
            ]
          },
          "metadata": {},
          "execution_count": 133
        }
      ],
      "source": [
        "fdist.N()"
      ]
    },
    {
      "cell_type": "code",
      "execution_count": 134,
      "metadata": {
        "colab": {
          "base_uri": "https://localhost:8080/"
        },
        "id": "IrGFfddCjKxH",
        "outputId": "27bfdbc8-747d-4882-a696-a60abee4ed31"
      },
      "outputs": [
        {
          "output_type": "execute_result",
          "data": {
            "text/plain": [
              "0.19255882431878046"
            ]
          },
          "metadata": {},
          "execution_count": 134
        }
      ],
      "source": [
        "50223/260819"
      ]
    },
    {
      "cell_type": "code",
      "execution_count": 135,
      "metadata": {
        "colab": {
          "base_uri": "https://localhost:8080/"
        },
        "id": "A_PdJxmojKxH",
        "outputId": "5dbfc56e-b352-49a5-828a-13c5b840d39c"
      },
      "outputs": [
        {
          "output_type": "execute_result",
          "data": {
            "text/plain": [
              "0.19255882431878046"
            ]
          },
          "metadata": {},
          "execution_count": 135
        }
      ],
      "source": [
        "fdist.freq(3)"
      ]
    },
    {
      "cell_type": "markdown",
      "metadata": {
        "id": "nQrz1iJljKxH"
      },
      "source": [
        "#### From this we see that the most frequent word length is 3, and that words of length 3 account for roughly 50,000 (or 20%) of the words making up the book."
      ]
    },
    {
      "cell_type": "markdown",
      "metadata": {
        "id": "LowYRFGWjKxH"
      },
      "source": [
        "#### Functions Defined for NLTK's Frequency Distributions"
      ]
    },
    {
      "cell_type": "markdown",
      "metadata": {
        "id": "XVSxD6njjKxH"
      },
      "source": [
        "#### fdist=FreqDist(samples) # create a frequency distribution dictionary containing the given samples"
      ]
    },
    {
      "cell_type": "markdown",
      "metadata": {
        "id": "4GNV1bHYjKxH"
      },
      "source": [
        "#### fdist['monstrous']  # count of the number of times a given word occured"
      ]
    },
    {
      "cell_type": "markdown",
      "metadata": {
        "id": "9vk_pGHSjKxH"
      },
      "source": [
        "#### fdist.freq('monstrous') # count the frequency of a given word"
      ]
    },
    {
      "cell_type": "markdown",
      "metadata": {
        "id": "tdoKIxnFjKxH"
      },
      "source": [
        "#### fdist.N()  # count the total number of samples"
      ]
    },
    {
      "cell_type": "markdown",
      "metadata": {
        "id": "QS_4wb67jKxH"
      },
      "source": [
        "#### fdist.most_common(n) # the n most common samples and their frequencies"
      ]
    },
    {
      "cell_type": "markdown",
      "metadata": {
        "id": "2lsDPfZ4jKxH"
      },
      "source": [
        "#### fdist.max() # sample with the greatest count"
      ]
    },
    {
      "cell_type": "markdown",
      "metadata": {
        "id": "P9DKicuCjKxH"
      },
      "source": [
        "#### fdist.tabulate() # tabulate the frequency distribution"
      ]
    },
    {
      "cell_type": "markdown",
      "metadata": {
        "id": "53mSjJl5jKxH"
      },
      "source": [
        "#### fdist.plot（）# graphical plot of the frequency distribution"
      ]
    },
    {
      "cell_type": "code",
      "execution_count": 136,
      "metadata": {
        "id": "yj9mxiWIjKxH"
      },
      "outputs": [],
      "source": [
        "fdist = FreqDist(text1)"
      ]
    },
    {
      "cell_type": "code",
      "execution_count": 137,
      "metadata": {
        "colab": {
          "base_uri": "https://localhost:8080/"
        },
        "id": "6s-R4TG_jKxH",
        "outputId": "fa76e776-b1f2-44d5-bf1a-1bcf2ab0b026"
      },
      "outputs": [
        {
          "output_type": "stream",
          "name": "stdout",
          "text": [
            "<FreqDist with 19317 samples and 260819 outcomes>\n"
          ]
        }
      ],
      "source": [
        "print(fdist)"
      ]
    },
    {
      "cell_type": "code",
      "execution_count": 138,
      "metadata": {
        "colab": {
          "base_uri": "https://localhost:8080/"
        },
        "id": "NH5dRpzFjKxI",
        "outputId": "da25739b-99b5-4e06-b4ed-63ddff78a07e"
      },
      "outputs": [
        {
          "output_type": "execute_result",
          "data": {
            "text/plain": [
              "FreqDist({',': 18713, 'the': 13721, '.': 6862, 'of': 6536, 'and': 6024, 'a': 4569, 'to': 4542, ';': 4072, 'in': 3916, 'that': 2982, ...})"
            ]
          },
          "metadata": {},
          "execution_count": 138
        }
      ],
      "source": [
        "fdist"
      ]
    },
    {
      "cell_type": "code",
      "execution_count": 139,
      "metadata": {
        "colab": {
          "base_uri": "https://localhost:8080/"
        },
        "id": "4bVY197djKxI",
        "outputId": "97e2764a-8f43-4698-b655-acdbefe70e91"
      },
      "outputs": [
        {
          "output_type": "execute_result",
          "data": {
            "text/plain": [
              "2982"
            ]
          },
          "metadata": {},
          "execution_count": 139
        }
      ],
      "source": [
        "fdist['that']"
      ]
    },
    {
      "cell_type": "code",
      "execution_count": 140,
      "metadata": {
        "colab": {
          "base_uri": "https://localhost:8080/"
        },
        "id": "iLS2JtTzjKxI",
        "outputId": "b4e912d2-36d3-46fd-8154-a917d1f88f82"
      },
      "outputs": [
        {
          "output_type": "execute_result",
          "data": {
            "text/plain": [
              "0.011433216138394826"
            ]
          },
          "metadata": {},
          "execution_count": 140
        }
      ],
      "source": [
        "2982/260819"
      ]
    },
    {
      "cell_type": "code",
      "execution_count": 141,
      "metadata": {
        "colab": {
          "base_uri": "https://localhost:8080/"
        },
        "id": "lgtsCi65jKxI",
        "outputId": "0db5d45e-2125-455a-e889-3df9e366846a"
      },
      "outputs": [
        {
          "output_type": "execute_result",
          "data": {
            "text/plain": [
              "0.011433216138394826"
            ]
          },
          "metadata": {},
          "execution_count": 141
        }
      ],
      "source": [
        "fdist.freq('that')"
      ]
    },
    {
      "cell_type": "code",
      "execution_count": 142,
      "metadata": {
        "colab": {
          "base_uri": "https://localhost:8080/"
        },
        "id": "nq_N5rIhjKxI",
        "outputId": "7bd28698-ae03-48b6-9c5e-727639011422"
      },
      "outputs": [
        {
          "output_type": "execute_result",
          "data": {
            "text/plain": [
              "260819"
            ]
          },
          "metadata": {},
          "execution_count": 142
        }
      ],
      "source": [
        "len(text1)"
      ]
    },
    {
      "cell_type": "code",
      "execution_count": 143,
      "metadata": {
        "scrolled": true,
        "colab": {
          "base_uri": "https://localhost:8080/"
        },
        "id": "skNHsU9PjKxI",
        "outputId": "84975b68-ead9-4534-fcde-5799aef42d24"
      },
      "outputs": [
        {
          "output_type": "execute_result",
          "data": {
            "text/plain": [
              "260819"
            ]
          },
          "metadata": {},
          "execution_count": 143
        }
      ],
      "source": [
        "fdist.N()"
      ]
    },
    {
      "cell_type": "code",
      "execution_count": 144,
      "metadata": {
        "scrolled": true,
        "colab": {
          "base_uri": "https://localhost:8080/"
        },
        "id": "_7H0jJeQjKxI",
        "outputId": "f7025036-61f0-43c8-dbe8-d894d52ac367"
      },
      "outputs": [
        {
          "output_type": "execute_result",
          "data": {
            "text/plain": [
              "[(',', 18713),\n",
              " ('the', 13721),\n",
              " ('.', 6862),\n",
              " ('of', 6536),\n",
              " ('and', 6024),\n",
              " ('a', 4569),\n",
              " ('to', 4542),\n",
              " (';', 4072),\n",
              " ('in', 3916),\n",
              " ('that', 2982)]"
            ]
          },
          "metadata": {},
          "execution_count": 144
        }
      ],
      "source": [
        "fdist.most_common(10)"
      ]
    },
    {
      "cell_type": "code",
      "execution_count": 145,
      "metadata": {
        "scrolled": true,
        "colab": {
          "base_uri": "https://localhost:8080/",
          "height": 35
        },
        "id": "VccMTA-ejKxI",
        "outputId": "f0059623-c3e4-430d-debd-9a0ea052b9bb"
      },
      "outputs": [
        {
          "output_type": "execute_result",
          "data": {
            "text/plain": [
              "','"
            ],
            "application/vnd.google.colaboratory.intrinsic+json": {
              "type": "string"
            }
          },
          "metadata": {},
          "execution_count": 145
        }
      ],
      "source": [
        "fdist.max()"
      ]
    },
    {
      "cell_type": "code",
      "execution_count": 146,
      "metadata": {
        "colab": {
          "base_uri": "https://localhost:8080/"
        },
        "id": "y4C3j5ySjKxI",
        "outputId": "73bfa381-3a29-4ff2-f7a9-07057be58c74"
      },
      "outputs": [
        {
          "output_type": "execute_result",
          "data": {
            "text/plain": [
              "['Monty', 'Python', 'and', 'the', 'Holy', 'Grail', 'the', 'Some']"
            ]
          },
          "metadata": {},
          "execution_count": 146
        }
      ],
      "source": [
        "sent1"
      ]
    },
    {
      "cell_type": "code",
      "execution_count": 147,
      "metadata": {
        "id": "f9FzSkS2jKxI"
      },
      "outputs": [],
      "source": [
        "fdist1=FreqDist(sent1)"
      ]
    },
    {
      "cell_type": "code",
      "execution_count": 148,
      "metadata": {
        "colab": {
          "base_uri": "https://localhost:8080/"
        },
        "id": "9_-Sp4vajKxI",
        "outputId": "403d4ce2-5095-47b7-8c75-b9adfa08e9a4"
      },
      "outputs": [
        {
          "output_type": "stream",
          "name": "stdout",
          "text": [
            "   the  Monty Python    and   Holy  Grail   Some \n",
            "     2      1      1      1      1      1      1 \n"
          ]
        }
      ],
      "source": [
        "fdist1.tabulate()"
      ]
    },
    {
      "cell_type": "markdown",
      "metadata": {
        "id": "wb4Mt1FEjKxI"
      },
      "source": [
        "### Q and A"
      ]
    },
    {
      "cell_type": "markdown",
      "metadata": {
        "id": "45JiR6w_jKxI"
      },
      "source": [
        "### 4.Back to Python: Making Decisions and Taking Control"
      ]
    },
    {
      "cell_type": "markdown",
      "metadata": {
        "id": "vXavT4gijKxI"
      },
      "source": [
        "#### So far, our little programs have had some interesting qualities: the ability to work with language, and the potential to save human effort through automation. A key feature of programming is the ability of machines to make decisions on our behalf, executing instructions when certain conditions are met, or repeatedly looping through text data until some condition is satisfied. This feature is known as control, and is the focus of this section."
      ]
    },
    {
      "cell_type": "markdown",
      "metadata": {
        "id": "gyE3C8E_jKxI"
      },
      "source": [
        "### 4.1 Conditionals"
      ]
    },
    {
      "cell_type": "markdown",
      "metadata": {
        "id": "UyWsduHljKxI"
      },
      "source": [
        "#### Python supports a wide range of operators, such as <, >=,!=, for testing the relationship between values"
      ]
    },
    {
      "cell_type": "markdown",
      "metadata": {
        "id": "LjiU_Ys5jKxI"
      },
      "source": [
        "#### We can use these to select different words from a sentence of news text. Here are some examples — only the operator is changed from one line to the next. They all use sent7, the first sentence from text7 (Wall Street Journal). As before, if you get an error saying that sent7 is undefined, you need to first type: from nltk.book import *"
      ]
    },
    {
      "cell_type": "code",
      "execution_count": 149,
      "metadata": {
        "scrolled": false,
        "colab": {
          "base_uri": "https://localhost:8080/"
        },
        "id": "h-EkAgyIjKxI",
        "outputId": "026fed87-d416-4c69-ce88-beda31f61395"
      },
      "outputs": [
        {
          "output_type": "execute_result",
          "data": {
            "text/plain": [
              "['Pierre',\n",
              " 'Vinken',\n",
              " ',',\n",
              " '61',\n",
              " 'years',\n",
              " 'old',\n",
              " ',',\n",
              " 'will',\n",
              " 'join',\n",
              " 'the',\n",
              " 'board',\n",
              " 'as',\n",
              " 'a',\n",
              " 'nonexecutive',\n",
              " 'director',\n",
              " 'Nov.',\n",
              " '29',\n",
              " '.']"
            ]
          },
          "metadata": {},
          "execution_count": 149
        }
      ],
      "source": [
        "sent7"
      ]
    },
    {
      "cell_type": "code",
      "execution_count": 150,
      "metadata": {
        "colab": {
          "base_uri": "https://localhost:8080/"
        },
        "id": "sj_5itTwjKxI",
        "outputId": "b13c2fc5-c7c9-451d-cc14-4e384f04051a"
      },
      "outputs": [
        {
          "output_type": "execute_result",
          "data": {
            "text/plain": [
              "[',', '61', 'old', ',', 'the', 'as', 'a', '29', '.']"
            ]
          },
          "metadata": {},
          "execution_count": 150
        }
      ],
      "source": [
        "[w for w in sent7 if len(w) < 4]"
      ]
    },
    {
      "cell_type": "code",
      "execution_count": 151,
      "metadata": {
        "colab": {
          "base_uri": "https://localhost:8080/"
        },
        "id": "glvstWMCjKxJ",
        "outputId": "4ae82f8a-37e8-4aa1-fd90-b4e786347810"
      },
      "outputs": [
        {
          "output_type": "execute_result",
          "data": {
            "text/plain": [
              "[',', '61', 'old', ',', 'will', 'join', 'the', 'as', 'a', 'Nov.', '29', '.']"
            ]
          },
          "metadata": {},
          "execution_count": 151
        }
      ],
      "source": [
        "[w for w in sent7 if len(w) <= 4]"
      ]
    },
    {
      "cell_type": "code",
      "execution_count": 152,
      "metadata": {
        "colab": {
          "base_uri": "https://localhost:8080/"
        },
        "id": "MmKEFPK3jKxJ",
        "outputId": "e791861d-1ad6-4dd1-c70b-87947f9c64fa"
      },
      "outputs": [
        {
          "output_type": "execute_result",
          "data": {
            "text/plain": [
              "['will', 'join', 'Nov.']"
            ]
          },
          "metadata": {},
          "execution_count": 152
        }
      ],
      "source": [
        "[w for w in sent7 if len(w) == 4]"
      ]
    },
    {
      "cell_type": "code",
      "execution_count": 153,
      "metadata": {
        "colab": {
          "base_uri": "https://localhost:8080/"
        },
        "id": "aRxOWyhnjKxJ",
        "outputId": "4273a5f0-7260-4878-a2b6-9cc14c3b9089"
      },
      "outputs": [
        {
          "output_type": "execute_result",
          "data": {
            "text/plain": [
              "['Pierre',\n",
              " 'Vinken',\n",
              " ',',\n",
              " '61',\n",
              " 'years',\n",
              " 'old',\n",
              " ',',\n",
              " 'the',\n",
              " 'board',\n",
              " 'as',\n",
              " 'a',\n",
              " 'nonexecutive',\n",
              " 'director',\n",
              " '29',\n",
              " '.']"
            ]
          },
          "metadata": {},
          "execution_count": 153
        }
      ],
      "source": [
        "[w for w in sent7 if len(w) != 4]"
      ]
    },
    {
      "cell_type": "markdown",
      "metadata": {
        "id": "1w66mSfnjKxJ"
      },
      "source": [
        "#### Some Word Comparision Operators"
      ]
    },
    {
      "cell_type": "markdown",
      "metadata": {
        "id": "pXR-BcS6jKxJ"
      },
      "source": [
        "#### s.startswith(t)  # test if s starts with t"
      ]
    },
    {
      "cell_type": "markdown",
      "metadata": {
        "id": "nWkOy_ifjKxJ"
      },
      "source": [
        "#### s.endswith(t)  # test if s ends with t"
      ]
    },
    {
      "cell_type": "markdown",
      "metadata": {
        "id": "nzij3DXijKxJ"
      },
      "source": [
        "#### t in s   # test if t is a substring of s"
      ]
    },
    {
      "cell_type": "markdown",
      "metadata": {
        "id": "hoL4HsbzjKxJ"
      },
      "source": [
        "#### s.islower() # test if s contains cased characters and all are lowercase"
      ]
    },
    {
      "cell_type": "markdown",
      "metadata": {
        "id": "O_S_kyVbjKxJ"
      },
      "source": [
        "#### s.isupper() # test if s contains cased characters and all are uppercase"
      ]
    },
    {
      "cell_type": "markdown",
      "metadata": {
        "id": "djJnIRr8jKxJ"
      },
      "source": [
        "#### s.isalpha() # test if s is non-empty and all characters in s are alphabetic"
      ]
    },
    {
      "cell_type": "markdown",
      "metadata": {
        "id": "-3LUWayLjKxJ"
      },
      "source": [
        "#### s.isalnum() # test if s is non-empty and all characters in s are alphanumeric"
      ]
    },
    {
      "cell_type": "markdown",
      "metadata": {
        "id": "Cs6FDW1VjKxJ"
      },
      "source": [
        "#### s.isdigit() # test if s is non-empty and all characters in s are digits"
      ]
    },
    {
      "cell_type": "markdown",
      "metadata": {
        "id": "ALD7__nujKxJ"
      },
      "source": [
        "#### s.istitle() # test if s contains cased characters and is titlecased(i.e. all words in s have initial capitals)"
      ]
    },
    {
      "cell_type": "markdown",
      "metadata": {
        "id": "EasobLdejKxJ"
      },
      "source": [
        "#### Here are some examples of these operators being used to select words from our texts: words ending with -ableness; words containing gnt; words having an initial capital; and words consisting entirely of digit"
      ]
    },
    {
      "cell_type": "code",
      "execution_count": 154,
      "metadata": {
        "colab": {
          "base_uri": "https://localhost:8080/"
        },
        "id": "7JSF6lxajKxJ",
        "outputId": "8a4db580-609f-4fae-b9f1-287cfb5161da"
      },
      "outputs": [
        {
          "output_type": "execute_result",
          "data": {
            "text/plain": [
              "['Pierre',\n",
              " 'Vinken',\n",
              " ',',\n",
              " '61',\n",
              " 'years',\n",
              " 'old',\n",
              " ',',\n",
              " 'will',\n",
              " 'join',\n",
              " 'the',\n",
              " 'board',\n",
              " 'as',\n",
              " 'a',\n",
              " 'nonexecutive',\n",
              " 'director',\n",
              " 'Nov.',\n",
              " '29',\n",
              " '.']"
            ]
          },
          "metadata": {},
          "execution_count": 154
        }
      ],
      "source": [
        "sent7"
      ]
    },
    {
      "cell_type": "code",
      "execution_count": 155,
      "metadata": {
        "colab": {
          "base_uri": "https://localhost:8080/"
        },
        "id": "_o8gXg8VjKxJ",
        "outputId": "1568a255-67d7-482d-9a34-818f0aa92575"
      },
      "outputs": [
        {
          "output_type": "execute_result",
          "data": {
            "text/plain": [
              "['nonexecutive']"
            ]
          },
          "metadata": {},
          "execution_count": 155
        }
      ],
      "source": [
        "sorted(w for w in set(sent7) if w.startswith('non'))"
      ]
    },
    {
      "cell_type": "code",
      "execution_count": 156,
      "metadata": {
        "scrolled": true,
        "colab": {
          "base_uri": "https://localhost:8080/"
        },
        "id": "_xAawBzwjKxJ",
        "outputId": "e6c826dd-7276-4e10-aaa9-c25d1cea27b4"
      },
      "outputs": [
        {
          "output_type": "execute_result",
          "data": {
            "text/plain": [
              "['a',\n",
              " 'as',\n",
              " 'board',\n",
              " 'director',\n",
              " 'join',\n",
              " 'nonexecutive',\n",
              " 'old',\n",
              " 'the',\n",
              " 'will',\n",
              " 'years']"
            ]
          },
          "metadata": {},
          "execution_count": 156
        }
      ],
      "source": [
        "sorted(item for item in set(sent7) if item.islower())"
      ]
    },
    {
      "cell_type": "code",
      "execution_count": 157,
      "metadata": {
        "colab": {
          "base_uri": "https://localhost:8080/"
        },
        "id": "slavukMGjKxJ",
        "outputId": "e37c5cf0-458d-4ef7-e511-5da11106f253"
      },
      "outputs": [
        {
          "output_type": "execute_result",
          "data": {
            "text/plain": [
              "[]"
            ]
          },
          "metadata": {},
          "execution_count": 157
        }
      ],
      "source": [
        "sorted(item for item in set(sent7) if item.isupper())"
      ]
    },
    {
      "cell_type": "code",
      "execution_count": 158,
      "metadata": {
        "scrolled": true,
        "colab": {
          "base_uri": "https://localhost:8080/"
        },
        "id": "w7FdmIyPjKxJ",
        "outputId": "10fe4d3e-9eb8-4aba-85f8-28db051af6c9"
      },
      "outputs": [
        {
          "output_type": "execute_result",
          "data": {
            "text/plain": [
              "['Pierre',\n",
              " 'Vinken',\n",
              " 'a',\n",
              " 'as',\n",
              " 'board',\n",
              " 'director',\n",
              " 'join',\n",
              " 'nonexecutive',\n",
              " 'old',\n",
              " 'the',\n",
              " 'will',\n",
              " 'years']"
            ]
          },
          "metadata": {},
          "execution_count": 158
        }
      ],
      "source": [
        "sorted(item for item in set(sent7) if item.isalpha())"
      ]
    },
    {
      "cell_type": "code",
      "execution_count": 159,
      "metadata": {
        "colab": {
          "base_uri": "https://localhost:8080/"
        },
        "id": "fzrPtoaOjKxK",
        "outputId": "2809e16a-bb76-4c6a-bda7-056ca792bd2a"
      },
      "outputs": [
        {
          "output_type": "execute_result",
          "data": {
            "text/plain": [
              "['29',\n",
              " '61',\n",
              " 'Pierre',\n",
              " 'Vinken',\n",
              " 'a',\n",
              " 'as',\n",
              " 'board',\n",
              " 'director',\n",
              " 'join',\n",
              " 'nonexecutive',\n",
              " 'old',\n",
              " 'the',\n",
              " 'will',\n",
              " 'years']"
            ]
          },
          "metadata": {},
          "execution_count": 159
        }
      ],
      "source": [
        "sorted(item for item in set(sent7) if item.isalnum())"
      ]
    },
    {
      "cell_type": "code",
      "execution_count": 160,
      "metadata": {
        "colab": {
          "base_uri": "https://localhost:8080/"
        },
        "id": "zNPPCDKujKxK",
        "outputId": "6927bde4-1cae-4992-82f5-c840ebf2e15f"
      },
      "outputs": [
        {
          "output_type": "execute_result",
          "data": {
            "text/plain": [
              "['director']"
            ]
          },
          "metadata": {},
          "execution_count": 160
        }
      ],
      "source": [
        "sorted(w for w in set(sent7) if w.endswith('or'))"
      ]
    },
    {
      "cell_type": "code",
      "execution_count": 161,
      "metadata": {
        "colab": {
          "base_uri": "https://localhost:8080/"
        },
        "id": "8UIY-m0tjKxK",
        "outputId": "27fd2c77-ead9-4dcb-e491-bcbd6bc406be"
      },
      "outputs": [
        {
          "output_type": "execute_result",
          "data": {
            "text/plain": [
              "['nonexecutive']"
            ]
          },
          "metadata": {},
          "execution_count": 161
        }
      ],
      "source": [
        "sorted(term for term in set(sent7) if 'exe' in term)"
      ]
    },
    {
      "cell_type": "code",
      "execution_count": 162,
      "metadata": {
        "colab": {
          "base_uri": "https://localhost:8080/"
        },
        "id": "P9hMH4enjKxK",
        "outputId": "c3bf2018-9626-47d1-c1f5-7ce18278fdba"
      },
      "outputs": [
        {
          "output_type": "execute_result",
          "data": {
            "text/plain": [
              "['Nov.', 'Pierre', 'Vinken']"
            ]
          },
          "metadata": {},
          "execution_count": 162
        }
      ],
      "source": [
        "sorted(item for item in set(sent7) if item.istitle())"
      ]
    },
    {
      "cell_type": "code",
      "execution_count": 163,
      "metadata": {
        "scrolled": true,
        "colab": {
          "base_uri": "https://localhost:8080/"
        },
        "id": "L3cVoqzxjKxK",
        "outputId": "a4a4d9dc-caf8-4a38-9585-b715558f5519"
      },
      "outputs": [
        {
          "output_type": "execute_result",
          "data": {
            "text/plain": [
              "['29', '61']"
            ]
          },
          "metadata": {},
          "execution_count": 163
        }
      ],
      "source": [
        "sorted(item for item in set(sent7) if item.isdigit())"
      ]
    },
    {
      "cell_type": "markdown",
      "metadata": {
        "id": "xqz6Bh-8jKxK"
      },
      "source": [
        "#### We can also create more complex conditions. If c is a condition, then not c is also a condition. If we have two conditions c1 and c2, then we can combine them to form a new condition using conjunction and disjunction: c1 and c2, c1 or c2."
      ]
    },
    {
      "cell_type": "markdown",
      "metadata": {
        "id": "ijwW3hO5jKxK"
      },
      "source": [
        "#### Exercise 7 Run the following examples and try to explain what is going on in each one."
      ]
    },
    {
      "cell_type": "code",
      "execution_count": 164,
      "metadata": {
        "colab": {
          "base_uri": "https://localhost:8080/"
        },
        "id": "b_2ufi1KjKxK",
        "outputId": "0517fdef-0f86-4241-f02c-6ae49b9cd5fa"
      },
      "outputs": [
        {
          "output_type": "execute_result",
          "data": {
            "text/plain": [
              "['Stock-index',\n",
              " 'index-arbitrage',\n",
              " 'index-fund',\n",
              " 'index-options',\n",
              " 'index-related',\n",
              " 'stock-index']"
            ]
          },
          "metadata": {},
          "execution_count": 164
        }
      ],
      "source": [
        "sorted(w for w in set(text7) if '-' in w and 'index' in w)"
      ]
    },
    {
      "cell_type": "code",
      "execution_count": 165,
      "metadata": {
        "colab": {
          "base_uri": "https://localhost:8080/"
        },
        "id": "kNyrGHEujKxK",
        "outputId": "a5dce23f-2002-43fa-88a1-b16e38671c16"
      },
      "outputs": [
        {
          "output_type": "execute_result",
          "data": {
            "text/plain": [
              "['Abelmizraim',\n",
              " 'Allonbachuth',\n",
              " 'Beerlahairoi',\n",
              " 'Canaanitish',\n",
              " 'Chedorlaomer',\n",
              " 'Girgashites',\n",
              " 'Hazarmaveth',\n",
              " 'Hazezontamar',\n",
              " 'Ishmeelites',\n",
              " 'Jegarsahadutha',\n",
              " 'Jehovahjireh',\n",
              " 'Kirjatharba',\n",
              " 'Melchizedek',\n",
              " 'Mesopotamia',\n",
              " 'Peradventure',\n",
              " 'Philistines',\n",
              " 'Zaphnathpaaneah']"
            ]
          },
          "metadata": {},
          "execution_count": 165
        }
      ],
      "source": [
        "sorted(wd for wd in set(text3) if wd.istitle() and len(wd) > 10)"
      ]
    },
    {
      "cell_type": "code",
      "execution_count": 165,
      "metadata": {
        "id": "z8iDy6MHjKxK"
      },
      "outputs": [],
      "source": []
    },
    {
      "cell_type": "code",
      "execution_count": 166,
      "metadata": {
        "colab": {
          "base_uri": "https://localhost:8080/"
        },
        "id": "57F8aBofjKxK",
        "outputId": "db7bacff-3e31-4f88-c072-9edd7e8bd889"
      },
      "outputs": [
        {
          "output_type": "execute_result",
          "data": {
            "text/plain": [
              "[',', '.', '29', '61', 'Nov.', 'Pierre', 'Vinken']"
            ]
          },
          "metadata": {},
          "execution_count": 166
        }
      ],
      "source": [
        "sorted(w for w in set(sent7) if not w.islower())"
      ]
    },
    {
      "cell_type": "code",
      "execution_count": 167,
      "metadata": {
        "colab": {
          "base_uri": "https://localhost:8080/"
        },
        "id": "QmsX0GtNjKxK",
        "outputId": "bdaedf36-9c57-4820-d18f-f5bee70ab788"
      },
      "outputs": [
        {
          "output_type": "execute_result",
          "data": {
            "text/plain": [
              "['ancient',\n",
              " 'ceiling',\n",
              " 'conceit',\n",
              " 'conceited',\n",
              " 'conceive',\n",
              " 'conscience',\n",
              " 'conscientious',\n",
              " 'conscientiously',\n",
              " 'deceitful',\n",
              " 'deceive',\n",
              " 'deceived',\n",
              " 'deceiving',\n",
              " 'deficiencies',\n",
              " 'deficiency',\n",
              " 'deficient',\n",
              " 'delicacies',\n",
              " 'excellencies',\n",
              " 'fancied',\n",
              " 'insufficiency',\n",
              " 'insufficient',\n",
              " 'legacies',\n",
              " 'perceive',\n",
              " 'perceived',\n",
              " 'perceiving',\n",
              " 'prescience',\n",
              " 'prophecies',\n",
              " 'receipt',\n",
              " 'receive',\n",
              " 'received',\n",
              " 'receiving',\n",
              " 'society',\n",
              " 'species',\n",
              " 'sufficient',\n",
              " 'sufficiently',\n",
              " 'undeceive',\n",
              " 'undeceiving']"
            ]
          },
          "metadata": {},
          "execution_count": 167
        }
      ],
      "source": [
        "sorted(t for t in set(text2) if 'cie' in t or 'cei' in t)"
      ]
    },
    {
      "cell_type": "code",
      "execution_count": null,
      "metadata": {
        "id": "gdzGYaaTjKxK"
      },
      "outputs": [],
      "source": []
    },
    {
      "cell_type": "markdown",
      "metadata": {
        "id": "kMJW0fU9jKxK"
      },
      "source": [
        "### 4.2  Operating on Every Element"
      ]
    },
    {
      "cell_type": "markdown",
      "metadata": {
        "id": "vK4cw751jKxK"
      },
      "source": [
        "#### Python performs the same operation on every element of a list"
      ]
    },
    {
      "cell_type": "markdown",
      "metadata": {
        "id": "DsZACj9ejKxK"
      },
      "source": [
        "#### In 3, we saw some examples of counting items other than words. Let's take a closer look at the notation we used."
      ]
    },
    {
      "cell_type": "markdown",
      "metadata": {
        "id": "ZV5LccZLjKxL"
      },
      "source": [
        "#### [len(w) for w in text1] produce a long list, omit the output"
      ]
    },
    {
      "cell_type": "code",
      "execution_count": 168,
      "metadata": {
        "scrolled": false,
        "colab": {
          "base_uri": "https://localhost:8080/"
        },
        "id": "5XoiU9n2jKxL",
        "outputId": "b0d3f644-0a23-423d-c1ed-0425c152cbf9"
      },
      "outputs": [
        {
          "output_type": "execute_result",
          "data": {
            "text/plain": [
              "['MONTY', 'PYTHON', 'AND', 'THE', 'HOLY', 'GRAIL', 'THE', 'SOME']"
            ]
          },
          "metadata": {},
          "execution_count": 168
        }
      ],
      "source": [
        "[w.upper() for w in sent1]"
      ]
    },
    {
      "cell_type": "markdown",
      "metadata": {
        "id": "m1uJJg0fjKxL"
      },
      "source": [
        "#### Now that we are not double-counting words like This and this,  which differ only in capitalization,  we've wiped 2,000 off the vocabulary count!"
      ]
    },
    {
      "cell_type": "code",
      "execution_count": null,
      "metadata": {
        "id": "8yepAetBjKxL"
      },
      "outputs": [],
      "source": [
        "# normalize the text by using word.lower()"
      ]
    },
    {
      "cell_type": "code",
      "execution_count": 169,
      "metadata": {
        "colab": {
          "base_uri": "https://localhost:8080/"
        },
        "id": "eRPwZR1YjKxL",
        "outputId": "5207d74b-36c3-4f38-9f14-5c5148b8505b"
      },
      "outputs": [
        {
          "output_type": "execute_result",
          "data": {
            "text/plain": [
              "260819"
            ]
          },
          "metadata": {},
          "execution_count": 169
        }
      ],
      "source": [
        "len(text1)"
      ]
    },
    {
      "cell_type": "code",
      "execution_count": 170,
      "metadata": {
        "colab": {
          "base_uri": "https://localhost:8080/"
        },
        "id": "dIyKJp9-jKxL",
        "outputId": "03c4abce-8018-42df-bedd-a2b9e8da92f7"
      },
      "outputs": [
        {
          "output_type": "execute_result",
          "data": {
            "text/plain": [
              "19317"
            ]
          },
          "metadata": {},
          "execution_count": 170
        }
      ],
      "source": [
        "len(set(text1))"
      ]
    },
    {
      "cell_type": "code",
      "execution_count": 171,
      "metadata": {
        "colab": {
          "base_uri": "https://localhost:8080/"
        },
        "id": "F9ZQvbZgjKxL",
        "outputId": "b6130bfa-ad69-4288-b5de-62de68b942a8"
      },
      "outputs": [
        {
          "output_type": "execute_result",
          "data": {
            "text/plain": [
              "17231"
            ]
          },
          "metadata": {},
          "execution_count": 171
        }
      ],
      "source": [
        "len(set(word.lower() for word in text1))"
      ]
    },
    {
      "cell_type": "code",
      "execution_count": 172,
      "metadata": {
        "id": "uCLudynfjKxL"
      },
      "outputs": [],
      "source": [
        "text=[\"The\",\"book\",\"is\",\"the\",\"best\",\"BOOK\"]"
      ]
    },
    {
      "cell_type": "code",
      "execution_count": 173,
      "metadata": {
        "colab": {
          "base_uri": "https://localhost:8080/"
        },
        "id": "yzFWmvrjjKxL",
        "outputId": "43ffe2f8-db8d-4cb0-adca-4ea14416451e"
      },
      "outputs": [
        {
          "output_type": "execute_result",
          "data": {
            "text/plain": [
              "{'best', 'book', 'is', 'the'}"
            ]
          },
          "metadata": {},
          "execution_count": 173
        }
      ],
      "source": [
        "set([word.lower() for word in text])"
      ]
    },
    {
      "cell_type": "code",
      "execution_count": 174,
      "metadata": {
        "colab": {
          "base_uri": "https://localhost:8080/"
        },
        "id": "OLFtmkxBjKxL",
        "outputId": "619f6f90-99c0-4cc1-8a2e-fae27caedd36"
      },
      "outputs": [
        {
          "output_type": "execute_result",
          "data": {
            "text/plain": [
              "6"
            ]
          },
          "metadata": {},
          "execution_count": 174
        }
      ],
      "source": [
        "len(text)"
      ]
    },
    {
      "cell_type": "code",
      "execution_count": 175,
      "metadata": {
        "colab": {
          "base_uri": "https://localhost:8080/"
        },
        "id": "kELJrh36jKxL",
        "outputId": "2de7fb65-c902-4eac-abb3-6630aabc4749"
      },
      "outputs": [
        {
          "output_type": "execute_result",
          "data": {
            "text/plain": [
              "6"
            ]
          },
          "metadata": {},
          "execution_count": 175
        }
      ],
      "source": [
        "len(set(text))"
      ]
    },
    {
      "cell_type": "code",
      "execution_count": 176,
      "metadata": {
        "colab": {
          "base_uri": "https://localhost:8080/"
        },
        "id": "nbh0lv9rjKxL",
        "outputId": "18084a85-072a-45d7-fa28-6ffeac996fb2"
      },
      "outputs": [
        {
          "output_type": "execute_result",
          "data": {
            "text/plain": [
              "4"
            ]
          },
          "metadata": {},
          "execution_count": 176
        }
      ],
      "source": [
        "len(set(word.lower() for word in text))"
      ]
    },
    {
      "cell_type": "code",
      "execution_count": null,
      "metadata": {
        "id": "UdROyoUajKxL"
      },
      "outputs": [],
      "source": []
    },
    {
      "cell_type": "markdown",
      "metadata": {
        "id": "E7BBOB7pjKxL"
      },
      "source": [
        "#### We can go a step further and eliminate numbers and punctuation from the vocabulary count by filtering out any non-alphabetic items:"
      ]
    },
    {
      "cell_type": "code",
      "execution_count": 177,
      "metadata": {
        "id": "qWj340-1jKxL"
      },
      "outputs": [],
      "source": [
        "V=set(word.lower() for word in text1 if word.isalpha())"
      ]
    },
    {
      "cell_type": "markdown",
      "metadata": {
        "id": "QycDpRPCjKxL"
      },
      "source": [
        "#### it lowercases all the purely alphabetic items."
      ]
    },
    {
      "cell_type": "code",
      "execution_count": null,
      "metadata": {
        "id": "XIgFnVwzjKxL"
      },
      "outputs": [],
      "source": [
        "# See code summary slides"
      ]
    },
    {
      "cell_type": "markdown",
      "metadata": {
        "id": "aqWqEGSLjKxM"
      },
      "source": [
        "#### Save the lab report as PDF and submit it to Brightspace."
      ]
    },
    {
      "cell_type": "markdown",
      "metadata": {
        "id": "AeMocItCjKxM"
      },
      "source": [
        "### Q and A"
      ]
    }
  ],
  "metadata": {
    "kernelspec": {
      "display_name": "Python 3",
      "language": "python",
      "name": "python3"
    },
    "language_info": {
      "codemirror_mode": {
        "name": "ipython",
        "version": 3
      },
      "file_extension": ".py",
      "mimetype": "text/x-python",
      "name": "python",
      "nbconvert_exporter": "python",
      "pygments_lexer": "ipython3",
      "version": "3.8.8"
    },
    "colab": {
      "provenance": [],
      "include_colab_link": true
    }
  },
  "nbformat": 4,
  "nbformat_minor": 0
}